{
 "cells": [
  {
   "cell_type": "markdown",
   "metadata": {},
   "source": [
    "# Fitting the Sklearn Model"
   ]
  },
  {
   "cell_type": "code",
   "execution_count": 2,
   "metadata": {},
   "outputs": [],
   "source": [
    "import pandas as pd\n",
    "import numpy as np\n",
    "from sklearn import linear_model\n",
    "from sklearn.metrics import r2_score\n",
    "from sklearn.metrics import mean_squared_error\n",
    "import statsmodels.api as sm \n",
    "from sklearn.model_selection import cross_val_score\n",
    "from sklearn.metrics import mean_squared_error"
   ]
  },
  {
   "cell_type": "code",
   "execution_count": 251,
   "metadata": {},
   "outputs": [],
   "source": [
    "df = pd.read_csv(\"/Users/mdbarshay/Desktop/401/Project 3/final.csv\", index_col=0)\n",
    "df = df.sample(frac = 1)\n",
    "X = df.iloc[:, :-1]\n",
    "y_per100k = df.iloc[:, -1] / 100000"
   ]
  },
  {
   "cell_type": "code",
   "execution_count": 222,
   "metadata": {},
   "outputs": [],
   "source": [
    "lm = linear_model.LinearRegression()\n",
    "model = lm.fit(X,y_per100k)"
   ]
  },
  {
   "cell_type": "code",
   "execution_count": 223,
   "metadata": {},
   "outputs": [
    {
     "data": {
      "text/plain": [
       "1.0"
      ]
     },
     "execution_count": 223,
     "metadata": {},
     "output_type": "execute_result"
    }
   ],
   "source": [
    "min(y_per100k)"
   ]
  },
  {
   "cell_type": "code",
   "execution_count": 224,
   "metadata": {},
   "outputs": [],
   "source": [
    "df_subset = df.iloc[:150,]"
   ]
  },
  {
   "cell_type": "code",
   "execution_count": 225,
   "metadata": {},
   "outputs": [],
   "source": [
    "X_sub = df_subset.iloc[:, :-1]\n",
    "y_per100k_sub = df_subset.iloc[:,-1] / 100000"
   ]
  },
  {
   "cell_type": "code",
   "execution_count": 226,
   "metadata": {},
   "outputs": [],
   "source": [
    "lm = linear_model.LinearRegression()\n",
    "model = lm.fit(X_sub,y_per100k_sub)"
   ]
  },
  {
   "cell_type": "code",
   "execution_count": 227,
   "metadata": {},
   "outputs": [
    {
     "data": {
      "text/plain": [
       "array([ 2.11228880e+01,  1.57508612e-01,  8.35762943e-01, -4.88400479e-01,\n",
       "        5.36411465e-01, -2.30547099e+00,  1.90961142e+01,  9.47139541e-01,\n",
       "       -2.80994559e+01,  1.25581918e+01,  1.87803459e-05,  2.52437165e+00,\n",
       "        3.48817758e-06, -1.85772758e+00,  4.02837486e-01,  1.16176233e-01,\n",
       "       -4.58315431e-01, -3.27069951e+00,  1.44223596e+00, -6.96937173e-01,\n",
       "       -6.45783597e-01,  3.93334766e+00,  1.53126176e+00,  4.12348043e-05,\n",
       "        7.00784897e-01,  2.75249726e-05, -6.74184644e-01, -2.22370196e+00,\n",
       "       -2.73018233e+00,  5.14218550e-05, -1.17170431e+00, -3.46612819e+00,\n",
       "       -8.29550144e-02, -7.07316471e+00,  1.99007431e-01,  8.59604618e-01,\n",
       "        7.09270985e-01, -3.95115577e+00,  7.62507393e+00, -2.56778664e+00,\n",
       "        2.42073668e+00, -5.06469373e+00,  1.38910154e-01, -2.54263606e+00,\n",
       "       -1.40824768e-04, -4.68613811e-01,  4.40880573e+00,  3.56017579e+00,\n",
       "       -3.94173541e+00, -1.55077092e+00])"
      ]
     },
     "execution_count": 227,
     "metadata": {},
     "output_type": "execute_result"
    }
   ],
   "source": [
    "model.coef_"
   ]
  },
  {
   "cell_type": "markdown",
   "metadata": {},
   "source": [
    "# Running Some Tests"
   ]
  },
  {
   "cell_type": "code",
   "execution_count": 228,
   "metadata": {},
   "outputs": [],
   "source": [
    "from sklearn.model_selection import train_test_split"
   ]
  },
  {
   "cell_type": "code",
   "execution_count": 252,
   "metadata": {},
   "outputs": [],
   "source": [
    "X_train, X_test, y_train, y_test = train_test_split(\n",
    "       X, y_per100k, test_size=0.2, random_state = 8)"
   ]
  },
  {
   "cell_type": "code",
   "execution_count": 253,
   "metadata": {},
   "outputs": [],
   "source": [
    "lm = linear_model.LinearRegression()\n",
    "model = lm.fit(X_train, y_train)"
   ]
  },
  {
   "cell_type": "code",
   "execution_count": 254,
   "metadata": {},
   "outputs": [],
   "source": [
    "preds = model.predict(X_test)"
   ]
  },
  {
   "cell_type": "code",
   "execution_count": 255,
   "metadata": {},
   "outputs": [
    {
     "data": {
      "text/plain": [
       "1482.684556745937"
      ]
     },
     "execution_count": 255,
     "metadata": {},
     "output_type": "execute_result"
    }
   ],
   "source": [
    "mean_squared_error(y_test, preds)"
   ]
  },
  {
   "cell_type": "code",
   "execution_count": 256,
   "metadata": {},
   "outputs": [],
   "source": [
    "preds = model.predict(X_train)"
   ]
  },
  {
   "cell_type": "code",
   "execution_count": 257,
   "metadata": {},
   "outputs": [
    {
     "data": {
      "text/plain": [
       "1444.006045608223"
      ]
     },
     "execution_count": 257,
     "metadata": {},
     "output_type": "execute_result"
    }
   ],
   "source": [
    "mean_squared_error(y_train, preds)"
   ]
  },
  {
   "cell_type": "markdown",
   "metadata": {},
   "source": [
    "# Validating the Model"
   ]
  },
  {
   "cell_type": "code",
   "execution_count": null,
   "metadata": {},
   "outputs": [],
   "source": []
  },
  {
   "cell_type": "code",
   "execution_count": 258,
   "metadata": {},
   "outputs": [],
   "source": [
    "res = cross_val_score(lm, X, y_per100k, scoring = \"neg_mean_squared_error\", cv = 7)"
   ]
  },
  {
   "cell_type": "code",
   "execution_count": 259,
   "metadata": {},
   "outputs": [
    {
     "data": {
      "text/plain": [
       "2312.8885319680635"
      ]
     },
     "execution_count": 259,
     "metadata": {},
     "output_type": "execute_result"
    }
   ],
   "source": [
    "-np.mean(res)"
   ]
  },
  {
   "cell_type": "code",
   "execution_count": 260,
   "metadata": {},
   "outputs": [
    {
     "data": {
      "text/plain": [
       "array([-1228.7447441 , -7929.5258192 , -1333.08858414, -1820.14171977,\n",
       "       -1389.64569905, -1417.10695833, -1071.96619919])"
      ]
     },
     "execution_count": 260,
     "metadata": {},
     "output_type": "execute_result"
    }
   ],
   "source": [
    "res"
   ]
  },
  {
   "cell_type": "code",
   "execution_count": 261,
   "metadata": {},
   "outputs": [
    {
     "data": {
      "text/plain": [
       "111111112"
      ]
     },
     "execution_count": 261,
     "metadata": {},
     "output_type": "execute_result"
    }
   ],
   "source": [
    "max(y)"
   ]
  },
  {
   "cell_type": "code",
   "execution_count": null,
   "metadata": {},
   "outputs": [],
   "source": []
  },
  {
   "cell_type": "markdown",
   "metadata": {},
   "source": [
    "# Testing the Scaled Variables"
   ]
  },
  {
   "cell_type": "code",
   "execution_count": 15,
   "metadata": {},
   "outputs": [],
   "source": [
    "scaled_X = pd.read_csv(\"/Users/mdbarshay/Desktop/401/Project 3/scaled_X.csv\", index_col= 0)\n",
    "centered_y_per100k = pd.read_csv(\"/Users/mdbarshay/Desktop/401/Project 3/centered_y_per100k.csv\", index_col= 0)"
   ]
  },
  {
   "cell_type": "code",
   "execution_count": 16,
   "metadata": {},
   "outputs": [
    {
     "data": {
      "text/html": [
       "<div>\n",
       "<style scoped>\n",
       "    .dataframe tbody tr th:only-of-type {\n",
       "        vertical-align: middle;\n",
       "    }\n",
       "\n",
       "    .dataframe tbody tr th {\n",
       "        vertical-align: top;\n",
       "    }\n",
       "\n",
       "    .dataframe thead th {\n",
       "        text-align: right;\n",
       "    }\n",
       "</style>\n",
       "<table border=\"1\" class=\"dataframe\">\n",
       "  <thead>\n",
       "    <tr style=\"text-align: right;\">\n",
       "      <th></th>\n",
       "      <th>0</th>\n",
       "      <th>1</th>\n",
       "      <th>2</th>\n",
       "      <th>3</th>\n",
       "      <th>4</th>\n",
       "      <th>5</th>\n",
       "      <th>6</th>\n",
       "      <th>7</th>\n",
       "      <th>8</th>\n",
       "      <th>9</th>\n",
       "      <th>...</th>\n",
       "      <th>40</th>\n",
       "      <th>41</th>\n",
       "      <th>42</th>\n",
       "      <th>43</th>\n",
       "      <th>44</th>\n",
       "      <th>45</th>\n",
       "      <th>46</th>\n",
       "      <th>47</th>\n",
       "      <th>48</th>\n",
       "      <th>49</th>\n",
       "    </tr>\n",
       "  </thead>\n",
       "  <tbody>\n",
       "    <tr>\n",
       "      <th>0</th>\n",
       "      <td>0.066649</td>\n",
       "      <td>-0.294748</td>\n",
       "      <td>-0.023969</td>\n",
       "      <td>0.034038</td>\n",
       "      <td>0.908233</td>\n",
       "      <td>-0.278918</td>\n",
       "      <td>-0.095952</td>\n",
       "      <td>0.010379</td>\n",
       "      <td>-0.086331</td>\n",
       "      <td>-0.142546</td>\n",
       "      <td>...</td>\n",
       "      <td>-0.421705</td>\n",
       "      <td>0.330978</td>\n",
       "      <td>-0.073118</td>\n",
       "      <td>0.920580</td>\n",
       "      <td>-0.336159</td>\n",
       "      <td>-0.413811</td>\n",
       "      <td>0.077752</td>\n",
       "      <td>0.095971</td>\n",
       "      <td>-0.220041</td>\n",
       "      <td>-0.604482</td>\n",
       "    </tr>\n",
       "    <tr>\n",
       "      <th>1</th>\n",
       "      <td>0.015887</td>\n",
       "      <td>-0.530807</td>\n",
       "      <td>0.278735</td>\n",
       "      <td>-0.072149</td>\n",
       "      <td>0.405772</td>\n",
       "      <td>-0.784964</td>\n",
       "      <td>-0.931313</td>\n",
       "      <td>0.118907</td>\n",
       "      <td>-0.886496</td>\n",
       "      <td>-0.826644</td>\n",
       "      <td>...</td>\n",
       "      <td>0.063018</td>\n",
       "      <td>-0.619798</td>\n",
       "      <td>-0.004582</td>\n",
       "      <td>-0.279008</td>\n",
       "      <td>-0.126632</td>\n",
       "      <td>1.633916</td>\n",
       "      <td>0.950831</td>\n",
       "      <td>-1.183867</td>\n",
       "      <td>-0.220041</td>\n",
       "      <td>-0.475756</td>\n",
       "    </tr>\n",
       "    <tr>\n",
       "      <th>2</th>\n",
       "      <td>-0.078184</td>\n",
       "      <td>-0.294748</td>\n",
       "      <td>0.300357</td>\n",
       "      <td>-0.019056</td>\n",
       "      <td>0.196414</td>\n",
       "      <td>-0.754744</td>\n",
       "      <td>-0.866170</td>\n",
       "      <td>-0.206677</td>\n",
       "      <td>-0.840674</td>\n",
       "      <td>-0.836319</td>\n",
       "      <td>...</td>\n",
       "      <td>-0.227816</td>\n",
       "      <td>-0.090003</td>\n",
       "      <td>-0.141655</td>\n",
       "      <td>0.620683</td>\n",
       "      <td>-0.466969</td>\n",
       "      <td>0.814825</td>\n",
       "      <td>0.659805</td>\n",
       "      <td>-0.715026</td>\n",
       "      <td>-0.220041</td>\n",
       "      <td>0.356329</td>\n",
       "    </tr>\n",
       "    <tr>\n",
       "      <th>3</th>\n",
       "      <td>0.304145</td>\n",
       "      <td>0.911775</td>\n",
       "      <td>-0.586135</td>\n",
       "      <td>-0.125243</td>\n",
       "      <td>-0.347919</td>\n",
       "      <td>0.050350</td>\n",
       "      <td>0.450796</td>\n",
       "      <td>0.335964</td>\n",
       "      <td>0.450254</td>\n",
       "      <td>0.429337</td>\n",
       "      <td>...</td>\n",
       "      <td>-0.421705</td>\n",
       "      <td>-0.075434</td>\n",
       "      <td>-0.381534</td>\n",
       "      <td>0.020889</td>\n",
       "      <td>-0.430591</td>\n",
       "      <td>-0.618584</td>\n",
       "      <td>1.532883</td>\n",
       "      <td>1.753575</td>\n",
       "      <td>-0.220041</td>\n",
       "      <td>-0.451686</td>\n",
       "    </tr>\n",
       "    <tr>\n",
       "      <th>4</th>\n",
       "      <td>1.341688</td>\n",
       "      <td>0.597030</td>\n",
       "      <td>3.067943</td>\n",
       "      <td>3.007286</td>\n",
       "      <td>3.504280</td>\n",
       "      <td>-1.560529</td>\n",
       "      <td>-1.734199</td>\n",
       "      <td>1.204189</td>\n",
       "      <td>-1.644687</td>\n",
       "      <td>-1.733142</td>\n",
       "      <td>...</td>\n",
       "      <td>3.989273</td>\n",
       "      <td>-0.827526</td>\n",
       "      <td>4.107623</td>\n",
       "      <td>1.220477</td>\n",
       "      <td>3.487494</td>\n",
       "      <td>1.633916</td>\n",
       "      <td>1.241857</td>\n",
       "      <td>-0.974873</td>\n",
       "      <td>1.788239</td>\n",
       "      <td>-0.697451</td>\n",
       "    </tr>\n",
       "    <tr>\n",
       "      <th>...</th>\n",
       "      <td>...</td>\n",
       "      <td>...</td>\n",
       "      <td>...</td>\n",
       "      <td>...</td>\n",
       "      <td>...</td>\n",
       "      <td>...</td>\n",
       "      <td>...</td>\n",
       "      <td>...</td>\n",
       "      <td>...</td>\n",
       "      <td>...</td>\n",
       "      <td>...</td>\n",
       "      <td>...</td>\n",
       "      <td>...</td>\n",
       "      <td>...</td>\n",
       "      <td>...</td>\n",
       "      <td>...</td>\n",
       "      <td>...</td>\n",
       "      <td>...</td>\n",
       "      <td>...</td>\n",
       "      <td>...</td>\n",
       "      <td>...</td>\n",
       "    </tr>\n",
       "    <tr>\n",
       "      <th>30287</th>\n",
       "      <td>0.119364</td>\n",
       "      <td>-0.268519</td>\n",
       "      <td>0.667927</td>\n",
       "      <td>0.458788</td>\n",
       "      <td>0.950105</td>\n",
       "      <td>-0.566509</td>\n",
       "      <td>-0.416841</td>\n",
       "      <td>0.553020</td>\n",
       "      <td>-0.403133</td>\n",
       "      <td>-0.458131</td>\n",
       "      <td>...</td>\n",
       "      <td>-0.324760</td>\n",
       "      <td>-0.106377</td>\n",
       "      <td>-0.004582</td>\n",
       "      <td>0.020889</td>\n",
       "      <td>0.250819</td>\n",
       "      <td>-0.004266</td>\n",
       "      <td>-0.213274</td>\n",
       "      <td>-0.393092</td>\n",
       "      <td>-0.220041</td>\n",
       "      <td>-0.375178</td>\n",
       "    </tr>\n",
       "    <tr>\n",
       "      <th>30288</th>\n",
       "      <td>2.913248</td>\n",
       "      <td>0.833088</td>\n",
       "      <td>2.549021</td>\n",
       "      <td>3.166567</td>\n",
       "      <td>2.499359</td>\n",
       "      <td>-1.619909</td>\n",
       "      <td>-1.589070</td>\n",
       "      <td>2.832112</td>\n",
       "      <td>-1.559120</td>\n",
       "      <td>-1.598955</td>\n",
       "      <td>...</td>\n",
       "      <td>3.553022</td>\n",
       "      <td>-0.378287</td>\n",
       "      <td>2.839693</td>\n",
       "      <td>1.520374</td>\n",
       "      <td>5.537799</td>\n",
       "      <td>1.838689</td>\n",
       "      <td>-0.213274</td>\n",
       "      <td>-1.041931</td>\n",
       "      <td>1.118813</td>\n",
       "      <td>-0.519953</td>\n",
       "    </tr>\n",
       "    <tr>\n",
       "      <th>30289</th>\n",
       "      <td>-1.277578</td>\n",
       "      <td>-0.242290</td>\n",
       "      <td>-0.910462</td>\n",
       "      <td>-0.762368</td>\n",
       "      <td>-1.101610</td>\n",
       "      <td>0.884172</td>\n",
       "      <td>0.753476</td>\n",
       "      <td>-0.749318</td>\n",
       "      <td>0.749941</td>\n",
       "      <td>0.766156</td>\n",
       "      <td>...</td>\n",
       "      <td>-0.373233</td>\n",
       "      <td>-0.172106</td>\n",
       "      <td>-0.450070</td>\n",
       "      <td>-0.878802</td>\n",
       "      <td>-0.466969</td>\n",
       "      <td>-1.028129</td>\n",
       "      <td>-1.377378</td>\n",
       "      <td>0.575177</td>\n",
       "      <td>-0.889468</td>\n",
       "      <td>-0.391182</td>\n",
       "    </tr>\n",
       "    <tr>\n",
       "      <th>30290</th>\n",
       "      <td>0.119364</td>\n",
       "      <td>0.256056</td>\n",
       "      <td>0.257114</td>\n",
       "      <td>0.671163</td>\n",
       "      <td>0.615131</td>\n",
       "      <td>-0.170254</td>\n",
       "      <td>-0.265199</td>\n",
       "      <td>0.878605</td>\n",
       "      <td>-0.276349</td>\n",
       "      <td>-0.241664</td>\n",
       "      <td>...</td>\n",
       "      <td>-0.227816</td>\n",
       "      <td>-0.733661</td>\n",
       "      <td>-0.312997</td>\n",
       "      <td>2.120168</td>\n",
       "      <td>-0.341960</td>\n",
       "      <td>0.200507</td>\n",
       "      <td>0.950831</td>\n",
       "      <td>-0.530474</td>\n",
       "      <td>0.449386</td>\n",
       "      <td>-0.221256</td>\n",
       "    </tr>\n",
       "    <tr>\n",
       "      <th>30291</th>\n",
       "      <td>0.119364</td>\n",
       "      <td>-0.294748</td>\n",
       "      <td>0.019274</td>\n",
       "      <td>0.299507</td>\n",
       "      <td>-0.347919</td>\n",
       "      <td>-0.480603</td>\n",
       "      <td>-0.525844</td>\n",
       "      <td>0.227436</td>\n",
       "      <td>-0.500603</td>\n",
       "      <td>-0.567965</td>\n",
       "      <td>...</td>\n",
       "      <td>0.014546</td>\n",
       "      <td>-0.595702</td>\n",
       "      <td>-0.278729</td>\n",
       "      <td>0.020889</td>\n",
       "      <td>-0.466969</td>\n",
       "      <td>0.814825</td>\n",
       "      <td>-0.213274</td>\n",
       "      <td>-1.295253</td>\n",
       "      <td>0.449386</td>\n",
       "      <td>-0.659148</td>\n",
       "    </tr>\n",
       "  </tbody>\n",
       "</table>\n",
       "<p>30292 rows × 50 columns</p>\n",
       "</div>"
      ],
      "text/plain": [
       "              0         1         2         3         4         5         6  \\\n",
       "0      0.066649 -0.294748 -0.023969  0.034038  0.908233 -0.278918 -0.095952   \n",
       "1      0.015887 -0.530807  0.278735 -0.072149  0.405772 -0.784964 -0.931313   \n",
       "2     -0.078184 -0.294748  0.300357 -0.019056  0.196414 -0.754744 -0.866170   \n",
       "3      0.304145  0.911775 -0.586135 -0.125243 -0.347919  0.050350  0.450796   \n",
       "4      1.341688  0.597030  3.067943  3.007286  3.504280 -1.560529 -1.734199   \n",
       "...         ...       ...       ...       ...       ...       ...       ...   \n",
       "30287  0.119364 -0.268519  0.667927  0.458788  0.950105 -0.566509 -0.416841   \n",
       "30288  2.913248  0.833088  2.549021  3.166567  2.499359 -1.619909 -1.589070   \n",
       "30289 -1.277578 -0.242290 -0.910462 -0.762368 -1.101610  0.884172  0.753476   \n",
       "30290  0.119364  0.256056  0.257114  0.671163  0.615131 -0.170254 -0.265199   \n",
       "30291  0.119364 -0.294748  0.019274  0.299507 -0.347919 -0.480603 -0.525844   \n",
       "\n",
       "              7         8         9  ...        40        41        42  \\\n",
       "0      0.010379 -0.086331 -0.142546  ... -0.421705  0.330978 -0.073118   \n",
       "1      0.118907 -0.886496 -0.826644  ...  0.063018 -0.619798 -0.004582   \n",
       "2     -0.206677 -0.840674 -0.836319  ... -0.227816 -0.090003 -0.141655   \n",
       "3      0.335964  0.450254  0.429337  ... -0.421705 -0.075434 -0.381534   \n",
       "4      1.204189 -1.644687 -1.733142  ...  3.989273 -0.827526  4.107623   \n",
       "...         ...       ...       ...  ...       ...       ...       ...   \n",
       "30287  0.553020 -0.403133 -0.458131  ... -0.324760 -0.106377 -0.004582   \n",
       "30288  2.832112 -1.559120 -1.598955  ...  3.553022 -0.378287  2.839693   \n",
       "30289 -0.749318  0.749941  0.766156  ... -0.373233 -0.172106 -0.450070   \n",
       "30290  0.878605 -0.276349 -0.241664  ... -0.227816 -0.733661 -0.312997   \n",
       "30291  0.227436 -0.500603 -0.567965  ...  0.014546 -0.595702 -0.278729   \n",
       "\n",
       "             43        44        45        46        47        48        49  \n",
       "0      0.920580 -0.336159 -0.413811  0.077752  0.095971 -0.220041 -0.604482  \n",
       "1     -0.279008 -0.126632  1.633916  0.950831 -1.183867 -0.220041 -0.475756  \n",
       "2      0.620683 -0.466969  0.814825  0.659805 -0.715026 -0.220041  0.356329  \n",
       "3      0.020889 -0.430591 -0.618584  1.532883  1.753575 -0.220041 -0.451686  \n",
       "4      1.220477  3.487494  1.633916  1.241857 -0.974873  1.788239 -0.697451  \n",
       "...         ...       ...       ...       ...       ...       ...       ...  \n",
       "30287  0.020889  0.250819 -0.004266 -0.213274 -0.393092 -0.220041 -0.375178  \n",
       "30288  1.520374  5.537799  1.838689 -0.213274 -1.041931  1.118813 -0.519953  \n",
       "30289 -0.878802 -0.466969 -1.028129 -1.377378  0.575177 -0.889468 -0.391182  \n",
       "30290  2.120168 -0.341960  0.200507  0.950831 -0.530474  0.449386 -0.221256  \n",
       "30291  0.020889 -0.466969  0.814825 -0.213274 -1.295253  0.449386 -0.659148  \n",
       "\n",
       "[30292 rows x 50 columns]"
      ]
     },
     "execution_count": 16,
     "metadata": {},
     "output_type": "execute_result"
    }
   ],
   "source": [
    "scaled_X"
   ]
  },
  {
   "cell_type": "code",
   "execution_count": 17,
   "metadata": {},
   "outputs": [
    {
     "data": {
      "text/html": [
       "<div>\n",
       "<style scoped>\n",
       "    .dataframe tbody tr th:only-of-type {\n",
       "        vertical-align: middle;\n",
       "    }\n",
       "\n",
       "    .dataframe tbody tr th {\n",
       "        vertical-align: top;\n",
       "    }\n",
       "\n",
       "    .dataframe thead th {\n",
       "        text-align: right;\n",
       "    }\n",
       "</style>\n",
       "<table border=\"1\" class=\"dataframe\">\n",
       "  <thead>\n",
       "    <tr style=\"text-align: right;\">\n",
       "      <th></th>\n",
       "      <th>price_doc</th>\n",
       "    </tr>\n",
       "  </thead>\n",
       "  <tbody>\n",
       "    <tr>\n",
       "      <th>0</th>\n",
       "      <td>-12.979129</td>\n",
       "    </tr>\n",
       "    <tr>\n",
       "      <th>1</th>\n",
       "      <td>-11.479129</td>\n",
       "    </tr>\n",
       "    <tr>\n",
       "      <th>2</th>\n",
       "      <td>-14.479129</td>\n",
       "    </tr>\n",
       "    <tr>\n",
       "      <th>3</th>\n",
       "      <td>59.520871</td>\n",
       "    </tr>\n",
       "    <tr>\n",
       "      <th>4</th>\n",
       "      <td>91.835391</td>\n",
       "    </tr>\n",
       "    <tr>\n",
       "      <th>...</th>\n",
       "      <td>...</td>\n",
       "    </tr>\n",
       "    <tr>\n",
       "      <th>30287</th>\n",
       "      <td>2.520871</td>\n",
       "    </tr>\n",
       "    <tr>\n",
       "      <th>30288</th>\n",
       "      <td>178.520871</td>\n",
       "    </tr>\n",
       "    <tr>\n",
       "      <th>30289</th>\n",
       "      <td>-1.769539</td>\n",
       "    </tr>\n",
       "    <tr>\n",
       "      <th>30290</th>\n",
       "      <td>63.520871</td>\n",
       "    </tr>\n",
       "    <tr>\n",
       "      <th>30291</th>\n",
       "      <td>-15.479129</td>\n",
       "    </tr>\n",
       "  </tbody>\n",
       "</table>\n",
       "<p>30292 rows × 1 columns</p>\n",
       "</div>"
      ],
      "text/plain": [
       "        price_doc\n",
       "0      -12.979129\n",
       "1      -11.479129\n",
       "2      -14.479129\n",
       "3       59.520871\n",
       "4       91.835391\n",
       "...           ...\n",
       "30287    2.520871\n",
       "30288  178.520871\n",
       "30289   -1.769539\n",
       "30290   63.520871\n",
       "30291  -15.479129\n",
       "\n",
       "[30292 rows x 1 columns]"
      ]
     },
     "execution_count": 17,
     "metadata": {},
     "output_type": "execute_result"
    }
   ],
   "source": [
    "centered_y_per100k"
   ]
  },
  {
   "cell_type": "code",
   "execution_count": 18,
   "metadata": {},
   "outputs": [],
   "source": [
    "lm = linear_model.LinearRegression()\n",
    "res = cross_val_score(lm, scaled_X, centered_y_per100k, scoring = \"neg_mean_squared_error\", cv = 5)"
   ]
  },
  {
   "cell_type": "code",
   "execution_count": 19,
   "metadata": {},
   "outputs": [
    {
     "data": {
      "text/plain": [
       "2817.7455042858064"
      ]
     },
     "execution_count": 19,
     "metadata": {},
     "output_type": "execute_result"
    }
   ],
   "source": [
    "-np.mean(res)"
   ]
  },
  {
   "cell_type": "code",
   "execution_count": null,
   "metadata": {},
   "outputs": [],
   "source": []
  }
 ],
 "metadata": {
  "kernelspec": {
   "display_name": "Python 3",
   "language": "python",
   "name": "python3"
  },
  "language_info": {
   "codemirror_mode": {
    "name": "ipython",
    "version": 3
   },
   "file_extension": ".py",
   "mimetype": "text/x-python",
   "name": "python",
   "nbconvert_exporter": "python",
   "pygments_lexer": "ipython3",
   "version": "3.8.5"
  }
 },
 "nbformat": 4,
 "nbformat_minor": 4
}
