{
 "cells": [
  {
   "cell_type": "markdown",
   "metadata": {},
   "source": [
    "### Neural Network Code\n",
    "\n",
    "The only functions of importance when being used are `fit` and `predict`, which can be used like almost any model in \n",
    "`scikit-learn`. \n",
    "\n",
    "Everything else is a helper method, and `Layer` is a helper class. I have included comments on how this code works. Please delete the sections marked delete after you understand them. I'll modify this file and my notes to you guys shortly before submission as well.\n",
    "\n",
    "Things to note:\n",
    "- `nodes` can be either an array or a single number. If you give an array, it must be the same length as `layers`\n",
    "- `activation` can only be a function. This implementation does not accept multiple activation functions\n",
    "- `loss` must return an nx1 array, and must assume its inputs are also nx1\n",
    "- Both `activation` and `loss` must have the parameter `derivative`, where when set to true, returns the derivative given the inputs it receives\n",
    "- The print_iter argument in fit allows to see what number error we are appending to the error array as an estimation of time left in a non_cluttering manner.\n",
    "\n",
    "- Please look at my example down below if you want to write a custom function, but I already implemented the functions that Professor Ventura said was best for this project\n"
   ]
  },
  {
   "cell_type": "code",
   "execution_count": 45,
   "metadata": {},
   "outputs": [],
   "source": [
    "import numpy as np\n",
    "import pandas as pd\n",
    "import math\n",
    "import sys"
   ]
  },
  {
   "cell_type": "code",
   "execution_count": 46,
   "metadata": {},
   "outputs": [],
   "source": [
    "class Layer:\n",
    "    # essentially a container to hold stored values across layers in forward propogation\n",
    "    def __init__(self, h_x = None, sigma_h_x = None):\n",
    "        self.h_x = h_x\n",
    "        self.sigma_h_x = sigma_h_x\n",
    "\n",
    "\n",
    "class NeuralNetwork:\n",
    "    \n",
    "    def __init__(self, layers, nodes, activation, loss, learning_rate, batch_size):\n",
    "        \n",
    "        # number of hidden layers we are creating\n",
    "        self.num_layers = layers\n",
    "        \n",
    "        # number of nodes at each layer\n",
    "        self.nodes = self._create_nodes(nodes,layers)\n",
    "        \n",
    "        # activation function\n",
    "        self.sigma = activation\n",
    "                \n",
    "        # loss function\n",
    "        self.loss = loss\n",
    "        \n",
    "        # learning rate for stochastic gradient descent\n",
    "        self.lr = learning_rate\n",
    "        \n",
    "        # batch size for stochastic gradient descent\n",
    "        self.batch_size = batch_size\n",
    "\n",
    "        # after fit, will contain a dictionary of weights for the layers\n",
    "        self.weight_dict = None\n",
    "        \n",
    "        # store values for backwards propagation\n",
    "        self.stored = None\n",
    "\n",
    "        \n",
    "    def _create_nodes(self, nodes, layers):\n",
    "        # if given a number, creates an array with layers amount of nodes\n",
    "        # otherwise returns the array of nodes\n",
    "        # in both cases increments by 1 to account for bias\n",
    "        if isinstance(nodes, int):\n",
    "            return [nodes]*(layers)\n",
    "        \n",
    "        else:\n",
    "            if len(nodes) != self.num_layers:\n",
    "                raise Exception(\"Node array length does not match number of layers\")\n",
    "            return nodes\n",
    "        \n",
    "    def _create_weights(self, num_features):\n",
    "        # generates a dictionary of initial weights in fit\n",
    "        # delete below if you understand this\n",
    "        # first layer is num_features x num nodes[0]\n",
    "        # middle layers are nodes[i-1] x nodes[i]\n",
    "        # last layers is num_nodes[num_layers-1](represents last layer) x1 (output)\n",
    "        \n",
    "        self.weight_dict = {\n",
    "            0: np.random.rand(num_features, self.nodes[0])\n",
    "        }\n",
    "        \n",
    "        for i in range(1,self.num_layers):\n",
    "            self.weight_dict[i] = np.random.rand(self.nodes[i-1], self.nodes[i])\n",
    "            \n",
    "        self.weight_dict[self.num_layers] = np.random.rand(self.nodes[self.num_layers-1], 1)\n",
    "\n",
    "    def _forward_propagation(self, X, y):\n",
    "        # performs forward_propagation and stores appropriate values\n",
    "        \n",
    "        sigma_h_x = X\n",
    "        self.stored = {}\n",
    "        self.stored[-1] = Layer(None, sigma_h_x)\n",
    "        \n",
    "        for i in range(0,self.num_layers):\n",
    "            h_x = sigma_h_x @ self.weight_dict[i] \n",
    "            sigma_h_x = self.sigma(h_x) \n",
    "            self.stored[i] = Layer(h_x, sigma_h_x)\n",
    "        \n",
    "        z_sigma_h_x = sigma_h_x @ self.weight_dict[self.num_layers]\n",
    "        self.stored[self.num_layers] = Layer(z_sigma_h_x)\n",
    "        \n",
    "        # average loss\n",
    "        return np.sum(self.loss(z_sigma_h_x, y))/self.batch_size \n",
    "    \n",
    "        \"\"\"\n",
    "        2 hidden layer example DELETE IF YOU UNDERSTAND\n",
    "        dictkey in self.stored: [layer.h_x, layer.sigma_h_x]\n",
    "        -1:[None, x]\n",
    "        0: [h1(x), sigma(h1(x))] #X to h1\n",
    "        1: [h2(sigma(h1(x))), sigma(h2(sigma(h1(x))))] #h1 to h2 [bxn], [bxn]\n",
    "        2: [z(sigma(h2(sigma(h1(x)))))] #h2 to y [nx1]\n",
    "        \"\"\"\n",
    "    def _backward_propagation(self, X,y):\n",
    "        # updates the weights based on the stored values from forward propagation\n",
    "        \n",
    "        num_layers = self.num_layers\n",
    "        expected = self.stored[self.num_layers].h_x #z(sigma(h2(sigma(h1(x)))))\n",
    "        \n",
    "        # dL/dz(z(sigma(h2(sigma(h1(x))))))\n",
    "        J = self.loss(expected, y, derivative = True)\n",
    "        \n",
    "        old_weights = self.weight_dict[num_layers] \n",
    "        self.weight_dict[num_layers] = self.weight_dict[num_layers] - self.lr*(self.stored[num_layers-1].sigma_h_x.T @ J)\n",
    "        # dz/dsigma(sigma(h2(sigma(h1(x)))))\n",
    "        \n",
    "        for i in range(self.num_layers-1,-1,-1):\n",
    "            \n",
    "            J = J * self.sigma(self.stored[i].h_x, derivative = True) # activation layer derivative\n",
    "            \n",
    "            old_weights = self.weight_dict[i][1:,:] #r removing the intercept column of prev weights when creating the jacobian\n",
    "            self.weight_dict[i] = self.weight_dict[i] - self.lr*(self.stored[i-1].sigma_h_x.T @ J) # weight update\n",
    "            \n",
    "            J = J @ old_weights.T  # dense layer derivative\n",
    "            \n",
    "\n",
    "    def _stochastic_gradient_descent(self, X, y, num_epochs, print_iter):\n",
    "        \n",
    "        num_batches = math.ceil(X.shape[0]/self.batch_size)\n",
    "        avg_err_arr = [np.nan]*(num_epochs * num_batches)\n",
    "        \n",
    "        err_count = 0\n",
    "        \n",
    "        for i in range(0, num_epochs):\n",
    "            \n",
    "            indices = np.random.choice(X.shape[0], X.shape[0], replace=False)\n",
    "            x_batch = X[indices]\n",
    "            y_batch =y[indices]\n",
    "            \n",
    "            old_start = 0\n",
    "            new_start = 0\n",
    "            new_end = self.batch_size\n",
    "            \n",
    "            avg_err_arr[err_count] = self._forward_propagation(x_batch[new_start:new_end],y_batch[new_start:new_end])\n",
    "            err_count+=1\n",
    "            \n",
    "            for j in range(1,num_batches):\n",
    "                old_start = new_start\n",
    "                new_start = old_start + self.batch_size\n",
    "                new_end = new_start+self.batch_size\n",
    "                \n",
    "                self._backward_propagation(x_batch[old_start:new_start], y_batch[old_start:new_start])\n",
    "                avg_err_arr[err_count] = self._forward_propagation(x_batch[new_start:new_end],y_batch[new_start:new_end])\n",
    "                err_count+=1\n",
    "                \n",
    "                if print_iter:\n",
    "                    sys.stdout.write(\"\\r\" +  str(err_count))\n",
    "                    sys.stdout.flush()\n",
    "                    \n",
    "            self._backward_propagation(x_batch[new_start:new_end],y_batch[new_start:new_end])\n",
    "\n",
    "        return avg_err_arr\n",
    "        \n",
    "    \n",
    "    def fit(self, X,y, num_epochs = 10, print_iter = False):\n",
    "        # X is either a numpy array or a dataframe without the target and intercept\n",
    "        # y is either a pandas series or a 1d (potentially numpy) array\n",
    "        # returns a list of the average loss for each iteration\n",
    "        # if print iter is true, prints the current iteration (will be written on a single line, not multiple)\n",
    "        \n",
    "        if isinstance(X, pd.DataFrame):\n",
    "            X = X.to_numpy()\n",
    "            \n",
    "        if isinstance(y, pd.Series):\n",
    "            y = y.to_numpy()\n",
    "        \n",
    "        # add intercept to X\n",
    "        X = np.hstack([np.ones(len(X))[:, np.newaxis], X])  \n",
    "        y = np.array([y]).T # makes it easier to calculate loss\n",
    "        \n",
    "        # generate the random weights for every layer in neural network\n",
    "        self._create_weights(X.shape[1])\n",
    "        \n",
    "        \n",
    "        return self._stochastic_gradient_descent(X,y,num_epochs, print_iter)\n",
    "    \n",
    "\n",
    "    def predict(self, X):\n",
    "        # does a single forward propagation without saving any values\n",
    "        # returns a 1xn array of predictions\n",
    "        sigma_h_x = np.hstack([np.ones(len(X))[:, np.newaxis], X])  \n",
    "        \n",
    "        for i in range(0,self.num_layers):\n",
    "            h_x = sigma_h_x @ self.weight_dict[i]\n",
    "            sigma_h_x = self.sigma(h_x) \n",
    "        \n",
    "        z_sigma_h_x = sigma_h_x @ self.weight_dict[self.num_layers]\n",
    "        return z_sigma_h_x.T[0]\n",
    "        "
   ]
  },
  {
   "cell_type": "markdown",
   "metadata": {},
   "source": [
    "### Sample Loss and Activation Function\n",
    "\n",
    "You can use it like so:\n",
    "\n",
    "```\n",
    "test_nn = NeuralNetwork(layers, nodes, activation=ReLU, loss=L2_loss, learning_rate, batch_size)\n",
    "```\n",
    "Just simply enter the name of the function."
   ]
  },
  {
   "cell_type": "code",
   "execution_count": 47,
   "metadata": {},
   "outputs": [],
   "source": [
    "# loss and activation function to use in \n",
    "\n",
    "def L2_loss(x,y, derivative = False):\n",
    "    # assumes y is nx1 vector (n rows, 1 col)\n",
    "    # returns an nx1 matrix\n",
    "    if derivative:\n",
    "        return x-y\n",
    "    else:\n",
    "        return 0.5*((x-y)**2)\n",
    "        \n",
    "def ReLU(X, derivative = False):\n",
    "    if derivative:\n",
    "        # faster than np.where\n",
    "        return np.greater(X, 0).astype(int)\n",
    "    return np.maximum(X,0)"
   ]
  },
  {
   "cell_type": "markdown",
   "metadata": {},
   "source": [
    "### Testing on Iris Dataset"
   ]
  },
  {
   "cell_type": "code",
   "execution_count": 48,
   "metadata": {},
   "outputs": [
    {
     "data": {
      "text/html": [
       "<div>\n",
       "<style scoped>\n",
       "    .dataframe tbody tr th:only-of-type {\n",
       "        vertical-align: middle;\n",
       "    }\n",
       "\n",
       "    .dataframe tbody tr th {\n",
       "        vertical-align: top;\n",
       "    }\n",
       "\n",
       "    .dataframe thead th {\n",
       "        text-align: right;\n",
       "    }\n",
       "</style>\n",
       "<table border=\"1\" class=\"dataframe\">\n",
       "  <thead>\n",
       "    <tr style=\"text-align: right;\">\n",
       "      <th></th>\n",
       "      <th>sepal width (cm)</th>\n",
       "      <th>petal length (cm)</th>\n",
       "      <th>petal width (cm)</th>\n",
       "      <th>target</th>\n",
       "    </tr>\n",
       "  </thead>\n",
       "  <tbody>\n",
       "    <tr>\n",
       "      <td>0</td>\n",
       "      <td>3.5</td>\n",
       "      <td>1.4</td>\n",
       "      <td>0.2</td>\n",
       "      <td>5.1</td>\n",
       "    </tr>\n",
       "    <tr>\n",
       "      <td>1</td>\n",
       "      <td>3.0</td>\n",
       "      <td>1.4</td>\n",
       "      <td>0.2</td>\n",
       "      <td>4.9</td>\n",
       "    </tr>\n",
       "    <tr>\n",
       "      <td>2</td>\n",
       "      <td>3.2</td>\n",
       "      <td>1.3</td>\n",
       "      <td>0.2</td>\n",
       "      <td>4.7</td>\n",
       "    </tr>\n",
       "    <tr>\n",
       "      <td>3</td>\n",
       "      <td>3.1</td>\n",
       "      <td>1.5</td>\n",
       "      <td>0.2</td>\n",
       "      <td>4.6</td>\n",
       "    </tr>\n",
       "    <tr>\n",
       "      <td>4</td>\n",
       "      <td>3.6</td>\n",
       "      <td>1.4</td>\n",
       "      <td>0.2</td>\n",
       "      <td>5.0</td>\n",
       "    </tr>\n",
       "  </tbody>\n",
       "</table>\n",
       "</div>"
      ],
      "text/plain": [
       "   sepal width (cm)  petal length (cm)  petal width (cm)  target\n",
       "0               3.5                1.4               0.2     5.1\n",
       "1               3.0                1.4               0.2     4.9\n",
       "2               3.2                1.3               0.2     4.7\n",
       "3               3.1                1.5               0.2     4.6\n",
       "4               3.6                1.4               0.2     5.0"
      ]
     },
     "execution_count": 48,
     "metadata": {},
     "output_type": "execute_result"
    }
   ],
   "source": [
    "import sklearn.datasets\n",
    "data = sklearn.datasets.load_iris()\n",
    "df = pd.DataFrame(data.data, columns=data.feature_names)\n",
    "df[\"target\"] = df[\"sepal length (cm)\"]\n",
    "df = df.drop(\"sepal length (cm)\", axis = 1)\n",
    "df.head()"
   ]
  },
  {
   "cell_type": "code",
   "execution_count": 49,
   "metadata": {},
   "outputs": [
    {
     "data": {
      "text/plain": [
       "(150, 4)"
      ]
     },
     "execution_count": 49,
     "metadata": {},
     "output_type": "execute_result"
    }
   ],
   "source": [
    "df.shape"
   ]
  },
  {
   "cell_type": "code",
   "execution_count": 50,
   "metadata": {},
   "outputs": [
    {
     "data": {
      "text/plain": [
       "(5.8, 5.843333333333335, 0.8280661279778629)"
      ]
     },
     "execution_count": 50,
     "metadata": {},
     "output_type": "execute_result"
    }
   ],
   "source": [
    "df.target.median(),df.target.mean(),df.target.std()"
   ]
  },
  {
   "cell_type": "code",
   "execution_count": 51,
   "metadata": {},
   "outputs": [
    {
     "data": {
      "text/plain": [
       "(4.3, 7.9)"
      ]
     },
     "execution_count": 51,
     "metadata": {},
     "output_type": "execute_result"
    }
   ],
   "source": [
    "df.target.min(),df.target.max()"
   ]
  },
  {
   "cell_type": "code",
   "execution_count": 59,
   "metadata": {},
   "outputs": [
    {
     "name": "stdout",
     "output_type": "stream",
     "text": [
      "100"
     ]
    }
   ],
   "source": [
    "layers = 1\n",
    "nodes = 3\n",
    "activation = ReLU\n",
    "loss = L2_loss\n",
    "learning_rate = 0.0001\n",
    "batch_size = 30\n",
    "num_epochs = 20\n",
    "num_runs = math.ceil(df.shape[0]/batch_size)* num_epochs\n",
    "\n",
    "test_nn = NeuralNetwork(layers, nodes, activation, loss, learning_rate, batch_size)\n",
    "\n",
    "errs = test_nn.fit(df.drop(\"target\",axis=1),df[\"target\"], num_epochs = num_epochs, print_iter = True)"
   ]
  },
  {
   "cell_type": "code",
   "execution_count": 60,
   "metadata": {},
   "outputs": [
    {
     "data": {
      "text/plain": [
       "0.23349876874591452"
      ]
     },
     "execution_count": 60,
     "metadata": {},
     "output_type": "execute_result"
    }
   ],
   "source": [
    "samp_size = 50\n",
    "samp = df.sample(n=samp_size)\n",
    "\n",
    "\n",
    "preds = test_nn.predict(samp.drop(\"target\",axis=1))\n",
    "mse = ((preds -samp.target)**2).sum()/samp_size\n",
    "mse"
   ]
  },
  {
   "cell_type": "code",
   "execution_count": 61,
   "metadata": {},
   "outputs": [
    {
     "data": {
      "text/plain": [
       "[<matplotlib.lines.Line2D at 0x1dfa41c1e48>]"
      ]
     },
     "execution_count": 61,
     "metadata": {},
     "output_type": "execute_result"
    },
    {
     "data": {
      "image/png": "[encoded data removed]",
      "text/plain": [
       "<Figure size 432x288 with 1 Axes>"
      ]
     },
     "metadata": {
      "needs_background": "light"
     },
     "output_type": "display_data"
    }
   ],
   "source": [
    "%matplotlib inline\n",
    "import matplotlib.pyplot as plt\n",
    "\n",
    "fig = plt.figure()\n",
    "ax = plt.axes()\n",
    "\n",
    "x = np.linspace(0, 10, 1000)\n",
    "ax.plot([i for i in range(0,num_runs)], errs)"
   ]
  }
 ],
 "metadata": {
  "kernelspec": {
   "display_name": "Python 3",
   "language": "python",
   "name": "python3"
  },
  "language_info": {
   "codemirror_mode": {
    "name": "ipython",
    "version": 3
   },
   "file_extension": ".py",
   "mimetype": "text/x-python",
   "name": "python",
   "nbconvert_exporter": "python",
   "pygments_lexer": "ipython3",
   "version": "3.7.4"
  }
 },
 "nbformat": 4,
 "nbformat_minor": 2
}
