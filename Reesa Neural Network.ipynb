{
 "cells": [
  {
   "cell_type": "markdown",
   "metadata": {},
   "source": [
    "### Neural Network Code\n",
    "\n",
    "The only functions of importance when being used are `fit` and `predict`, which can be used like almost any model in \n",
    "`scikit-learn`. \n",
    "\n",
    "Everything else is a helper method, and `Layer` is a helper class. I have included comments on how this code works. Please delete the sections marked delete after you understand them. I'll modify this file and my notes to you guys shortly before submission as well.\n",
    "\n",
    "Things to note:\n",
    "- `nodes` can be either an array or a single number. If you give an array, it must be the same length as `layers`\n",
    "- `activation` can only be a function. This implementation does not accept multiple activation functions\n",
    "- `loss` must return an nx1 array, and must assume its inputs are also nx1\n",
    "- Both `activation` and `loss` must have the parameter `derivative`, where when set to true, returns the derivative given the inputs it receives\n",
    "- The print_iter argument in fit allows to see what number error we are appending to the error array as an estimation of time left in a non_cluttering manner.\n",
    "\n",
    "- Please look at my example down below if you want to write a custom function, but I already implemented the functions that Professor Ventura said was best for this project\n"
   ]
  },
  {
   "cell_type": "code",
   "execution_count": 8,
   "metadata": {},
   "outputs": [],
   "source": [
    "import numpy as np\n",
    "import pandas as pd\n",
    "import math\n",
    "import sys"
   ]
  },
  {
   "cell_type": "code",
   "execution_count": 361,
   "metadata": {},
   "outputs": [],
   "source": [
    "class Layer:\n",
    "    # essentially a container to hold stored values across layers in forward propogation\n",
    "    def __init__(self, h_x = None, sigma_h_x = None):\n",
    "        self.h_x = h_x\n",
    "        self.sigma_h_x = sigma_h_x\n",
    "\n",
    "\n",
    "class NeuralNetwork:\n",
    "    \n",
    "    def __init__(self, layers, nodes, activation, loss, learning_rate, batch_size, anneal):\n",
    "        \n",
    "        # number of hidden layers we are creating\n",
    "        self.num_layers = layers\n",
    "        \n",
    "        # number of nodes at each layer\n",
    "        self.nodes = self._create_nodes(nodes,layers)\n",
    "        \n",
    "        # activation function\n",
    "        self.sigma = activation\n",
    "                \n",
    "        # loss function\n",
    "        self.loss = loss\n",
    "        \n",
    "        # learning rate for stochastic gradient descent\n",
    "        self.lr = learning_rate\n",
    "        self.true_lr = learning_rate\n",
    "        # batch size for stochastic gradient descent\n",
    "        self.batch_size = batch_size\n",
    "\n",
    "        # after fit, will contain a dictionary of weights for the layers\n",
    "        self.weight_dict = None\n",
    "        \n",
    "        # store values for backwards propagation\n",
    "        self.stored = None\n",
    "        \n",
    "        self.anneal = anneal\n",
    "\n",
    "        \n",
    "    def _create_nodes(self, nodes, layers):\n",
    "        # if given a number, creates an array with layers amount of nodes\n",
    "        # otherwise returns the array of nodes\n",
    "        # in both cases increments by 1 to account for bias\n",
    "        if isinstance(nodes, int):\n",
    "            return [nodes]*(layers)\n",
    "        \n",
    "        else:\n",
    "            if len(nodes) != self.num_layers:\n",
    "                raise Exception(\"Node array length does not match number of layers\")\n",
    "            return nodes\n",
    "        \n",
    "    def _create_weights(self,  num_features):\n",
    "        \n",
    "        zero_weight = np.random.normal(scale=math.sqrt(2/num_features) ,size=(num_features,self.nodes[0]))\n",
    "\n",
    "        self.weight_dict = {\n",
    "            \n",
    "            0: np.vstack((np.zeros(self.nodes[0]),zero_weight))\n",
    "        }\n",
    "        \n",
    "        for i in range(1,self.num_layers):\n",
    "            \n",
    "            weight = np.random.normal(scale=math.sqrt(2/num_features) ,size=(self.nodes[i-1],self.nodes[i]))\n",
    "            self.weight_dict[i] = np.vstack((np.zeros(self.nodes[i]), weight))\n",
    "            \n",
    "        weight = np.random.normal(scale=math.sqrt(2/num_features) ,size=(self.nodes[self.num_layers-1],1))\n",
    "        self.weight_dict[self.num_layers] = np.vstack((np.zeros(1), weight))\n",
    "\n",
    "\n",
    "    def _forward_propagation(self, X, y):\n",
    "        # performs forward_propagation and stores appropriate values\n",
    "        \n",
    "        sigma_h_x = X\n",
    "        self.stored = {}\n",
    "        self.stored[-1] = Layer(None, sigma_h_x)\n",
    "        \n",
    "        for i in range(0,self.num_layers):\n",
    "            sigma_h_x = np.hstack([np.ones(len(sigma_h_x ))[:, np.newaxis], sigma_h_x]) # adds a weight intercept to the front  \n",
    "            h_x = sigma_h_x @ self.weight_dict[i] \n",
    "            sigma_h_x = self.sigma(h_x) \n",
    "            self.stored[i] = Layer(h_x, sigma_h_x)\n",
    "            \n",
    "        sigma_h_x = np.hstack([np.ones(len(sigma_h_x))[:, np.newaxis], sigma_h_x])\n",
    "        z_sigma_h_x = sigma_h_x @ self.weight_dict[self.num_layers]\n",
    "        self.stored[self.num_layers] = Layer(z_sigma_h_x)\n",
    "        \n",
    "        return np.sum(self.loss(z_sigma_h_x, y))/self.batch_size \n",
    "\n",
    "    def _backward_propagation(self, X,y):\n",
    "        # updates the weights based on the stored values from forward propagation\n",
    "        \n",
    "        num_layers = self.num_layers\n",
    "        expected = self.stored[self.num_layers].h_x #z(sigma(h2(sigma(h1(x)))))\n",
    "        \n",
    "        # dL/dz(z(sigma(h2(sigma(h1(x))))))\n",
    "        J = self.loss(expected, y, derivative = True)\n",
    "        \n",
    "        old_weights = self.weight_dict[num_layers][1:,:] \n",
    "        old_bias = self.weight_dict[num_layers][0:1,:] \n",
    "\n",
    "        \n",
    "        new_weights = old_weights - self.lr*(self.stored[num_layers-1].sigma_h_x.T @ J)\n",
    "        new_bias = old_bias - (self.lr * (np.array([np.ones(J.shape[0])]) @ J))\n",
    "\n",
    "        self.weight_dict[num_layers] = np.vstack((new_bias, new_weights))\n",
    "\n",
    "        J = J @ old_weights.T\n",
    "        \n",
    "        for i in range(self.num_layers-1,-1,-1):\n",
    "           \n",
    "            J = J * self.sigma(self.stored[i].h_x, derivative = True) # activation layer derivative\n",
    "\n",
    "            old_weights = self.weight_dict[i][1:,:] \n",
    "            old_bias = self.weight_dict[i][0:1,:] \n",
    "\n",
    "            new_weights = old_weights - self.lr*(self.stored[i-1].sigma_h_x.T @ J)\n",
    "            new_bias = old_bias - (self.lr * (np.array([np.ones(J.shape[0])]) @ J))\n",
    "\n",
    "            self.weight_dict[i] = np.vstack((new_bias, new_weights))\n",
    "            \n",
    "            J = J @ old_weights.T  # dense layer derivative       \n",
    "            \n",
    "\n",
    "    # want to backwards prop then feedforward\n",
    "    def _stochastic_gradient_descent(self, X, y, num_epochs, print_iter):\n",
    "        \n",
    "        num_batches = math.ceil(X.shape[0]/self.batch_size)\n",
    "        avg_err_arr = [np.nan]*(num_epochs * num_batches)\n",
    "        \n",
    "        err_count = 0\n",
    "        \n",
    "        for i in range(0, num_epochs):\n",
    "            \n",
    "            indices = np.random.choice(X.shape[0], X.shape[0], replace=False)\n",
    "            x_batch = X[indices]\n",
    "            y_batch =y[indices]\n",
    "            \n",
    "            old_start = 0\n",
    "            new_start = 0\n",
    "            new_end = self.batch_size\n",
    "            \n",
    "            avg_err_arr[err_count] = self._forward_propagation(x_batch[new_start:new_end],y_batch[new_start:new_end])\n",
    "            err_count+=1\n",
    "            \n",
    "            for j in range(1,num_batches):\n",
    "                old_start = new_start\n",
    "                new_start = old_start + self.batch_size\n",
    "                new_end = new_start+self.batch_size\n",
    "                \n",
    "                self._backward_propagation(x_batch[old_start:new_start], y_batch[old_start:new_start])\n",
    "                avg_err_arr[err_count] = self._forward_propagation(x_batch[new_start:new_end],y_batch[new_start:new_end])\n",
    "                err_count+=1\n",
    "                \n",
    "                if print_iter:\n",
    "                    sys.stdout.write(\"\\r\" +  str(err_count))\n",
    "                    sys.stdout.flush()\n",
    "            if i!= num_epochs-1:\n",
    "                 self._backward_propagation(x_batch[new_start:],y_batch[new_start:])\n",
    "            if i%10 == 0:\n",
    "                self.lr = self.lr * self.anneal\n",
    "        return avg_err_arr\n",
    "        \n",
    "    \n",
    "    def fit(self, X,y, num_epochs = 10, print_iter = False):\n",
    "        # X is either a numpy array or a dataframe without the target and intercept\n",
    "        # y is either a pandas series or a 1d (potentially numpy) array\n",
    "        # returns a list of the average loss for each iteration\n",
    "        # if print iter is true, prints the current iteration (will be written on a single line, not multiple)\n",
    "        self.lr = self.true_lr\n",
    "        if isinstance(X, pd.DataFrame):\n",
    "            new_x = X.to_numpy()\n",
    "        else:\n",
    "            new_x = X.copy()\n",
    "            \n",
    "        if isinstance(y, pd.Series):\n",
    "            new_y = y.to_numpy()\n",
    "        \n",
    "        if len(y.shape) == 1:\n",
    "            new_y = np.array([new_y]).T\n",
    "        else:\n",
    "            new_y = y.copy()\n",
    "        \n",
    "        # generate the random weights for every layer in neural network\n",
    "        self._create_weights(new_x.shape[1])\n",
    "        \n",
    "        return self._stochastic_gradient_descent(new_x,new_y,num_epochs, print_iter)\n",
    "    \n",
    "    def predict(self, X):\n",
    "        \n",
    "        sigma_h_x = X\n",
    "        \n",
    "        for i in range(0,self.num_layers):\n",
    "            sigma_h_x = np.hstack([np.ones(len(sigma_h_x ))[:, np.newaxis], sigma_h_x ]) # adds a weight intercept  \n",
    "            h_x = sigma_h_x @ self.weight_dict[i] \n",
    "            sigma_h_x = self.sigma(h_x) \n",
    "            \n",
    "        sigma_h_x = np.hstack([np.ones(len(sigma_h_x))[:, np.newaxis], sigma_h_x ])\n",
    "        z_sigma_h_x = sigma_h_x @ self.weight_dict[self.num_layers]\n",
    "        return z_sigma_h_x.T[0]\n",
    "        \n",
    "        return np.sum(self.loss(z_sigma_h_x, y))/self.batch_size \n",
    "\n",
    "        "
   ]
  },
  {
   "cell_type": "markdown",
   "metadata": {},
   "source": [
    "### Sample Loss and Activation Function\n",
    "\n",
    "You can use it like so:\n",
    "\n",
    "```\n",
    "test_nn = NeuralNetwork(layers, nodes, activation=ReLU, loss=L2_loss, learning_rate, batch_size)\n",
    "```\n",
    "Just simply enter the name of the function."
   ]
  },
  {
   "cell_type": "code",
   "execution_count": 390,
   "metadata": {},
   "outputs": [],
   "source": [
    "# loss and activation function to use in \n",
    "\n",
    "def L2_loss(x,y, derivative = False):\n",
    "    # assumes y is nx1 vector (n rows, 1 col)\n",
    "    # returns an nx1 matrix\n",
    "    if derivative:\n",
    "        return x-y\n",
    "    else:\n",
    "        return 0.5*((x-y)**2)\n",
    "        \n",
    "def ReLU(X, derivative = False):\n",
    "\n",
    "    if derivative:\n",
    "        return np.greater(X, 0).astype(int)\n",
    "    return np.maximum(X,0)"
   ]
  },
  {
   "cell_type": "markdown",
   "metadata": {},
   "source": [
    "### Testing on Iris Dataset"
   ]
  },
  {
   "cell_type": "code",
   "execution_count": 391,
   "metadata": {},
   "outputs": [
    {
     "data": {
      "text/html": [
       "<div>\n",
       "<style scoped>\n",
       "    .dataframe tbody tr th:only-of-type {\n",
       "        vertical-align: middle;\n",
       "    }\n",
       "\n",
       "    .dataframe tbody tr th {\n",
       "        vertical-align: top;\n",
       "    }\n",
       "\n",
       "    .dataframe thead th {\n",
       "        text-align: right;\n",
       "    }\n",
       "</style>\n",
       "<table border=\"1\" class=\"dataframe\">\n",
       "  <thead>\n",
       "    <tr style=\"text-align: right;\">\n",
       "      <th></th>\n",
       "      <th>sepal width (cm)</th>\n",
       "      <th>petal length (cm)</th>\n",
       "      <th>petal width (cm)</th>\n",
       "      <th>target</th>\n",
       "    </tr>\n",
       "  </thead>\n",
       "  <tbody>\n",
       "    <tr>\n",
       "      <td>0</td>\n",
       "      <td>3.5</td>\n",
       "      <td>1.4</td>\n",
       "      <td>0.2</td>\n",
       "      <td>5.1</td>\n",
       "    </tr>\n",
       "    <tr>\n",
       "      <td>1</td>\n",
       "      <td>3.0</td>\n",
       "      <td>1.4</td>\n",
       "      <td>0.2</td>\n",
       "      <td>4.9</td>\n",
       "    </tr>\n",
       "    <tr>\n",
       "      <td>2</td>\n",
       "      <td>3.2</td>\n",
       "      <td>1.3</td>\n",
       "      <td>0.2</td>\n",
       "      <td>4.7</td>\n",
       "    </tr>\n",
       "    <tr>\n",
       "      <td>3</td>\n",
       "      <td>3.1</td>\n",
       "      <td>1.5</td>\n",
       "      <td>0.2</td>\n",
       "      <td>4.6</td>\n",
       "    </tr>\n",
       "    <tr>\n",
       "      <td>4</td>\n",
       "      <td>3.6</td>\n",
       "      <td>1.4</td>\n",
       "      <td>0.2</td>\n",
       "      <td>5.0</td>\n",
       "    </tr>\n",
       "  </tbody>\n",
       "</table>\n",
       "</div>"
      ],
      "text/plain": [
       "   sepal width (cm)  petal length (cm)  petal width (cm)  target\n",
       "0               3.5                1.4               0.2     5.1\n",
       "1               3.0                1.4               0.2     4.9\n",
       "2               3.2                1.3               0.2     4.7\n",
       "3               3.1                1.5               0.2     4.6\n",
       "4               3.6                1.4               0.2     5.0"
      ]
     },
     "execution_count": 391,
     "metadata": {},
     "output_type": "execute_result"
    }
   ],
   "source": [
    "import sklearn.datasets\n",
    "data = sklearn.datasets.load_iris()\n",
    "df = pd.DataFrame(data.data, columns=data.feature_names)\n",
    "df[\"target\"] = df[\"sepal length (cm)\"]\n",
    "df = df.drop(\"sepal length (cm)\", axis = 1)\n",
    "df.head()"
   ]
  },
  {
   "cell_type": "code",
   "execution_count": 392,
   "metadata": {},
   "outputs": [],
   "source": [
    "layers = 2\n",
    "nodes = 3\n",
    "activation = ReLU\n",
    "loss = L2_loss\n",
    "learning_rate = 0.0001\n",
    "batch_size = 50\n",
    "num_epochs = 200\n",
    "anneal = 1\n",
    "\n",
    "num_runs = math.ceil(df.shape[0]/batch_size)* num_epochs\n",
    "\n",
    "test_nn = NeuralNetwork(layers, nodes, activation, loss, learning_rate, batch_size, anneal = anneal)\n",
    "\n",
    "errs = test_nn.fit(df.drop(\"target\",axis=1),df[\"target\"], num_epochs = num_epochs, print_iter = False)"
   ]
  },
  {
   "cell_type": "code",
   "execution_count": 393,
   "metadata": {},
   "outputs": [
    {
     "data": {
      "text/plain": [
       "0.6200889159362871"
      ]
     },
     "execution_count": 393,
     "metadata": {},
     "output_type": "execute_result"
    }
   ],
   "source": [
    "samp_size = 50\n",
    "samp = df.sample(n=samp_size)\n",
    "\n",
    "\n",
    "preds = test_nn.predict(samp.drop(\"target\",axis=1))\n",
    "mse = ((preds -samp.target)**2).sum()/samp_size\n",
    "mse"
   ]
  },
  {
   "cell_type": "code",
   "execution_count": 394,
   "metadata": {},
   "outputs": [
    {
     "data": {
      "text/plain": [
       "[<matplotlib.lines.Line2D at 0x1fbd86e7c48>]"
      ]
     },
     "execution_count": 394,
     "metadata": {},
     "output_type": "execute_result"
    },
    {
     "data": {
      "image/png": "[encoded data removed]",
      "text/plain": [
       "<Figure size 432x288 with 1 Axes>"
      ]
     },
     "metadata": {
      "needs_background": "light"
     },
     "output_type": "display_data"
    }
   ],
   "source": [
    "%matplotlib inline\n",
    "import matplotlib.pyplot as plt\n",
    "\n",
    "fig = plt.figure()\n",
    "ax = plt.axes()\n",
    "\n",
    "x = np.linspace(0, 10, 1000)\n",
    "ax.plot([i for i in range(0,num_runs)], errs)"
   ]
  },
  {
   "cell_type": "code",
   "execution_count": 395,
   "metadata": {},
   "outputs": [
    {
     "data": {
      "text/html": [
       "<div>\n",
       "<style scoped>\n",
       "    .dataframe tbody tr th:only-of-type {\n",
       "        vertical-align: middle;\n",
       "    }\n",
       "\n",
       "    .dataframe tbody tr th {\n",
       "        vertical-align: top;\n",
       "    }\n",
       "\n",
       "    .dataframe thead th {\n",
       "        text-align: right;\n",
       "    }\n",
       "</style>\n",
       "<table border=\"1\" class=\"dataframe\">\n",
       "  <thead>\n",
       "    <tr style=\"text-align: right;\">\n",
       "      <th></th>\n",
       "      <th>num_room</th>\n",
       "      <th>full_sq</th>\n",
       "      <th>sport_count_5000</th>\n",
       "      <th>sport_count_3000</th>\n",
       "      <th>trc_count_5000</th>\n",
       "      <th>zd_vokzaly_avto_km</th>\n",
       "      <th>sadovoe_km</th>\n",
       "      <th>sport_count_2000</th>\n",
       "      <th>kremlin_km</th>\n",
       "      <th>bulvar_ring_km</th>\n",
       "      <th>...</th>\n",
       "      <th>exhibition_km</th>\n",
       "      <th>big_church_count_5000</th>\n",
       "      <th>sport_count_1000</th>\n",
       "      <th>office_sqm_1500</th>\n",
       "      <th>market_count_5000</th>\n",
       "      <th>school_education_centers_raion</th>\n",
       "      <th>museum_km</th>\n",
       "      <th>healthcare_centers_raion</th>\n",
       "      <th>big_church_km</th>\n",
       "      <th>price_doc</th>\n",
       "    </tr>\n",
       "  </thead>\n",
       "  <tbody>\n",
       "    <tr>\n",
       "      <td>0</td>\n",
       "      <td>1.962264</td>\n",
       "      <td>43</td>\n",
       "      <td>52</td>\n",
       "      <td>21</td>\n",
       "      <td>52</td>\n",
       "      <td>14.231961</td>\n",
       "      <td>13.100618</td>\n",
       "      <td>10</td>\n",
       "      <td>15.156211</td>\n",
       "      <td>13.675657</td>\n",
       "      <td>...</td>\n",
       "      <td>7.023705</td>\n",
       "      <td>13</td>\n",
       "      <td>6</td>\n",
       "      <td>39554</td>\n",
       "      <td>4</td>\n",
       "      <td>5</td>\n",
       "      <td>7.389498</td>\n",
       "      <td>1</td>\n",
       "      <td>0.625783</td>\n",
       "      <td>5850000</td>\n",
       "    </tr>\n",
       "    <tr>\n",
       "      <td>1</td>\n",
       "      <td>1.925926</td>\n",
       "      <td>34</td>\n",
       "      <td>66</td>\n",
       "      <td>19</td>\n",
       "      <td>40</td>\n",
       "      <td>9.242586</td>\n",
       "      <td>6.444333</td>\n",
       "      <td>11</td>\n",
       "      <td>8.698054</td>\n",
       "      <td>8.132640</td>\n",
       "      <td>...</td>\n",
       "      <td>2.358840</td>\n",
       "      <td>15</td>\n",
       "      <td>2</td>\n",
       "      <td>102910</td>\n",
       "      <td>14</td>\n",
       "      <td>8</td>\n",
       "      <td>0.709260</td>\n",
       "      <td>1</td>\n",
       "      <td>0.967821</td>\n",
       "      <td>6000000</td>\n",
       "    </tr>\n",
       "    <tr>\n",
       "      <td>2</td>\n",
       "      <td>1.858586</td>\n",
       "      <td>43</td>\n",
       "      <td>67</td>\n",
       "      <td>20</td>\n",
       "      <td>35</td>\n",
       "      <td>9.540544</td>\n",
       "      <td>6.963403</td>\n",
       "      <td>8</td>\n",
       "      <td>9.067885</td>\n",
       "      <td>8.054252</td>\n",
       "      <td>...</td>\n",
       "      <td>4.958214</td>\n",
       "      <td>11</td>\n",
       "      <td>5</td>\n",
       "      <td>0</td>\n",
       "      <td>10</td>\n",
       "      <td>7</td>\n",
       "      <td>3.156423</td>\n",
       "      <td>1</td>\n",
       "      <td>3.178751</td>\n",
       "      <td>5700000</td>\n",
       "    </tr>\n",
       "    <tr>\n",
       "      <td>3</td>\n",
       "      <td>2.132275</td>\n",
       "      <td>89</td>\n",
       "      <td>26</td>\n",
       "      <td>18</td>\n",
       "      <td>22</td>\n",
       "      <td>17.478380</td>\n",
       "      <td>17.457198</td>\n",
       "      <td>13</td>\n",
       "      <td>19.487005</td>\n",
       "      <td>18.309433</td>\n",
       "      <td>...</td>\n",
       "      <td>5.029696</td>\n",
       "      <td>4</td>\n",
       "      <td>3</td>\n",
       "      <td>11000</td>\n",
       "      <td>3</td>\n",
       "      <td>10</td>\n",
       "      <td>16.041521</td>\n",
       "      <td>1</td>\n",
       "      <td>1.031777</td>\n",
       "      <td>13100000</td>\n",
       "    </tr>\n",
       "    <tr>\n",
       "      <td>4</td>\n",
       "      <td>2.875000</td>\n",
       "      <td>77</td>\n",
       "      <td>195</td>\n",
       "      <td>77</td>\n",
       "      <td>114</td>\n",
       "      <td>1.595898</td>\n",
       "      <td>0.046810</td>\n",
       "      <td>21</td>\n",
       "      <td>2.578671</td>\n",
       "      <td>0.787593</td>\n",
       "      <td>...</td>\n",
       "      <td>1.339652</td>\n",
       "      <td>135</td>\n",
       "      <td>7</td>\n",
       "      <td>1195735</td>\n",
       "      <td>14</td>\n",
       "      <td>9</td>\n",
       "      <td>1.800125</td>\n",
       "      <td>4</td>\n",
       "      <td>0.378756</td>\n",
       "      <td>16331452</td>\n",
       "    </tr>\n",
       "  </tbody>\n",
       "</table>\n",
       "<p>5 rows × 51 columns</p>\n",
       "</div>"
      ],
      "text/plain": [
       "   num_room  full_sq  sport_count_5000  sport_count_3000  trc_count_5000  \\\n",
       "0  1.962264       43                52                21              52   \n",
       "1  1.925926       34                66                19              40   \n",
       "2  1.858586       43                67                20              35   \n",
       "3  2.132275       89                26                18              22   \n",
       "4  2.875000       77               195                77             114   \n",
       "\n",
       "   zd_vokzaly_avto_km  sadovoe_km  sport_count_2000  kremlin_km  \\\n",
       "0           14.231961   13.100618                10   15.156211   \n",
       "1            9.242586    6.444333                11    8.698054   \n",
       "2            9.540544    6.963403                 8    9.067885   \n",
       "3           17.478380   17.457198                13   19.487005   \n",
       "4            1.595898    0.046810                21    2.578671   \n",
       "\n",
       "   bulvar_ring_km  ...  exhibition_km  big_church_count_5000  \\\n",
       "0       13.675657  ...       7.023705                     13   \n",
       "1        8.132640  ...       2.358840                     15   \n",
       "2        8.054252  ...       4.958214                     11   \n",
       "3       18.309433  ...       5.029696                      4   \n",
       "4        0.787593  ...       1.339652                    135   \n",
       "\n",
       "   sport_count_1000  office_sqm_1500  market_count_5000  \\\n",
       "0                 6            39554                  4   \n",
       "1                 2           102910                 14   \n",
       "2                 5                0                 10   \n",
       "3                 3            11000                  3   \n",
       "4                 7          1195735                 14   \n",
       "\n",
       "   school_education_centers_raion  museum_km  healthcare_centers_raion  \\\n",
       "0                               5   7.389498                         1   \n",
       "1                               8   0.709260                         1   \n",
       "2                               7   3.156423                         1   \n",
       "3                              10  16.041521                         1   \n",
       "4                               9   1.800125                         4   \n",
       "\n",
       "   big_church_km  price_doc  \n",
       "0       0.625783    5850000  \n",
       "1       0.967821    6000000  \n",
       "2       3.178751    5700000  \n",
       "3       1.031777   13100000  \n",
       "4       0.378756   16331452  \n",
       "\n",
       "[5 rows x 51 columns]"
      ]
     },
     "execution_count": 395,
     "metadata": {},
     "output_type": "execute_result"
    }
   ],
   "source": [
    "data_path = \"../data/final.csv\"\n",
    "\n",
    "house_df = pd.read_csv(data_path, index_col=0)\n",
    "house_df.head()"
   ]
  },
  {
   "cell_type": "code",
   "execution_count": 396,
   "metadata": {},
   "outputs": [
    {
     "data": {
      "text/plain": [
       "False"
      ]
     },
     "execution_count": 396,
     "metadata": {},
     "output_type": "execute_result"
    }
   ],
   "source": [
    "house_df.isnull().values.any()"
   ]
  },
  {
   "cell_type": "code",
   "execution_count": 397,
   "metadata": {},
   "outputs": [
    {
     "data": {
      "text/plain": [
       "(30292, 51)"
      ]
     },
     "execution_count": 397,
     "metadata": {},
     "output_type": "execute_result"
    }
   ],
   "source": [
    "house_df.shape"
   ]
  },
  {
   "cell_type": "code",
   "execution_count": 398,
   "metadata": {},
   "outputs": [],
   "source": [
    "target = \"price_doc\"\n",
    "#drop_cols = [\"trc_sqm_5000\", \"office_sqm_3000\",\"trc_sqm_3000\", \"office_sqm_2000\",\"office_sqm_1500\"]\n",
    "X = house_df.drop([target], axis=1)\n",
    "y = house_df[target]/100000"
   ]
  },
  {
   "cell_type": "code",
   "execution_count": 399,
   "metadata": {},
   "outputs": [],
   "source": [
    "X = (X-X.mean())/X.std()"
   ]
  },
  {
   "cell_type": "code",
   "execution_count": 400,
   "metadata": {},
   "outputs": [
    {
     "data": {
      "text/html": [
       "<div>\n",
       "<style scoped>\n",
       "    .dataframe tbody tr th:only-of-type {\n",
       "        vertical-align: middle;\n",
       "    }\n",
       "\n",
       "    .dataframe tbody tr th {\n",
       "        vertical-align: top;\n",
       "    }\n",
       "\n",
       "    .dataframe thead th {\n",
       "        text-align: right;\n",
       "    }\n",
       "</style>\n",
       "<table border=\"1\" class=\"dataframe\">\n",
       "  <thead>\n",
       "    <tr style=\"text-align: right;\">\n",
       "      <th></th>\n",
       "      <th>num_room</th>\n",
       "      <th>full_sq</th>\n",
       "      <th>sport_count_5000</th>\n",
       "      <th>sport_count_3000</th>\n",
       "      <th>trc_count_5000</th>\n",
       "      <th>zd_vokzaly_avto_km</th>\n",
       "      <th>sadovoe_km</th>\n",
       "      <th>sport_count_2000</th>\n",
       "      <th>kremlin_km</th>\n",
       "      <th>bulvar_ring_km</th>\n",
       "      <th>...</th>\n",
       "      <th>leisure_count_5000</th>\n",
       "      <th>exhibition_km</th>\n",
       "      <th>big_church_count_5000</th>\n",
       "      <th>sport_count_1000</th>\n",
       "      <th>office_sqm_1500</th>\n",
       "      <th>market_count_5000</th>\n",
       "      <th>school_education_centers_raion</th>\n",
       "      <th>museum_km</th>\n",
       "      <th>healthcare_centers_raion</th>\n",
       "      <th>big_church_km</th>\n",
       "    </tr>\n",
       "  </thead>\n",
       "  <tbody>\n",
       "    <tr>\n",
       "      <td>0</td>\n",
       "      <td>0.066648</td>\n",
       "      <td>-0.294743</td>\n",
       "      <td>-0.023969</td>\n",
       "      <td>0.034037</td>\n",
       "      <td>0.908218</td>\n",
       "      <td>-0.278913</td>\n",
       "      <td>-0.095951</td>\n",
       "      <td>0.010379</td>\n",
       "      <td>-0.086330</td>\n",
       "      <td>-0.142544</td>\n",
       "      <td>...</td>\n",
       "      <td>-0.421698</td>\n",
       "      <td>0.330972</td>\n",
       "      <td>-0.073117</td>\n",
       "      <td>0.920565</td>\n",
       "      <td>-0.336153</td>\n",
       "      <td>-0.413804</td>\n",
       "      <td>0.077751</td>\n",
       "      <td>0.095969</td>\n",
       "      <td>-0.220037</td>\n",
       "      <td>-0.604472</td>\n",
       "    </tr>\n",
       "    <tr>\n",
       "      <td>1</td>\n",
       "      <td>0.015886</td>\n",
       "      <td>-0.530798</td>\n",
       "      <td>0.278731</td>\n",
       "      <td>-0.072148</td>\n",
       "      <td>0.405766</td>\n",
       "      <td>-0.784951</td>\n",
       "      <td>-0.931297</td>\n",
       "      <td>0.118905</td>\n",
       "      <td>-0.886482</td>\n",
       "      <td>-0.826631</td>\n",
       "      <td>...</td>\n",
       "      <td>0.063017</td>\n",
       "      <td>-0.619788</td>\n",
       "      <td>-0.004582</td>\n",
       "      <td>-0.279003</td>\n",
       "      <td>-0.126630</td>\n",
       "      <td>1.633889</td>\n",
       "      <td>0.950815</td>\n",
       "      <td>-1.183847</td>\n",
       "      <td>-0.220037</td>\n",
       "      <td>-0.475748</td>\n",
       "    </tr>\n",
       "    <tr>\n",
       "      <td>2</td>\n",
       "      <td>-0.078182</td>\n",
       "      <td>-0.294743</td>\n",
       "      <td>0.300352</td>\n",
       "      <td>-0.019055</td>\n",
       "      <td>0.196410</td>\n",
       "      <td>-0.754732</td>\n",
       "      <td>-0.866155</td>\n",
       "      <td>-0.206674</td>\n",
       "      <td>-0.840660</td>\n",
       "      <td>-0.836305</td>\n",
       "      <td>...</td>\n",
       "      <td>-0.227812</td>\n",
       "      <td>-0.090002</td>\n",
       "      <td>-0.141653</td>\n",
       "      <td>0.620673</td>\n",
       "      <td>-0.466962</td>\n",
       "      <td>0.814812</td>\n",
       "      <td>0.659794</td>\n",
       "      <td>-0.715014</td>\n",
       "      <td>-0.220037</td>\n",
       "      <td>0.356323</td>\n",
       "    </tr>\n",
       "    <tr>\n",
       "      <td>3</td>\n",
       "      <td>0.304139</td>\n",
       "      <td>0.911760</td>\n",
       "      <td>-0.586126</td>\n",
       "      <td>-0.125241</td>\n",
       "      <td>-0.347913</td>\n",
       "      <td>0.050349</td>\n",
       "      <td>0.450789</td>\n",
       "      <td>0.335958</td>\n",
       "      <td>0.450247</td>\n",
       "      <td>0.429330</td>\n",
       "      <td>...</td>\n",
       "      <td>-0.421698</td>\n",
       "      <td>-0.075433</td>\n",
       "      <td>-0.381527</td>\n",
       "      <td>0.020889</td>\n",
       "      <td>-0.430584</td>\n",
       "      <td>-0.618574</td>\n",
       "      <td>1.532858</td>\n",
       "      <td>1.753546</td>\n",
       "      <td>-0.220037</td>\n",
       "      <td>-0.451679</td>\n",
       "    </tr>\n",
       "    <tr>\n",
       "      <td>4</td>\n",
       "      <td>1.341666</td>\n",
       "      <td>0.597020</td>\n",
       "      <td>3.067892</td>\n",
       "      <td>3.007236</td>\n",
       "      <td>3.504223</td>\n",
       "      <td>-1.560503</td>\n",
       "      <td>-1.734170</td>\n",
       "      <td>1.204169</td>\n",
       "      <td>-1.644660</td>\n",
       "      <td>-1.733114</td>\n",
       "      <td>...</td>\n",
       "      <td>3.989207</td>\n",
       "      <td>-0.827512</td>\n",
       "      <td>4.107555</td>\n",
       "      <td>1.220457</td>\n",
       "      <td>3.487437</td>\n",
       "      <td>1.633889</td>\n",
       "      <td>1.241836</td>\n",
       "      <td>-0.974857</td>\n",
       "      <td>1.788210</td>\n",
       "      <td>-0.697439</td>\n",
       "    </tr>\n",
       "  </tbody>\n",
       "</table>\n",
       "<p>5 rows × 50 columns</p>\n",
       "</div>"
      ],
      "text/plain": [
       "   num_room   full_sq  sport_count_5000  sport_count_3000  trc_count_5000  \\\n",
       "0  0.066648 -0.294743         -0.023969          0.034037        0.908218   \n",
       "1  0.015886 -0.530798          0.278731         -0.072148        0.405766   \n",
       "2 -0.078182 -0.294743          0.300352         -0.019055        0.196410   \n",
       "3  0.304139  0.911760         -0.586126         -0.125241       -0.347913   \n",
       "4  1.341666  0.597020          3.067892          3.007236        3.504223   \n",
       "\n",
       "   zd_vokzaly_avto_km  sadovoe_km  sport_count_2000  kremlin_km  \\\n",
       "0           -0.278913   -0.095951          0.010379   -0.086330   \n",
       "1           -0.784951   -0.931297          0.118905   -0.886482   \n",
       "2           -0.754732   -0.866155         -0.206674   -0.840660   \n",
       "3            0.050349    0.450789          0.335958    0.450247   \n",
       "4           -1.560503   -1.734170          1.204169   -1.644660   \n",
       "\n",
       "   bulvar_ring_km  ...  leisure_count_5000  exhibition_km  \\\n",
       "0       -0.142544  ...           -0.421698       0.330972   \n",
       "1       -0.826631  ...            0.063017      -0.619788   \n",
       "2       -0.836305  ...           -0.227812      -0.090002   \n",
       "3        0.429330  ...           -0.421698      -0.075433   \n",
       "4       -1.733114  ...            3.989207      -0.827512   \n",
       "\n",
       "   big_church_count_5000  sport_count_1000  office_sqm_1500  \\\n",
       "0              -0.073117          0.920565        -0.336153   \n",
       "1              -0.004582         -0.279003        -0.126630   \n",
       "2              -0.141653          0.620673        -0.466962   \n",
       "3              -0.381527          0.020889        -0.430584   \n",
       "4               4.107555          1.220457         3.487437   \n",
       "\n",
       "   market_count_5000  school_education_centers_raion  museum_km  \\\n",
       "0          -0.413804                        0.077751   0.095969   \n",
       "1           1.633889                        0.950815  -1.183847   \n",
       "2           0.814812                        0.659794  -0.715014   \n",
       "3          -0.618574                        1.532858   1.753546   \n",
       "4           1.633889                        1.241836  -0.974857   \n",
       "\n",
       "   healthcare_centers_raion  big_church_km  \n",
       "0                 -0.220037      -0.604472  \n",
       "1                 -0.220037      -0.475748  \n",
       "2                 -0.220037       0.356323  \n",
       "3                 -0.220037      -0.451679  \n",
       "4                  1.788210      -0.697439  \n",
       "\n",
       "[5 rows x 50 columns]"
      ]
     },
     "execution_count": 400,
     "metadata": {},
     "output_type": "execute_result"
    }
   ],
   "source": [
    "X.head()"
   ]
  },
  {
   "cell_type": "code",
   "execution_count": 408,
   "metadata": {},
   "outputs": [
    {
     "name": "stdout",
     "output_type": "stream",
     "text": [
      "23800"
     ]
    }
   ],
   "source": [
    "layers = 7\n",
    "nodes = 9\n",
    "activation = ReLU\n",
    "loss = L2_loss\n",
    "learning_rate = 0.000001\n",
    "batch_size = 256\n",
    "num_epochs = 200\n",
    "anneal = 0.5\n",
    "\n",
    "num_runs = math.ceil(X.shape[0]/batch_size)* num_epochs\n",
    "\n",
    "test_nn = NeuralNetwork(layers, nodes, activation, loss, learning_rate, batch_size, anneal = anneal)\n",
    "\n",
    "errs = test_nn.fit(X,y, num_epochs = num_epochs, print_iter = True)"
   ]
  },
  {
   "cell_type": "code",
   "execution_count": 409,
   "metadata": {},
   "outputs": [
    {
     "data": {
      "text/plain": [
       "[<matplotlib.lines.Line2D at 0x1fbd8e48e48>]"
      ]
     },
     "execution_count": 409,
     "metadata": {},
     "output_type": "execute_result"
    },
    {
     "data": {
      "image/png": "[encoded data removed]",
      "text/plain": [
       "<Figure size 432x288 with 1 Axes>"
      ]
     },
     "metadata": {
      "needs_background": "light"
     },
     "output_type": "display_data"
    }
   ],
   "source": [
    "import matplotlib.pyplot as plt\n",
    "\n",
    "fig = plt.figure()\n",
    "ax = plt.axes()\n",
    "\n",
    "x = np.linspace(0, 10, 1000)\n",
    "ax.plot([i for i in range(0,num_runs)], errs[0:])"
   ]
  },
  {
   "cell_type": "code",
   "execution_count": 410,
   "metadata": {},
   "outputs": [
    {
     "data": {
      "text/plain": [
       "[<matplotlib.lines.Line2D at 0x1fbd8d36648>]"
      ]
     },
     "execution_count": 410,
     "metadata": {},
     "output_type": "execute_result"
    },
    {
     "data": {
      "image/png": "[encoded data removed]",
      "text/plain": [
       "<Figure size 432x288 with 1 Axes>"
      ]
     },
     "metadata": {
      "needs_background": "light"
     },
     "output_type": "display_data"
    }
   ],
   "source": [
    "import matplotlib.pyplot as plt\n",
    "\n",
    "fig = plt.figure()\n",
    "ax = plt.axes()\n",
    "\n",
    "x = np.linspace(0, 10, 1000)\n",
    "ax.plot([i for i in range(23000,num_runs)], errs[23000:])"
   ]
  },
  {
   "cell_type": "code",
   "execution_count": 411,
   "metadata": {},
   "outputs": [
    {
     "data": {
      "text/plain": [
       "688.0801425269998"
      ]
     },
     "execution_count": 411,
     "metadata": {},
     "output_type": "execute_result"
    }
   ],
   "source": [
    "preds = test_nn.predict(X)\n",
    "rmse = math.sqrt(((preds - y)**2).sum()/samp_size)\n",
    "rmse"
   ]
  },
  {
   "cell_type": "code",
   "execution_count": 412,
   "metadata": {},
   "outputs": [
    {
     "data": {
      "text/plain": [
       "47.821700201078784"
      ]
     },
     "execution_count": 412,
     "metadata": {},
     "output_type": "execute_result"
    }
   ],
   "source": [
    "y.std()"
   ]
  },
  {
   "cell_type": "code",
   "execution_count": 413,
   "metadata": {},
   "outputs": [
    {
     "data": {
      "text/plain": [
       "688.0801425269998"
      ]
     },
     "execution_count": 413,
     "metadata": {},
     "output_type": "execute_result"
    }
   ],
   "source": [
    "preds = test_nn.predict(X)\n",
    "rmse = math.sqrt(((preds - y)**2).sum()/samp_size)\n",
    "rmse"
   ]
  },
  {
   "cell_type": "code",
   "execution_count": 378,
   "metadata": {},
   "outputs": [
    {
     "data": {
      "text/plain": [
       "1692.01263260402"
      ]
     },
     "execution_count": 378,
     "metadata": {},
     "output_type": "execute_result"
    }
   ],
   "source": [
    "rmse - y.std()"
   ]
  },
  {
   "cell_type": "code",
   "execution_count": 379,
   "metadata": {},
   "outputs": [
    {
     "data": {
      "text/plain": [
       "19.425618624350232"
      ]
     },
     "execution_count": 379,
     "metadata": {},
     "output_type": "execute_result"
    }
   ],
   "source": [
    "preds[0]"
   ]
  },
  {
   "cell_type": "code",
   "execution_count": 281,
   "metadata": {},
   "outputs": [
    {
     "data": {
      "text/plain": [
       "150     4450000\n",
       "151     7050000\n",
       "152     1000000\n",
       "153     6800000\n",
       "154     1000000\n",
       "         ...   \n",
       "295     6150000\n",
       "296     7400000\n",
       "297    23300000\n",
       "298     8750000\n",
       "299     5200000\n",
       "Name: price_doc, Length: 150, dtype: int64"
      ]
     },
     "execution_count": 281,
     "metadata": {},
     "output_type": "execute_result"
    }
   ],
   "source": [
    "y_test"
   ]
  },
  {
   "cell_type": "code",
   "execution_count": 95,
   "metadata": {},
   "outputs": [],
   "source": [
    "from sklearn.datasets import make_moons\n",
    "import numpy as np\n",
    "from matplotlib import pyplot as plt\n",
    "\n",
    "x,y = make_moons(n_samples=500,noise=0.1)\n",
    "x = x.astype('float32')\n",
    "y = y.astype('float32')\n",
    "y = np.expand_dims(y,axis=-1)"
   ]
  },
  {
   "cell_type": "code",
   "execution_count": 96,
   "metadata": {},
   "outputs": [
    {
     "data": {
      "text/plain": [
       "(500, 2)"
      ]
     },
     "execution_count": 96,
     "metadata": {},
     "output_type": "execute_result"
    }
   ],
   "source": [
    "x.shape"
   ]
  },
  {
   "cell_type": "code",
   "execution_count": 97,
   "metadata": {},
   "outputs": [
    {
     "data": {
      "text/plain": [
       "(500, 1)"
      ]
     },
     "execution_count": 97,
     "metadata": {},
     "output_type": "execute_result"
    }
   ],
   "source": [
    "y.shape"
   ]
  },
  {
   "cell_type": "code",
   "execution_count": 98,
   "metadata": {},
   "outputs": [
    {
     "name": "stdout",
     "output_type": "stream",
     "text": [
      "400"
     ]
    }
   ],
   "source": [
    "import math\n",
    "\n",
    "layers = 3\n",
    "nodes = 3\n",
    "activation = ReLU\n",
    "loss = L2_loss\n",
    "learning_rate = 0.0001\n",
    "batch_size = 128\n",
    "num_epochs = 100\n",
    "anneal = 0.5\n",
    "\n",
    "num_runs = math.ceil(x.shape[0]/batch_size)* num_epochs\n",
    "\n",
    "test_nn = NeuralNetwork(layers, nodes, activation, loss, learning_rate, batch_size, anneal = anneal)\n",
    "\n",
    "errs = test_nn.fit(x,y, num_epochs = num_epochs, print_iter = True)"
   ]
  },
  {
   "cell_type": "code",
   "execution_count": 99,
   "metadata": {},
   "outputs": [
    {
     "data": {
      "text/plain": [
       "[<matplotlib.lines.Line2D at 0x1fbb3c036c8>]"
      ]
     },
     "execution_count": 99,
     "metadata": {},
     "output_type": "execute_result"
    },
    {
     "data": {
      "image/png": "[encoded data removed]",
      "text/plain": [
       "<Figure size 432x288 with 1 Axes>"
      ]
     },
     "metadata": {
      "needs_background": "light"
     },
     "output_type": "display_data"
    }
   ],
   "source": [
    "import matplotlib.pyplot as plt\n",
    "\n",
    "fig = plt.figure()\n",
    "ax = plt.axes()\n",
    "\n",
    "x = np.linspace(0, 10, 1000)\n",
    "ax.plot([i for i in range(0,num_runs)], errs[0:])"
   ]
  },
  {
   "cell_type": "code",
   "execution_count": null,
   "metadata": {},
   "outputs": [],
   "source": []
  }
 ],
 "metadata": {
  "kernelspec": {
   "display_name": "Python 3",
   "language": "python",
   "name": "python3"
  },
  "language_info": {
   "codemirror_mode": {
    "name": "ipython",
    "version": 3
   },
   "file_extension": ".py",
   "mimetype": "text/x-python",
   "name": "python",
   "nbconvert_exporter": "python",
   "pygments_lexer": "ipython3",
   "version": "3.7.4"
  }
 },
 "nbformat": 4,
 "nbformat_minor": 2
}
