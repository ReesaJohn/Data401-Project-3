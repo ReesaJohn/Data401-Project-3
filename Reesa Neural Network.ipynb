{
 "cells": [
  {
   "cell_type": "markdown",
   "metadata": {},
   "source": [
    "Neural netowrk funcs\n",
    "\n",
    "Layers: an Integer value representing the total number of hidden layers in the network\n",
    "(input and output layers are extra)\n",
    "\n",
    "● Nodes: an integer array of size [0,..,Layers+1] containing the dimensions of the neural\n",
    "network. Nodes[0] shall represent the input size (typically, 50), Nodes[Layers+1]\n",
    "\n",
    "shall represent the number of output nodes (typically, 1). All other values Nodes[i]\n",
    "represent the number of nodes in hidden layer i.\n",
    "● NNodes: a possible alternative to the Nodes parameter for situations where you want\n",
    "each hidden layer of the neural network to be of the same size. In this case, the size of\n",
    "the output layer is assumed to be 1, and the size of the input layer can be inferred from\n",
    "the dataset.\n",
    "● Activations: an array of size [0,..,Layers+1] (for the sake of compatibility) in which\n",
    "Activations[0] and Activations[Layers+1] are not used, while all other\n",
    "Activations[i] values are labels indicating the activation function used in layer i.\n",
    "This allows you to build neural networks with different activation functions in each layer.\n",
    "● ActivationFn: a possible alternative to Activations when all hidden layers of your neural\n",
    "network use the same activation function.\n",
    "\n",
    "params: layers: # of hidden layers, \n",
    "\tnodes: if int: number of nodes for each hidden layer (when creating hidden layer, add 1 extraa node for bias term)\n",
    "\t       if arr: number elems in arr should be same as layers, each num will be number of nodes for the hidden layer\n",
    "\tactivation: apply to all hidden layers\n",
    "\tlearning rate:\n",
    "\tbatch size:\n",
    "\n",
    "\n",
    "when initializing, need to generate random weights for all the layers"
   ]
  },
  {
   "cell_type": "markdown",
   "metadata": {},
   "source": [
    "x: num_obs x num_features\n",
    "\n",
    "w1+b: num_features(x) + 1 x width + 1 (of h1)\n",
    "\n",
    "h1 = num_obs x width+1(of h2)\n",
    "\n",
    "w2+b: width+1(of h1) x width+1 (of h2)\n",
    "*****\n",
    "\n",
    "h2 = num_obs x width+1(of h2) (of h2)\n",
    "\n",
    "w3+b = width+1(of h2) x 1(we only want it output a single value per observation)\n",
    "\n",
    "\n",
    "y = num_obs x 1"
   ]
  },
  {
   "cell_type": "code",
   "execution_count": 2,
   "metadata": {},
   "outputs": [],
   "source": [
    "import numpy as np\n",
    "import pandas as pd"
   ]
  },
  {
   "cell_type": "code",
   "execution_count": 596,
   "metadata": {},
   "outputs": [],
   "source": [
    "class NeuralNetwork:\n",
    "    \n",
    "    def __init__(self, layers, nodes, activation, loss, learning_rate, batch_size):\n",
    "        \n",
    "        # number of hidden layers we are creating\n",
    "        self.num_layers = layers\n",
    "        \n",
    "        # number of nodes at each layer\n",
    "        self.nodes = self._create_nodes(nodes,layers)\n",
    "        \n",
    "        # activation function\n",
    "        self.sigma = activation\n",
    "                \n",
    "        # loss function\n",
    "        self.loss = loss\n",
    "        \n",
    "        # learning rate for stochastic gradient descent\n",
    "        self.lr = learning_rate\n",
    "        \n",
    "        # batch size for stochastic gradient descent\n",
    "        self.batch_size = batch_size\n",
    "\n",
    "        # after fit, will contain a dictionary of weights for the layers\n",
    "        self.weight_dict = None\n",
    "        \n",
    "        # store values for backwards propagation\n",
    "        self.stored = None\n",
    "\n",
    "        \n",
    "    def _create_nodes(self, nodes, layers):\n",
    "    \n",
    "        if isinstance(nodes, int):\n",
    "            nodes = nodes+1\n",
    "            return [nodes]*(layers)\n",
    "        \n",
    "        else:\n",
    "            return [i+1 for i in nodes]\n",
    "        \n",
    "    def _create_weights(self, num_features):\n",
    "        \n",
    "        # for 3 hidden layers\n",
    "        \n",
    "        #0 between input layer and hidden layer 1: \n",
    "        #1 hidden layer 1 to hidden layer 2: width x width\n",
    "        #2 hidden layer 2 to hidden layer 3: width x width\n",
    "        #3 hidden layer 3 to y :width x 1\n",
    "        \n",
    "        #so self.layers[0] will always be numfeatures x width(of first hidden layer)\n",
    "        # self.layers[num_layers] = widthx1\n",
    "        \n",
    "        self.weight_dict = {\n",
    "            0: np.random.rand(num_features, self.nodes[0])\n",
    "        }\n",
    "        \n",
    "        for i in range(1,self.num_layers):\n",
    "            self.weight_dict[i] = np.random.rand(self.nodes[i-1], self.nodes[i])\n",
    "            \n",
    "        self.weight_dict[self.num_layers] = np.random.rand(self.nodes[self.num_layers-1], 1)\n",
    "        # b x n -> b x 1\n",
    "        # h1 x n X nodes\n",
    "        \n",
    "    def _forward_propagation(self, X, y):\n",
    "        # need to figure out what weights to save and how to backprop\n",
    "        \n",
    "        sigma_h_x = X\n",
    "        self.stored = {}\n",
    "        self.stored[-1] = [None, sigma_h_x]\n",
    "        \n",
    "        for i in range(0,self.num_layers):\n",
    "            h_x = sigma_h_x @ self.weight_dict[i] \n",
    "            sigma_h_x = self.sigma(h_x) \n",
    "            self.stored[i] = [h_x, sigma_h_x]\n",
    "        \n",
    "        z_sigma_h_x = sigma_h_x @ self.weight_dict[self.num_layers]\n",
    "        self.stored[self.num_layers] = [z_sigma_h_x]\n",
    "        \n",
    "        return np.sum(self.loss(z_sigma_h_x, y))/self.batch_size #summation of num_obs x 1 array divide by batchsize\n",
    "        \"\"\"\n",
    "        2 hidden layer example\n",
    "        weight -1:[None, x]\n",
    "        weight 0: [h1(x), sigma(h1(x))] #X to h1\n",
    "        weight 1: [h2(sigma(h1(x))), sigma(h2(sigma(h1(x))))] #h1 to h2 [bxn], [bxn]\n",
    "        weight 2: [z(sigma(h2(sigma(h1(x)))))] #h2 to y [nx1]\n",
    "        \"\"\"\n",
    "    def _backward_propagation(self, X,y):\n",
    "        \n",
    "        num_layers = self.num_layers\n",
    "        expected = self.stored[self.num_layers][0] #z(sigma(h2(sigma(h1(x)))))\n",
    "        \n",
    "        # dL/dz(z(sigma(h2(sigma(h1(x))))))\n",
    "        J = self.loss(expected, y, derivative = True)\n",
    "        \n",
    "        old_weights = self.weight_dict[num_layers] \n",
    "        self.weight_dict[num_layers] = self.weight_dict[num_layers] - self.lr*(self.stored[num_layers-1][1].T @ J)\n",
    "        # dz/dsigma(sigma(h2(sigma(h1(x)))))\n",
    "        \n",
    "        for i in range(self.num_layers-1,-1,-1):\n",
    "            \n",
    "            J = J * self.sigma(self.stored[i][0], derivative = True) # activation layer derivative\n",
    "            \n",
    "            old_weights = self.weight_dict[i] \n",
    "            self.weight_dict[i] = self.weight_dict[i] - self.lr*(self.stored[i-1][1].T @ J) # weight update\n",
    "            \n",
    "            J = J @ old_weights.T  # dense layer derivative\n",
    "            \n",
    "            \n",
    "\n",
    "    def _stochastic_gradient_descent(self, X, y, num_iterations, print_iter):\n",
    "        # how to integrate forward and back vias sgd\n",
    "        \n",
    "        avg_err_arr = [np.nan]*num_iterations\n",
    "        \n",
    "        indices = np.random.choice(X.shape[0], self.batch_size, replace=False)\n",
    "        x_batch = X[indices]\n",
    "        y_batch =y[indices]\n",
    "        \n",
    "        avg_err_arr[0] = self._forward_propagation(x_batch,y_batch)\n",
    "        print(self.weight_dict)\n",
    "        for i in range(1,num_iterations):\n",
    "\n",
    "            self._backward_propagation(x_batch,y_batch)\n",
    "            indices = np.random.choice(X.shape[0], self.batch_size, replace=False)\n",
    "            x_batch = X[indices]\n",
    "            y_batch =y[indices]\n",
    "        \n",
    "            avg_err_arr[i] = self._forward_propagation(x_batch,y_batch)\n",
    "            \n",
    "        print(self.weight_dict)\n",
    "        return avg_err_arr\n",
    "        \n",
    "    \n",
    "    def fit(self, X,y, num_iterations = 1000, print_iter = False):\n",
    "        \n",
    "        if isinstance(X, pd.DataFrame):\n",
    "            X = X.to_numpy()\n",
    "            \n",
    "        if isinstance(y, pd.Series):\n",
    "            y = y.to_numpy()\n",
    "        \n",
    "        # add intercept to X\n",
    "        X = np.hstack([np.ones(len(X))[:, np.newaxis], X])  \n",
    "        y = np.array([y]).T # makes it easier to calculate loss\n",
    "        \n",
    "        # generate the random weights for every layer in neural network\n",
    "        self._create_weights(X.shape[1])\n",
    "        \n",
    "        \n",
    "        return self._stochastic_gradient_descent(X,y,num_iterations, print_iter)\n",
    "    \n",
    "    # forward propagation without saved vals for speed\n",
    "    def predict(self, X):\n",
    "        \n",
    "        sigma_h_x = np.hstack([np.ones(len(X))[:, np.newaxis], X])  \n",
    "        \n",
    "        for i in range(0,self.num_layers):\n",
    "            h_x = sigma_h_x @ self.weight_dict[i]\n",
    "            sigma_h_x = self.sigma(h_x) \n",
    "        \n",
    "        z_sigma_h_x = sigma_h_x @ self.weight_dict[self.num_layers]\n",
    "        return z_sigma_h_x.T[0]\n",
    "        "
   ]
  },
  {
   "cell_type": "code",
   "execution_count": 603,
   "metadata": {},
   "outputs": [],
   "source": [
    "def L2_loss(x,y, derivative = False):\n",
    "    # assumes y is nx1 vector (n rows, 1 col)\n",
    "    if derivative:\n",
    "        return x-y\n",
    "    else:\n",
    "        return 0.5*((x-y)**2)\n",
    "        \n",
    "def ReLU(X, derivative = False):\n",
    "    if derivative:\n",
    "        # faster than np.where\n",
    "        return np.greater(X, 0).astype(int)\n",
    "    return np.maximum(X,0)"
   ]
  },
  {
   "cell_type": "code",
   "execution_count": 604,
   "metadata": {},
   "outputs": [
    {
     "data": {
      "text/html": [
       "<div>\n",
       "<style scoped>\n",
       "    .dataframe tbody tr th:only-of-type {\n",
       "        vertical-align: middle;\n",
       "    }\n",
       "\n",
       "    .dataframe tbody tr th {\n",
       "        vertical-align: top;\n",
       "    }\n",
       "\n",
       "    .dataframe thead th {\n",
       "        text-align: right;\n",
       "    }\n",
       "</style>\n",
       "<table border=\"1\" class=\"dataframe\">\n",
       "  <thead>\n",
       "    <tr style=\"text-align: right;\">\n",
       "      <th></th>\n",
       "      <th>sepal width (cm)</th>\n",
       "      <th>petal length (cm)</th>\n",
       "      <th>petal width (cm)</th>\n",
       "      <th>target</th>\n",
       "    </tr>\n",
       "  </thead>\n",
       "  <tbody>\n",
       "    <tr>\n",
       "      <td>0</td>\n",
       "      <td>3.5</td>\n",
       "      <td>1.4</td>\n",
       "      <td>0.2</td>\n",
       "      <td>5.1</td>\n",
       "    </tr>\n",
       "    <tr>\n",
       "      <td>1</td>\n",
       "      <td>3.0</td>\n",
       "      <td>1.4</td>\n",
       "      <td>0.2</td>\n",
       "      <td>4.9</td>\n",
       "    </tr>\n",
       "    <tr>\n",
       "      <td>2</td>\n",
       "      <td>3.2</td>\n",
       "      <td>1.3</td>\n",
       "      <td>0.2</td>\n",
       "      <td>4.7</td>\n",
       "    </tr>\n",
       "    <tr>\n",
       "      <td>3</td>\n",
       "      <td>3.1</td>\n",
       "      <td>1.5</td>\n",
       "      <td>0.2</td>\n",
       "      <td>4.6</td>\n",
       "    </tr>\n",
       "    <tr>\n",
       "      <td>4</td>\n",
       "      <td>3.6</td>\n",
       "      <td>1.4</td>\n",
       "      <td>0.2</td>\n",
       "      <td>5.0</td>\n",
       "    </tr>\n",
       "  </tbody>\n",
       "</table>\n",
       "</div>"
      ],
      "text/plain": [
       "   sepal width (cm)  petal length (cm)  petal width (cm)  target\n",
       "0               3.5                1.4               0.2     5.1\n",
       "1               3.0                1.4               0.2     4.9\n",
       "2               3.2                1.3               0.2     4.7\n",
       "3               3.1                1.5               0.2     4.6\n",
       "4               3.6                1.4               0.2     5.0"
      ]
     },
     "execution_count": 604,
     "metadata": {},
     "output_type": "execute_result"
    }
   ],
   "source": [
    "import sklearn.datasets\n",
    "data = sklearn.datasets.load_iris()\n",
    "df = pd.DataFrame(data.data, columns=data.feature_names)\n",
    "df[\"target\"] = df[\"sepal length (cm)\"]\n",
    "df = df.drop(\"sepal length (cm)\", axis = 1)\n",
    "df.head()"
   ]
  },
  {
   "cell_type": "code",
   "execution_count": 605,
   "metadata": {},
   "outputs": [
    {
     "data": {
      "text/plain": [
       "5.843333333333335"
      ]
     },
     "execution_count": 605,
     "metadata": {},
     "output_type": "execute_result"
    }
   ],
   "source": [
    "df.target.mean()"
   ]
  },
  {
   "cell_type": "code",
   "execution_count": 610,
   "metadata": {},
   "outputs": [
    {
     "name": "stdout",
     "output_type": "stream",
     "text": [
      "{0: array([[0.53897071, 0.4893282 , 0.98013523, 0.72556696],\n",
      "       [0.77881227, 0.63475744, 0.11329743, 0.4285618 ],\n",
      "       [0.55041842, 0.07367494, 0.28825486, 0.17790043],\n",
      "       [0.37596473, 0.81812006, 0.89347364, 0.23256879]]), 1: array([[0.24154859],\n",
      "       [0.60031668],\n",
      "       [0.99296506],\n",
      "       [0.92170884]])}\n",
      "{0: array([[ 0.55119245,  0.50154994,  0.99235697,  0.7377887 ],\n",
      "       [ 0.76529072,  0.62123589,  0.09977588,  0.41504025],\n",
      "       [ 0.38452862, -0.09221485,  0.12236507,  0.01201063],\n",
      "       [ 0.19439878,  0.63655411,  0.71190769,  0.05100283]]), 1: array([[0.10829957],\n",
      "       [0.46721531],\n",
      "       [0.82363489],\n",
      "       [0.88330904]])}\n"
     ]
    },
    {
     "data": {
      "text/plain": [
       "0.10231730979540928"
      ]
     },
     "execution_count": 610,
     "metadata": {},
     "output_type": "execute_result"
    }
   ],
   "source": [
    "layers = 1\n",
    "nodes = 3\n",
    "activation = ReLU\n",
    "loss = L2_loss\n",
    "learning_rate = 0.000001\n",
    "batch_size = df.shape[0]\n",
    "\n",
    "\n",
    "test_nn = NeuralNetwork(layers, nodes, activation, loss, learning_rate, batch_size)\n",
    "\n",
    "\n",
    "errs = test_nn.fit(df.drop(\"target\",axis=1),df[\"target\"], num_iterations = 10000)\n",
    "errs[9999]"
   ]
  },
  {
   "cell_type": "code",
   "execution_count": 613,
   "metadata": {},
   "outputs": [
    {
     "data": {
      "text/plain": [
       "array([0., 0., 0., 0., 0., 0., 0., 0., 0., 0., 0., 0., 0., 0., 0., 0., 0.,\n",
       "       0., 0., 0., 0., 0., 0., 0., 0., 0., 0., 0., 0., 0., 0., 0., 0., 0.,\n",
       "       0., 0., 0., 0., 0., 0., 0., 0., 0., 0., 0., 0., 0., 0., 0., 0.])"
      ]
     },
     "execution_count": 613,
     "metadata": {},
     "output_type": "execute_result"
    }
   ],
   "source": [
    "preds"
   ]
  },
  {
   "cell_type": "code",
   "execution_count": 615,
   "metadata": {},
   "outputs": [
    {
     "data": {
      "text/plain": [
       "(array([4.49053441, 5.1134576 , 7.16064343, 5.06767709, 4.6659136 ,\n",
       "        5.99321768, 4.6659136 , 5.92741863, 5.47521131, 5.75006732,\n",
       "        4.57272634, 5.32811235, 5.88723591, 4.66771278, 7.47678957,\n",
       "        7.0968438 , 5.3582342 , 5.06587791, 5.37265495, 6.54908877,\n",
       "        4.72611486, 6.70030492, 4.57092716, 7.05646083, 6.27457864,\n",
       "        5.74087116, 5.34903805, 4.75910086, 7.48978433, 5.54584663,\n",
       "        5.78142708, 6.23979347, 6.34774736, 4.4777399 , 5.67887072,\n",
       "        5.33624354, 6.06621346, 4.99648049, 5.53541257, 6.47734604,\n",
       "        4.98368598, 7.45299972, 4.91248939, 5.29152799, 6.30196685,\n",
       "        5.77728258, 6.04999353, 6.53989262, 5.13724744, 5.55089828]),\n",
       " 0.19111385378760207)"
      ]
     },
     "execution_count": 615,
     "metadata": {},
     "output_type": "execute_result"
    }
   ],
   "source": [
    "samp_size = 50\n",
    "samp = df.sample(n=samp_size)\n",
    "\n",
    "\n",
    "preds = test_nn.predict(samp.drop(\"target\",axis=1))\n",
    "mse = ((preds -samp.target)**2).sum()/samp_size\n",
    "preds, mse"
   ]
  },
  {
   "cell_type": "code",
   "execution_count": 562,
   "metadata": {},
   "outputs": [
    {
     "data": {
      "text/plain": [
       "array([0., 0., 0., 0., 0., 0., 0., 0., 0., 0., 0., 0., 0., 0., 0., 0., 0.,\n",
       "       0., 0., 0., 0., 0., 0., 0., 0., 0., 0., 0., 0., 0., 0., 0., 0., 0.,\n",
       "       0., 0., 0., 0., 0., 0., 0., 0., 0., 0., 0., 0., 0., 0., 0., 0.])"
      ]
     },
     "execution_count": 562,
     "metadata": {},
     "output_type": "execute_result"
    }
   ],
   "source": []
  },
  {
   "cell_type": "code",
   "execution_count": 440,
   "metadata": {},
   "outputs": [],
   "source": [
    "# test on iris versicolor tomorrow\n",
    "e\n",
    "\n",
    "\n",
    "test_nn._create_weights(X.shape[1])"
   ]
  },
  {
   "cell_type": "code",
   "execution_count": null,
   "metadata": {},
   "outputs": [],
   "source": [
    "test_nn._forward_propagation(X,y)"
   ]
  },
  {
   "cell_type": "code",
   "execution_count": null,
   "metadata": {},
   "outputs": [],
   "source": [
    "for i in range(0,20):\n",
    "    test_nn._backward_propagation(X,y)\n",
    "    test_nn._forward_propagation(X,y)\n",
    "    \n",
    "\n",
    "\n"
   ]
  },
  {
   "cell_type": "code",
   "execution_count": 447,
   "metadata": {},
   "outputs": [
    {
     "data": {
      "text/plain": [
       "array([[1.02339419],\n",
       "       [1.7458805 ],\n",
       "       [2.46836682]])"
      ]
     },
     "execution_count": 447,
     "metadata": {},
     "output_type": "execute_result"
    }
   ],
   "source": [
    "X_test= np.array([\n",
    "    [1],\n",
    "    [2],\n",
    "    [3]\n",
    "])\n",
    "\n",
    "\n",
    "test_nn.predict(X_test)"
   ]
  },
  {
   "cell_type": "code",
   "execution_count": 423,
   "metadata": {},
   "outputs": [
    {
     "data": {
      "text/plain": [
       "'\\n\\n#         Jw1 = self.stored[self.num_layers-2][1].T @ J #dh2/dw1(sigma(h1(x)))\\n#         J =  J @ self.sigma(self.stored[self.num_layers-2][1], derivative = True) #dh2/dsigma(sigma(h1(x)))\\n#         J =  J @ self.stored[self.num_layers-2][0].T  #dsigma/dh1(h1(x))\\n        \\n\\n'"
      ]
     },
     "execution_count": 423,
     "metadata": {},
     "output_type": "execute_result"
    }
   ],
   "source": [
    "\"\"\"\n",
    "\n",
    "#         Jw1 = self.stored[self.num_layers-2][1].T @ J #dh2/dw1(sigma(h1(x)))\n",
    "#         J =  J @ self.sigma(self.stored[self.num_layers-2][1], derivative = True) #dh2/dsigma(sigma(h1(x)))\n",
    "#         J =  J @ self.stored[self.num_layers-2][0].T  #dsigma/dh1(h1(x))\n",
    "        \n",
    "\n",
    "\"\"\""
   ]
  },
  {
   "cell_type": "code",
   "execution_count": null,
   "metadata": {},
   "outputs": [],
   "source": [
    "        \n",
    "        ################################################################################\n",
    "        \n",
    "        #dsigma/dh2(h2(sigma(h1(x))))) # i dont understand\n",
    "        J = self.sigma(J, derivative = True)\n",
    "        # J = self.sigma(self.stored[num_layers-1][0], derivative)\n",
    "        \n",
    "        #updating the weights\n",
    "        #dh2/w1\n",
    "        #dh2/sigma(sigma(h2(sigma(h1(x)))))\n",
    "        old_weights = self.weight_dict[self.num_layers-1] \n",
    "        self.weight_dict[num_layers-1] = self.weight_dict[num_layers-1] -self.lr*(self.stored[num_layers-2][1].T @ J)\n",
    "        \n",
    "        #updating the weights\n",
    "        #dh2/dsigma(sigma(h2(sigma(h1(x)))))\n",
    "        J = J @ old_weights.T\n",
    "        \n",
    "        # network: X -w0-sigma-> h1 -w1-sigma-> h2 -w2-> y\n",
    "        \n",
    "        #1. J = loss_deriv(z(sigma(h2(sigma(h1(x)))))) \n",
    "        #2. Update weight w2 = w2 - learning_rate*(sigma(h2(sigma(h1(x)))) @ J)\n",
    "        #3  Dense layer derivative on z AKAJ =J @ oldweights.T\n",
    "        \n",
    "        #4. Activation Layer derivative of J\n",
    "        #5. Update weight w1 = w1 - learning_rate*(sigma(h1(x))) @ J)\n",
    "        # dense layer derivative on z AKA J @ oldweights.T\n",
    "        \n",
    "        #6 Activation Layer derivative of J\n",
    "        #7. Update weight w0 = w0 - learning_rate*(x) @ J)\n",
    "        \n",
    "        \n",
    "        \n",
    "        for i in range(self.num_layers,0,-1):\n",
    "            \n",
    "            \n",
    "            \n",
    "            \n",
    "            \n",
    "            \n",
    "            \n",
    "            \n",
    "            \n",
    "            \n",
    "            \n",
    "            old_weights = self.weight_dict[i]\n",
    "            self.weight_dict[i] = self.weight_dict[i] -self.lr*(self.stored[i-1][1].T @ J) #dz/dw | dh/dw\n",
    "            print(self.stored[i-1][1].T.shape)\n",
    "            print(J.shape)\n",
    "            J =  self.stored[i-1][1].T @ J #dz/dsigma  | dh/dsigma\n",
    "            print(\"\\n\")\n",
    "            print(J.shape)\n",
    "            print(self.sigma(self.stored[i-1][0], derivative = True).shape)\n",
    "            J =  J @ self.sigma(self.stored[i-1][0], derivative = True) #dsigma/dh\n",
    "            \n",
    "\n",
    "        #final weight update\n",
    "        self.weight_dict[0] = X.T @ J #dh1/dw0(x)        \n",
    "        ################################################################################\n",
    "        \n",
    "        #dsigma/dh2(h2(sigma(h1(x))))) # i dont understand\n",
    "        J = self.sigma(J, derivative = True)\n",
    "        # J = self.sigma(self.stored[num_layers-1][0], derivative)\n",
    "        \n",
    "        #updating the weights\n",
    "        #dh2/w1\n",
    "        #dh2/sigma(sigma(h2(sigma(h1(x)))))\n",
    "        old_weights = self.weight_dict[self.num_layers-1] \n",
    "        self.weight_dict[num_layers-1] = self.weight_dict[num_layers-1] -self.lr*(self.stored[num_layers-2][1].T @ J)\n",
    "        \n",
    "        #updating the weights\n",
    "        #dh2/dsigma(sigma(h2(sigma(h1(x)))))\n",
    "        J = J @ old_weights.T\n",
    "        \n",
    "        # network: X -w0-sigma-> h1 -w1-sigma-> h2 -w2-> y\n",
    "        \n",
    "        #1. J = loss_deriv(z(sigma(h2(sigma(h1(x))))))\n",
    "        #2. Update weight w2 = w2 - learning_rate*(sigma(h2(sigma(h1(x)))) @ J)\n",
    "        #3  Dense layer derivative on z AKAJ =J @ oldweights.T\n",
    "        \n",
    "        #4. Activation Layer derivative of J\n",
    "        #5. Update weight w1 = w1 - learning_rate*(sigma(h1(x))) @ J)\n",
    "        # dense layer derivative on z AKA J @ oldweights.T\n",
    "        \n",
    "        #\n",
    "        \n",
    "        \n",
    "        \n",
    "        \n",
    "        for i in range(self.num_layers,0,-1):\n",
    "            \n",
    "            \n",
    "            \n",
    "            \n",
    "            \n",
    "            \n",
    "            \n",
    "            \n",
    "            \n",
    "            \n",
    "            \n",
    "            old_weights = self.weight_dict[i]\n",
    "            self.weight_dict[i] = self.weight_dict[i] -self.lr*(self.stored[i-1][1].T @ J) #dz/dw | dh/dw\n",
    "            print(self.stored[i-1][1].T.shape)\n",
    "            print(J.shape)\n",
    "            J =  self.stored[i-1][1].T @ J #dz/dsigma  | dh/dsigma\n",
    "            print(\"\\n\")\n",
    "            print(J.shape)\n",
    "            print(self.sigma(self.stored[i-1][0], derivative = True).shape)\n",
    "            J =  J @ self.sigma(self.stored[i-1][0], derivative = True) #dsigma/dh\n",
    "            \n",
    "\n",
    "        #final weight update\n",
    "        self.weight_dict[0] = X.T @ J #dh1/dw0(x)"
   ]
  }
 ],
 "metadata": {
  "kernelspec": {
   "display_name": "Python 3",
   "language": "python",
   "name": "python3"
  },
  "language_info": {
   "codemirror_mode": {
    "name": "ipython",
    "version": 3
   },
   "file_extension": ".py",
   "mimetype": "text/x-python",
   "name": "python",
   "nbconvert_exporter": "python",
   "pygments_lexer": "ipython3",
   "version": "3.7.4"
  }
 },
 "nbformat": 4,
 "nbformat_minor": 2
}
