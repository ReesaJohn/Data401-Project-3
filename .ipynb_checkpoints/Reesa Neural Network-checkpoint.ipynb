{
 "cells": [
  {
   "cell_type": "markdown",
   "metadata": {},
   "source": [
    "### Neural Network Code\n",
    "\n",
    "The only functions of importance when being used are `fit` and `predict`, which can be used like almost any model in \n",
    "`scikit-learn`. \n",
    "\n",
    "Everything else is a helper method, and `Layer` is a helper class. I have included comments on how this code works. Please delete the sections marked delete after you understand them. I'll modify this file and my notes to you guys shortly before submission as well.\n",
    "\n",
    "Things to note:\n",
    "- `nodes` can be either an array or a single number. If you give an array, it must be the same length as `layers`\n",
    "- `activation` can only be a function. This implementation does not accept multiple activation functions\n",
    "- `loss` must return an nx1 array, and must assume its inputs are also nx1\n",
    "- Both `activation` and `loss` must have the parameter `derivative`, where when set to true, returns the derivative given the inputs it receives\n",
    "- The print_iter argument in fit allows to see what number error we are appending to the error array as an estimation of time left in a non_cluttering manner.\n",
    "\n",
    "- Please look at my example down below if you want to write a custom function, but I already implemented the functions that Professor Ventura said was best for this project\n"
   ]
  },
  {
   "cell_type": "code",
   "execution_count": 615,
   "metadata": {},
   "outputs": [],
   "source": [
    "import numpy as np\n",
    "import matplotlib.pyplot as plt\n",
    "import pandas as pd\n",
    "import math\n",
    "import sys\n",
    "import copy\n",
    "import math\n",
    "from sklearn.model_selection import train_test_split"
   ]
  },
  {
   "cell_type": "code",
   "execution_count": 711,
   "metadata": {},
   "outputs": [],
   "source": [
    "class Layer:\n",
    "    # essentially a container to hold stored values across layers in forward propogation\n",
    "    def __init__(self, h_x = None, sigma_h_x = None):\n",
    "        self.h_x = h_x\n",
    "        self.sigma_h_x = sigma_h_x\n",
    "\n",
    "\n",
    "class NeuralNetwork:\n",
    "    \n",
    "    def __init__(self, layers, nodes, activation, loss, learning_rate, batch_size, anneal):\n",
    "        \n",
    "        # number of hidden layers we are creating\n",
    "        self.num_layers = layers\n",
    "        \n",
    "        # number of nodes at each layer\n",
    "        self.nodes = self._create_nodes(nodes,layers)\n",
    "        \n",
    "        # activation function\n",
    "        self.sigma = activation\n",
    "                \n",
    "        # loss function\n",
    "        self.loss = loss\n",
    "        \n",
    "        # learning rate for stochastic gradient descent\n",
    "        self.lr = learning_rate\n",
    "        self.true_lr = learning_rate\n",
    "        # batch size for stochastic gradient descent\n",
    "        self.batch_size = batch_size\n",
    "\n",
    "        # after fit, will contain a dictionary of weights for the layers\n",
    "        self.weight_dict = None\n",
    "        \n",
    "        # store values for backwards propagation\n",
    "        self.stored = None\n",
    "        \n",
    "        self.anneal = anneal\n",
    "\n",
    "        \n",
    "    def _create_nodes(self, nodes, layers):\n",
    "        # if given a number, creates an array with layers amount of nodes\n",
    "        # otherwise returns the array of nodes\n",
    "        # in both cases increments by 1 to account for bias\n",
    "        if isinstance(nodes, int):\n",
    "            return [nodes]*(layers)\n",
    "        \n",
    "        else:\n",
    "            if len(nodes) != self.num_layers:\n",
    "                raise Exception(\"Node array length does not match number of layers\")\n",
    "            return nodes\n",
    "        \n",
    "    def _create_weights(self,  num_features):\n",
    "        \n",
    "        zero_weight = np.random.normal(scale=math.sqrt(2/num_features) ,size=(num_features,self.nodes[0]))\n",
    "\n",
    "        self.weight_dict = {\n",
    "            \n",
    "            0: np.vstack((np.zeros(self.nodes[0]),zero_weight))\n",
    "        }\n",
    "        \n",
    "        for i in range(1,self.num_layers):\n",
    "            \n",
    "            weight = np.random.normal(scale=math.sqrt(2/num_features) ,size=(self.nodes[i-1],self.nodes[i]))\n",
    "            self.weight_dict[i] = np.vstack((np.zeros(self.nodes[i]), weight))\n",
    "            \n",
    "        weight = np.random.normal(scale=math.sqrt(2/num_features) ,size=(self.nodes[self.num_layers-1],1))\n",
    "        self.weight_dict[self.num_layers] = np.vstack((np.zeros(1), weight))\n",
    "\n",
    "\n",
    "    def _forward_propagation(self, X, y):\n",
    "        # performs forward_propagation and stores appropriate values\n",
    "        \n",
    "        sigma_h_x = X\n",
    "        self.stored = {}\n",
    "        self.stored[-1] = Layer(None, sigma_h_x)\n",
    "        \n",
    "        for i in range(0,self.num_layers):\n",
    "            sigma_h_x = np.hstack([np.ones(len(sigma_h_x ))[:, np.newaxis], sigma_h_x]) # adds a weight intercept to the front  \n",
    "            h_x = sigma_h_x @ self.weight_dict[i] \n",
    "            sigma_h_x = self.sigma(h_x) \n",
    "            self.stored[i] = Layer(h_x, sigma_h_x)\n",
    "            \n",
    "        sigma_h_x = np.hstack([np.ones(len(sigma_h_x))[:, np.newaxis], sigma_h_x])\n",
    "        z_sigma_h_x = sigma_h_x @ self.weight_dict[self.num_layers]\n",
    "        self.stored[self.num_layers] = Layer(z_sigma_h_x)\n",
    "        \n",
    "        return np.sum(self.loss(z_sigma_h_x, y))/self.batch_size \n",
    "\n",
    "    def _backward_propagation(self, X,y):\n",
    "        # updates the weights based on the stored values from forward propagation\n",
    "        \n",
    "        num_layers = self.num_layers\n",
    "        expected = self.stored[self.num_layers].h_x #z(sigma(h2(sigma(h1(x)))))\n",
    "        \n",
    "        # dL/dz(z(sigma(h2(sigma(h1(x))))))\n",
    "        J = self.loss(expected, y, derivative = True)\n",
    "        \n",
    "        old_weights = self.weight_dict[num_layers][1:,:] \n",
    "        old_bias = self.weight_dict[num_layers][0:1,:] \n",
    "\n",
    "        \n",
    "        new_weights = old_weights - self.lr*(self.stored[num_layers-1].sigma_h_x.T @ J)\n",
    "        new_bias = old_bias - (self.lr * (np.array([np.ones(J.shape[0])]) @ J))\n",
    "\n",
    "        self.weight_dict[num_layers] = np.vstack((new_bias, new_weights))\n",
    "\n",
    "        J = J @ old_weights.T\n",
    "        \n",
    "        for i in range(self.num_layers-1,-1,-1):\n",
    "           \n",
    "            J = J * self.sigma(self.stored[i].h_x, derivative = True) # activation layer derivative\n",
    "\n",
    "            old_weights = self.weight_dict[i][1:,:] \n",
    "            old_bias = self.weight_dict[i][0:1,:] \n",
    "\n",
    "            new_weights = old_weights - self.lr*(self.stored[i-1].sigma_h_x.T @ J)\n",
    "            new_bias = old_bias - (self.lr * (np.array([np.ones(J.shape[0])]) @ J))\n",
    "\n",
    "            self.weight_dict[i] = np.vstack((new_bias, new_weights))\n",
    "            \n",
    "            J = J @ old_weights.T  # dense layer derivative       \n",
    "            \n",
    "\n",
    "    # want to backwards prop then feedforward\n",
    "    def _stochastic_gradient_descent(self, X, y, X_val, y_val, diff, max_epochs, print_iter):\n",
    "        \n",
    "        num_batches = math.ceil(X.shape[0]/self.batch_size)\n",
    "        \n",
    "        avg_err_arr = [np.nan]*(max_epochs)\n",
    "        avg_acc_arr = [np.nan]*(max_epochs)\n",
    "\n",
    "        \n",
    "        for i in range(0, max_epochs):\n",
    "            \n",
    "            indices = np.random.choice(X.shape[0], X.shape[0], replace=False)\n",
    "            x_batch = X[indices]\n",
    "            y_batch =y[indices]\n",
    "            \n",
    "            old_start = 0\n",
    "            new_start = 0\n",
    "            new_end = self.batch_size\n",
    "            mini_err_arr = [np.nan]*num_batches\n",
    "            mini_err_arr[0] = self._forward_propagation(x_batch[new_start:new_end],y_batch[new_start:new_end])\n",
    "\n",
    "            for j in range(1,num_batches):\n",
    "                old_start = new_start\n",
    "                new_start = old_start + self.batch_size\n",
    "                new_end = new_start+self.batch_size\n",
    "                \n",
    "                self._backward_propagation(x_batch[old_start:new_start], y_batch[old_start:new_start])\n",
    "                mini_err_arr[j] = self._forward_propagation(x_batch[new_start:new_end],y_batch[new_start:new_end])\n",
    " \n",
    "                if print_iter:\n",
    "                    sys.stdout.write(\"\\r\" +  str(i) +\"     \" +str(j))\n",
    "                    sys.stdout.flush()\n",
    "                    \n",
    "            if i!= num_epochs-1:\n",
    "                 self._backward_propagation(x_batch[new_start:],y_batch[new_start:])\n",
    "                    \n",
    "            if i%10 == 0:\n",
    "                self.lr = self.lr * self.anneal\n",
    "                \n",
    "            avg_err_arr[i] = np.mean(mini_err_arr)\n",
    "            \n",
    "            preds = self.predict(X_val)\n",
    "            rmse = np.sqrt(np.mean((preds-y_val)**2))\n",
    "            \n",
    "            avg_acc_arr[i] = rmse\n",
    "            \n",
    "            # ensures the accuracy is always improving significantly\n",
    "            if i > 0 and (avg_acc_arr[i-1] - avg_acc_arr[i]) <= diff:\n",
    "                return avg_err_arr[0:i+1], avg_acc_arr[0:i+1]\n",
    "            \n",
    "                \n",
    "        return avg_err_arr, avg_acc_arr\n",
    "\n",
    "    def fit(self, X,y, X_val, y_val, rmse_diff = 0.000001, max_epochs = 10, print_iter = False):\n",
    "        # X is either a numpy array or a dataframe without the target and intercept\n",
    "        # y is either a pandas series or a 1d (potentially numpy) array\n",
    "        # returns a list of the average loss for each iteration\n",
    "        # if print iter is true, prints the current iteration (will be written on a single line, not multiple)\n",
    "        self.lr = self.true_lr\n",
    "        if isinstance(X, pd.DataFrame):\n",
    "            new_x = X.to_numpy()\n",
    "        else:\n",
    "            new_x = copy.deepcopy(X)\n",
    "            \n",
    "        if isinstance(X_val, pd.DataFrame):\n",
    "            new_x_val = X_val.to_numpy()\n",
    "        else:\n",
    "            new_x_val = copy.deepcopy(X_val)\n",
    "            \n",
    "        if isinstance(y, pd.Series):\n",
    "            new_y = y.to_numpy()\n",
    "        if len(y.shape) == 1:\n",
    "            new_y = np.array([new_y]).T\n",
    "        else:\n",
    "            new_y = copy.deepcopy(y)\n",
    "        \n",
    "        if isinstance(y_val, pd.Series):\n",
    "            new_y_val = y_val.to_numpy()\n",
    "        if len(y_val.shape) == 1:\n",
    "            new_y_val = np.array([new_y_val]).T\n",
    "        else:\n",
    "            new_y_val = copy.deepcopy(y_val)\n",
    "            \n",
    "        # generate the random weights for every layer in neural network\n",
    "        self._create_weights(new_x.shape[1])\n",
    "        \n",
    "        vals = self._stochastic_gradient_descent(new_x,new_y,new_x_val, new_y_val, rmse_diff, max_epochs, print_iter)\n",
    "        \n",
    "\n",
    "        return vals \n",
    "    def predict(self, X):\n",
    "        \n",
    "        sigma_h_x = X\n",
    "        \n",
    "        for i in range(0,self.num_layers):\n",
    "            sigma_h_x = np.hstack([np.ones(len(sigma_h_x ))[:, np.newaxis], sigma_h_x ]) # adds a weight intercept  \n",
    "            h_x = sigma_h_x @ self.weight_dict[i] \n",
    "            sigma_h_x = self.sigma(h_x) \n",
    "            \n",
    "        sigma_h_x = np.hstack([np.ones(len(sigma_h_x))[:, np.newaxis], sigma_h_x ])\n",
    "        z_sigma_h_x = sigma_h_x @ self.weight_dict[self.num_layers]\n",
    "        return z_sigma_h_x.T[0]\n",
    "        \n",
    "        return np.sum(self.loss(z_sigma_h_x, y))/self.batch_size \n",
    "\n",
    "        "
   ]
  },
  {
   "cell_type": "markdown",
   "metadata": {},
   "source": [
    "### Sample Loss and Activation Function\n",
    "\n",
    "You can use it like so:\n",
    "\n",
    "```\n",
    "test_nn = NeuralNetwork(layers, nodes, activation=ReLU, loss=L2_loss, learning_rate, batch_size)\n",
    "```\n",
    "Just simply enter the name of the function."
   ]
  },
  {
   "cell_type": "code",
   "execution_count": 712,
   "metadata": {},
   "outputs": [],
   "source": [
    "# loss and activation function to use in \n",
    "\n",
    "def L2_loss(x,y, derivative = False):\n",
    "    # assumes y is nx1 vector (n rows, 1 col)\n",
    "    # returns an nx1 matrix\n",
    "    if derivative:\n",
    "        return x-y\n",
    "    else:\n",
    "        return 0.5*((x-y)**2)\n",
    "        \n",
    "def ReLU(X, derivative = False):\n",
    "\n",
    "    if derivative:\n",
    "        return np.greater(X, 0).astype(int)\n",
    "    return np.maximum(X,0)"
   ]
  },
  {
   "cell_type": "markdown",
   "metadata": {},
   "source": [
    "### Testing on Iris Dataset"
   ]
  },
  {
   "cell_type": "code",
   "execution_count": 733,
   "metadata": {},
   "outputs": [
    {
     "data": {
      "text/html": [
       "<div>\n",
       "<style scoped>\n",
       "    .dataframe tbody tr th:only-of-type {\n",
       "        vertical-align: middle;\n",
       "    }\n",
       "\n",
       "    .dataframe tbody tr th {\n",
       "        vertical-align: top;\n",
       "    }\n",
       "\n",
       "    .dataframe thead th {\n",
       "        text-align: right;\n",
       "    }\n",
       "</style>\n",
       "<table border=\"1\" class=\"dataframe\">\n",
       "  <thead>\n",
       "    <tr style=\"text-align: right;\">\n",
       "      <th></th>\n",
       "      <th>sepal width (cm)</th>\n",
       "      <th>petal length (cm)</th>\n",
       "      <th>petal width (cm)</th>\n",
       "      <th>target</th>\n",
       "    </tr>\n",
       "  </thead>\n",
       "  <tbody>\n",
       "    <tr>\n",
       "      <td>0</td>\n",
       "      <td>3.5</td>\n",
       "      <td>1.4</td>\n",
       "      <td>0.2</td>\n",
       "      <td>5.1</td>\n",
       "    </tr>\n",
       "    <tr>\n",
       "      <td>1</td>\n",
       "      <td>3.0</td>\n",
       "      <td>1.4</td>\n",
       "      <td>0.2</td>\n",
       "      <td>4.9</td>\n",
       "    </tr>\n",
       "    <tr>\n",
       "      <td>2</td>\n",
       "      <td>3.2</td>\n",
       "      <td>1.3</td>\n",
       "      <td>0.2</td>\n",
       "      <td>4.7</td>\n",
       "    </tr>\n",
       "    <tr>\n",
       "      <td>3</td>\n",
       "      <td>3.1</td>\n",
       "      <td>1.5</td>\n",
       "      <td>0.2</td>\n",
       "      <td>4.6</td>\n",
       "    </tr>\n",
       "    <tr>\n",
       "      <td>4</td>\n",
       "      <td>3.6</td>\n",
       "      <td>1.4</td>\n",
       "      <td>0.2</td>\n",
       "      <td>5.0</td>\n",
       "    </tr>\n",
       "  </tbody>\n",
       "</table>\n",
       "</div>"
      ],
      "text/plain": [
       "   sepal width (cm)  petal length (cm)  petal width (cm)  target\n",
       "0               3.5                1.4               0.2     5.1\n",
       "1               3.0                1.4               0.2     4.9\n",
       "2               3.2                1.3               0.2     4.7\n",
       "3               3.1                1.5               0.2     4.6\n",
       "4               3.6                1.4               0.2     5.0"
      ]
     },
     "execution_count": 733,
     "metadata": {},
     "output_type": "execute_result"
    }
   ],
   "source": [
    "import sklearn.datasets\n",
    "data = sklearn.datasets.load_iris()\n",
    "df = pd.DataFrame(data.data, columns=data.feature_names)\n",
    "df[\"target\"] = df[\"sepal length (cm)\"]\n",
    "df = df.drop(\"sepal length (cm)\", axis = 1)\n",
    "df.head()"
   ]
  },
  {
   "cell_type": "code",
   "execution_count": 746,
   "metadata": {},
   "outputs": [],
   "source": [
    "X_train, X_test, y_train, y_test = train_test_split(df.drop(\"target\",axis=1), df[\"target\"], test_size=0.33, random_state=42)\n",
    "\n",
    "X_train, X_val, y_train, y_val = train_test_split(X_train, y_train, test_size=0.33, random_state=42)\n",
    "\n",
    "layers = 3\n",
    "nodes = 3\n",
    "activation = ReLU\n",
    "loss = L2_loss\n",
    "learning_rate = 0.001\n",
    "batch_size = 10\n",
    "num_epochs = 200\n",
    "anneal = 1\n",
    "\n",
    "test_nn = NeuralNetwork(layers, nodes, activation, loss, learning_rate, batch_size, anneal = anneal)\n",
    "\n",
    "errs,acc = test_nn.fit(X_train,y_train, X_val, y_val, rmse_diff = 0.0001, max_epochs = num_epochs, print_iter = False)"
   ]
  },
  {
   "cell_type": "code",
   "execution_count": 747,
   "metadata": {},
   "outputs": [
    {
     "data": {
      "text/plain": [
       "[<matplotlib.lines.Line2D at 0x1fc0ae40b48>]"
      ]
     },
     "execution_count": 747,
     "metadata": {},
     "output_type": "execute_result"
    },
    {
     "data": {
      "image/png": "[encoded data removed]",
      "text/plain": [
       "<Figure size 432x288 with 1 Axes>"
      ]
     },
     "metadata": {
      "needs_background": "light"
     },
     "output_type": "display_data"
    }
   ],
   "source": [
    "fig = plt.figure()\n",
    "ax = plt.axes()\n",
    "\n",
    "x = np.linspace(0, 10, 1000)\n",
    "ax.plot([i for i in range(0,len(errs))], errs)"
   ]
  },
  {
   "cell_type": "code",
   "execution_count": 748,
   "metadata": {},
   "outputs": [
    {
     "data": {
      "text/plain": [
       "[<matplotlib.lines.Line2D at 0x1fc0bacde48>]"
      ]
     },
     "execution_count": 748,
     "metadata": {},
     "output_type": "execute_result"
    },
    {
     "data": {
      "image/png": "[encoded data removed]",
      "text/plain": [
       "<Figure size 432x288 with 1 Axes>"
      ]
     },
     "metadata": {
      "needs_background": "light"
     },
     "output_type": "display_data"
    }
   ],
   "source": [
    "fig = plt.figure()\n",
    "ax = plt.axes()\n",
    "\n",
    "x = np.linspace(0, 10, 1000)\n",
    "ax.plot([i for i in range(0,len(errs))], acc)"
   ]
  },
  {
   "cell_type": "code",
   "execution_count": 749,
   "metadata": {},
   "outputs": [
    {
     "data": {
      "text/plain": [
       "(0.8195152439548723, 0.5)"
      ]
     },
     "execution_count": 749,
     "metadata": {},
     "output_type": "execute_result"
    }
   ],
   "source": [
    "samp_size = 50\n",
    "samp = df.sample(n=samp_size)\n",
    "\n",
    "\n",
    "preds = test_nn.predict(X_test)\n",
    "rmse = np.sqrt(np.mean((preds-y_test)**2))\n",
    "rmse, y.std()"
   ]
  },
  {
   "cell_type": "markdown",
   "metadata": {},
   "source": [
    "### Testing on Moon Dataset"
   ]
  },
  {
   "cell_type": "code",
   "execution_count": 750,
   "metadata": {},
   "outputs": [],
   "source": [
    "from sklearn.datasets import make_moons\n",
    "import numpy as np\n",
    "from matplotlib import pyplot as plt\n",
    "\n",
    "X,y = make_moons(n_samples=10000,noise=0.1)\n",
    "X = X.astype('float32')\n",
    "y = y.astype('float32')\n",
    "y = np.expand_dims(y,axis=-1)"
   ]
  },
  {
   "cell_type": "code",
   "execution_count": 751,
   "metadata": {},
   "outputs": [],
   "source": [
    "X_train, X_test, y_train, y_test = train_test_split(X,y, test_size=0.33, random_state=42)\n",
    "\n",
    "X_train, X_val, y_train, y_val = train_test_split(X_train, y_train, test_size=0.33, random_state=42)\n",
    "\n",
    "layers = 4\n",
    "nodes = 3\n",
    "activation = ReLU\n",
    "loss = L2_loss\n",
    "learning_rate = 0.0001\n",
    "batch_size = 128\n",
    "num_epochs = 200\n",
    "anneal = 0.5\n",
    "\n",
    "test_nn = NeuralNetwork(layers, nodes, activation, loss, learning_rate, batch_size, anneal = anneal)\n",
    "\n",
    "errs,acc = test_nn.fit(X_train,y_train, X_val, y_val, rmse_diff = 0.00001, max_epochs = num_epochs, print_iter = False)"
   ]
  },
  {
   "cell_type": "code",
   "execution_count": 752,
   "metadata": {},
   "outputs": [
    {
     "data": {
      "text/plain": [
       "[<matplotlib.lines.Line2D at 0x1fc0bb27388>]"
      ]
     },
     "execution_count": 752,
     "metadata": {},
     "output_type": "execute_result"
    },
    {
     "data": {
      "image/png": "[encoded data removed]",
      "text/plain": [
       "<Figure size 432x288 with 1 Axes>"
      ]
     },
     "metadata": {
      "needs_background": "light"
     },
     "output_type": "display_data"
    }
   ],
   "source": [
    "fig = plt.figure()\n",
    "ax = plt.axes()\n",
    "\n",
    "x = np.linspace(0, 10, 1000)\n",
    "ax.plot([i for i in range(0,len(errs))], errs)"
   ]
  },
  {
   "cell_type": "code",
   "execution_count": 753,
   "metadata": {},
   "outputs": [
    {
     "data": {
      "text/plain": [
       "[<matplotlib.lines.Line2D at 0x1fc0bb8ad08>]"
      ]
     },
     "execution_count": 753,
     "metadata": {},
     "output_type": "execute_result"
    },
    {
     "data": {
      "image/png": "[encoded data removed]",
      "text/plain": [
       "<Figure size 432x288 with 1 Axes>"
      ]
     },
     "metadata": {
      "needs_background": "light"
     },
     "output_type": "display_data"
    }
   ],
   "source": [
    "fig = plt.figure()\n",
    "ax = plt.axes()\n",
    "\n",
    "x = np.linspace(0, 10, 1000)\n",
    "ax.plot([i for i in range(0,len(acc))], acc)"
   ]
  },
  {
   "cell_type": "code",
   "execution_count": 754,
   "metadata": {},
   "outputs": [
    {
     "data": {
      "text/plain": [
       "(0.5000230040500655, 0.5)"
      ]
     },
     "execution_count": 754,
     "metadata": {},
     "output_type": "execute_result"
    }
   ],
   "source": [
    "preds = test_nn.predict(X_test)\n",
    "rmse = np.sqrt(np.mean((preds-y_test)**2))\n",
    "rmse, y.std()"
   ]
  },
  {
   "cell_type": "code",
   "execution_count": null,
   "metadata": {},
   "outputs": [],
   "source": []
  }
 ],
 "metadata": {
  "kernelspec": {
   "display_name": "Python 3",
   "language": "python",
   "name": "python3"
  },
  "language_info": {
   "codemirror_mode": {
    "name": "ipython",
    "version": 3
   },
   "file_extension": ".py",
   "mimetype": "text/x-python",
   "name": "python",
   "nbconvert_exporter": "python",
   "pygments_lexer": "ipython3",
   "version": "3.7.4"
  }
 },
 "nbformat": 4,
 "nbformat_minor": 2
}
