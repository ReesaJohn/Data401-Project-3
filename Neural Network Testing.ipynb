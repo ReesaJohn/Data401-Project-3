{
 "cells": [
  {
   "cell_type": "code",
   "execution_count": 102,
   "metadata": {},
   "outputs": [],
   "source": [
    "import numpy as np\n",
    "import matplotlib.pyplot as plt\n",
    "import pandas as pd\n",
    "import math\n",
    "import sys\n",
    "import copy\n",
    "import math\n",
    "from sklearn.model_selection import train_test_split"
   ]
  },
  {
   "cell_type": "code",
   "execution_count": 131,
   "metadata": {},
   "outputs": [],
   "source": [
    "class Layer:\n",
    "    # essentially a container to hold stored values across layers in forward propogation\n",
    "    def __init__(self, h_x = None, sigma_h_x = None):\n",
    "        self.h_x = h_x\n",
    "        self.sigma_h_x = sigma_h_x\n",
    "\n",
    "\n",
    "class NeuralNetwork:\n",
    "    \n",
    "    def __init__(self, layers, nodes, activation, loss, learning_rate, batch_size, anneal):\n",
    "        \n",
    "        # number of hidden layers we are creating\n",
    "        self.num_layers = layers\n",
    "        \n",
    "        # number of nodes at each layer\n",
    "        self.nodes = self._create_nodes(nodes,layers)\n",
    "        \n",
    "        # activation function\n",
    "        self.sigma = activation\n",
    "                \n",
    "        # loss function\n",
    "        self.loss = loss\n",
    "        \n",
    "        # learning rate for stochastic gradient descent\n",
    "        self.lr = learning_rate\n",
    "        self.true_lr = learning_rate\n",
    "        # batch size for stochastic gradient descent\n",
    "        self.batch_size = batch_size\n",
    "\n",
    "        # after fit, will contain a dictionary of weights for the layers\n",
    "        self.weight_dict = None\n",
    "        \n",
    "        # store values for backwards propagation\n",
    "        self.stored = None\n",
    "        \n",
    "        self.anneal = anneal\n",
    "\n",
    "        \n",
    "    def _create_nodes(self, nodes, layers):\n",
    "        # if given a number, creates an array with layers amount of nodes\n",
    "        # otherwise returns the array of nodes\n",
    "        # in both cases increments by 1 to account for bias\n",
    "        if isinstance(nodes, int):\n",
    "            return [nodes]*(layers)\n",
    "        \n",
    "        else:\n",
    "            if len(nodes) != self.num_layers:\n",
    "                raise Exception(\"Node array length does not match number of layers\")\n",
    "            return nodes\n",
    "        \n",
    "    def _create_weights(self,  num_features):\n",
    "        \n",
    "        zero_weight = np.random.normal(scale=math.sqrt(2/num_features) ,size=(num_features,self.nodes[0]))\n",
    "\n",
    "        self.weight_dict = {\n",
    "            \n",
    "            0: np.vstack((np.zeros(self.nodes[0]),zero_weight))\n",
    "        }\n",
    "        \n",
    "        for i in range(1,self.num_layers):\n",
    "            \n",
    "            weight = np.random.normal(scale=math.sqrt(2/num_features) ,size=(self.nodes[i-1],self.nodes[i]))\n",
    "            self.weight_dict[i] = np.vstack((np.zeros(self.nodes[i]), weight))\n",
    "            \n",
    "        weight = np.random.normal(scale=math.sqrt(2/num_features) ,size=(self.nodes[self.num_layers-1],1))\n",
    "        self.weight_dict[self.num_layers] = np.vstack((np.zeros(1), weight))\n",
    "\n",
    "\n",
    "    def _forward_propagation(self, X, y):\n",
    "        # performs forward_propagation and stores appropriate values\n",
    "        \n",
    "        sigma_h_x = X\n",
    "        self.stored = {}\n",
    "        self.stored[-1] = Layer(None, sigma_h_x)\n",
    "        \n",
    "        for i in range(0,self.num_layers):\n",
    "            sigma_h_x = np.hstack([np.ones(len(sigma_h_x ))[:, np.newaxis], sigma_h_x]) # adds a weight intercept to the front  \n",
    "            h_x = sigma_h_x @ self.weight_dict[i] \n",
    "            sigma_h_x = self.sigma(h_x) \n",
    "            self.stored[i] = Layer(h_x, sigma_h_x)\n",
    "            \n",
    "        sigma_h_x = np.hstack([np.ones(len(sigma_h_x))[:, np.newaxis], sigma_h_x])\n",
    "        z_sigma_h_x = sigma_h_x @ self.weight_dict[self.num_layers]\n",
    "        self.stored[self.num_layers] = Layer(z_sigma_h_x)\n",
    "        \n",
    "        return np.sum(self.loss(z_sigma_h_x, y))/self.batch_size \n",
    "\n",
    "    def _backward_propagation(self, X,y):\n",
    "        # updates the weights based on the stored values from forward propagation\n",
    "        \n",
    "        num_layers = self.num_layers\n",
    "        expected = self.stored[self.num_layers].h_x #z(sigma(h2(sigma(h1(x)))))\n",
    "        \n",
    "        # dL/dz(z(sigma(h2(sigma(h1(x))))))\n",
    "        J = self.loss(expected, y, derivative = True)\n",
    "        \n",
    "        old_weights = self.weight_dict[num_layers][1:,:] \n",
    "        old_bias = self.weight_dict[num_layers][0:1,:] \n",
    "\n",
    "        \n",
    "        new_weights = old_weights - self.lr*(self.stored[num_layers-1].sigma_h_x.T @ J)\n",
    "        new_bias = old_bias - (self.lr * (np.array([np.ones(J.shape[0])]) @ J))\n",
    "\n",
    "        self.weight_dict[num_layers] = np.vstack((new_bias, new_weights))\n",
    "\n",
    "        J = J @ old_weights.T\n",
    "        \n",
    "        for i in range(self.num_layers-1,-1,-1):\n",
    "           \n",
    "            J = J * self.sigma(self.stored[i].h_x, derivative = True) # activation layer derivative\n",
    "\n",
    "            old_weights = self.weight_dict[i][1:,:] \n",
    "            old_bias = self.weight_dict[i][0:1,:] \n",
    "\n",
    "            new_weights = old_weights - self.lr*(self.stored[i-1].sigma_h_x.T @ J)\n",
    "            new_bias = old_bias - (self.lr * (np.array([np.ones(J.shape[0])]) @ J))\n",
    "\n",
    "            self.weight_dict[i] = np.vstack((new_bias, new_weights))\n",
    "            \n",
    "            J = J @ old_weights.T  # dense layer derivative       \n",
    "            \n",
    "\n",
    "    # want to backwards prop then feedforward\n",
    "    def _stochastic_gradient_descent(self, X, y, X_val, y_val, diff, max_epochs, print_iter):\n",
    "        \n",
    "        no_improve = 0\n",
    "        diff_num = 10\n",
    "        \n",
    "        num_batches = math.ceil(X.shape[0]/self.batch_size)\n",
    "        \n",
    "        avg_err_arr = [np.nan]*(max_epochs)\n",
    "        avg_acc_arr = [np.nan]*(max_epochs)\n",
    "\n",
    "        \n",
    "        for i in range(0, max_epochs):\n",
    "            \n",
    "            indices = np.random.choice(X.shape[0], X.shape[0], replace=False)\n",
    "            x_batch = X[indices]\n",
    "            y_batch =y[indices]\n",
    "            \n",
    "            old_start = 0\n",
    "            new_start = 0\n",
    "            new_end = self.batch_size\n",
    "            mini_err_arr = [np.nan]*num_batches\n",
    "            mini_err_arr[0] = self._forward_propagation(x_batch[new_start:new_end],y_batch[new_start:new_end])\n",
    "\n",
    "            for j in range(1,num_batches):\n",
    "                old_start = new_start\n",
    "                new_start = old_start + self.batch_size\n",
    "                new_end = new_start+self.batch_size\n",
    "                \n",
    "                self._backward_propagation(x_batch[old_start:new_start], y_batch[old_start:new_start])\n",
    "                mini_err_arr[j] = self._forward_propagation(x_batch[new_start:new_end],y_batch[new_start:new_end])\n",
    " \n",
    "                if print_iter:\n",
    "                    sys.stdout.write(\"\\r\" +  str(i) +\"     \" +str(j))\n",
    "                    sys.stdout.flush()\n",
    "                \n",
    "            avg_err_arr[i] = np.mean(mini_err_arr)\n",
    "            \n",
    "            if i > 0 and (avg_err_arr[i-1] - avg_err_arr[i]) <= (diff_num * diff):\n",
    "                self.lr = self.lr * self.anneal\n",
    "                diff_num = diff_num * self.anneal\n",
    "                \n",
    "            preds = self.predict(X_val)\n",
    "            mse = np.mean((preds-y_val)**2)\n",
    "            \n",
    "            avg_acc_arr[i] = mse\n",
    "            \n",
    "            if i > 0 and (avg_acc_arr[i-1] - avg_acc_arr[i]) <= diff:\n",
    "                no_improve +=1\n",
    "            else:\n",
    "                no_improve = max(no_improve-1,0)\n",
    "                \n",
    "            if no_improve==3:\n",
    "                return avg_err_arr[0:i+1], avg_acc_arr[0:i+1]\n",
    "            \n",
    "            if i!= max_epochs-1:\n",
    "                 self._backward_propagation(x_batch[new_start:],y_batch[new_start:])\n",
    "            \n",
    "                \n",
    "        return avg_err_arr, avg_acc_arr\n",
    "\n",
    "    def fit(self, X,y, X_val, y_val, mse_diff = 0.000001, max_epochs = 10, print_iter = False):\n",
    "        # X is either a numpy array or a dataframe without the target and intercept\n",
    "        # y is either a pandas series or a 1d (potentially numpy) array\n",
    "        # returns a list of the average loss for each iteration\n",
    "        # if print iter is true, prints the current iteration (will be written on a single line, not multiple)\n",
    "        self.lr = self.true_lr\n",
    "        if isinstance(X, pd.DataFrame):\n",
    "            new_x = X.to_numpy()\n",
    "        else:\n",
    "            new_x = copy.deepcopy(X)\n",
    "            \n",
    "        if isinstance(X_val, pd.DataFrame):\n",
    "            new_x_val = X_val.to_numpy()\n",
    "        else:\n",
    "            new_x_val = copy.deepcopy(X_val)\n",
    "            \n",
    "        if isinstance(y, pd.Series):\n",
    "            new_y = y.to_numpy()\n",
    "        if len(y.shape) == 1:\n",
    "            new_y = np.array([new_y]).T\n",
    "        else:\n",
    "            new_y = copy.deepcopy(y)\n",
    "        \n",
    "        if isinstance(y_val, pd.Series):\n",
    "            new_y_val = y_val.to_numpy()\n",
    "        if len(y_val.shape) == 1:\n",
    "            new_y_val = np.array([new_y_val]).T\n",
    "        else:\n",
    "            new_y_val = copy.deepcopy(y_val)\n",
    "            \n",
    "        # generate the random weights for every layer in neural network\n",
    "        self._create_weights(new_x.shape[1])\n",
    "        \n",
    "        vals = self._stochastic_gradient_descent(new_x,new_y,new_x_val, new_y_val, mse_diff, max_epochs, print_iter)\n",
    "        \n",
    "\n",
    "        return vals \n",
    "    def predict(self, X):\n",
    "        \n",
    "        sigma_h_x = X\n",
    "        \n",
    "        for i in range(0,self.num_layers):\n",
    "            sigma_h_x = np.hstack([np.ones(len(sigma_h_x ))[:, np.newaxis], sigma_h_x ]) # adds a weight intercept  \n",
    "            h_x = sigma_h_x @ self.weight_dict[i] \n",
    "            sigma_h_x = self.sigma(h_x) \n",
    "            \n",
    "        sigma_h_x = np.hstack([np.ones(len(sigma_h_x))[:, np.newaxis], sigma_h_x ])\n",
    "        z_sigma_h_x = sigma_h_x @ self.weight_dict[self.num_layers]\n",
    "        return z_sigma_h_x.T[0]\n",
    "        \n",
    "        return np.sum(self.loss(z_sigma_h_x, y))/self.batch_size \n",
    "\n",
    "# loss and activation function to use in \n",
    "\n",
    "def L2_loss(x,y, derivative = False):\n",
    "    # assumes y is nx1 vector (n rows, 1 col)\n",
    "    # returns an nx1 matrix\n",
    "    if derivative:\n",
    "        return x-y\n",
    "    else:\n",
    "        return 0.5*((x-y)**2)\n",
    "        \n",
    "def ReLU(X, derivative = False):\n",
    "\n",
    "    if derivative:\n",
    "        return np.greater(X, 0).astype(int)\n",
    "    return np.maximum(X,0)      "
   ]
  },
  {
   "cell_type": "markdown",
   "metadata": {},
   "source": [
    "### Loading in Data"
   ]
  },
  {
   "cell_type": "code",
   "execution_count": 132,
   "metadata": {},
   "outputs": [
    {
     "data": {
      "text/html": [
       "<div>\n",
       "<style scoped>\n",
       "    .dataframe tbody tr th:only-of-type {\n",
       "        vertical-align: middle;\n",
       "    }\n",
       "\n",
       "    .dataframe tbody tr th {\n",
       "        vertical-align: top;\n",
       "    }\n",
       "\n",
       "    .dataframe thead th {\n",
       "        text-align: right;\n",
       "    }\n",
       "</style>\n",
       "<table border=\"1\" class=\"dataframe\">\n",
       "  <thead>\n",
       "    <tr style=\"text-align: right;\">\n",
       "      <th></th>\n",
       "      <th>num_room</th>\n",
       "      <th>full_sq</th>\n",
       "      <th>sport_count_5000</th>\n",
       "      <th>sport_count_3000</th>\n",
       "      <th>trc_count_5000</th>\n",
       "      <th>zd_vokzaly_avto_km</th>\n",
       "      <th>sadovoe_km</th>\n",
       "      <th>sport_count_2000</th>\n",
       "      <th>kremlin_km</th>\n",
       "      <th>bulvar_ring_km</th>\n",
       "      <th>...</th>\n",
       "      <th>exhibition_km</th>\n",
       "      <th>big_church_count_5000</th>\n",
       "      <th>sport_count_1000</th>\n",
       "      <th>office_sqm_1500</th>\n",
       "      <th>market_count_5000</th>\n",
       "      <th>school_education_centers_raion</th>\n",
       "      <th>museum_km</th>\n",
       "      <th>healthcare_centers_raion</th>\n",
       "      <th>big_church_km</th>\n",
       "      <th>price_doc</th>\n",
       "    </tr>\n",
       "  </thead>\n",
       "  <tbody>\n",
       "    <tr>\n",
       "      <td>0</td>\n",
       "      <td>1.962264</td>\n",
       "      <td>43</td>\n",
       "      <td>52</td>\n",
       "      <td>21</td>\n",
       "      <td>52</td>\n",
       "      <td>14.231961</td>\n",
       "      <td>13.100618</td>\n",
       "      <td>10</td>\n",
       "      <td>15.156211</td>\n",
       "      <td>13.675657</td>\n",
       "      <td>...</td>\n",
       "      <td>7.023705</td>\n",
       "      <td>13</td>\n",
       "      <td>6</td>\n",
       "      <td>39554</td>\n",
       "      <td>4</td>\n",
       "      <td>5</td>\n",
       "      <td>7.389498</td>\n",
       "      <td>1</td>\n",
       "      <td>0.625783</td>\n",
       "      <td>5850000</td>\n",
       "    </tr>\n",
       "    <tr>\n",
       "      <td>1</td>\n",
       "      <td>1.925926</td>\n",
       "      <td>34</td>\n",
       "      <td>66</td>\n",
       "      <td>19</td>\n",
       "      <td>40</td>\n",
       "      <td>9.242586</td>\n",
       "      <td>6.444333</td>\n",
       "      <td>11</td>\n",
       "      <td>8.698054</td>\n",
       "      <td>8.132640</td>\n",
       "      <td>...</td>\n",
       "      <td>2.358840</td>\n",
       "      <td>15</td>\n",
       "      <td>2</td>\n",
       "      <td>102910</td>\n",
       "      <td>14</td>\n",
       "      <td>8</td>\n",
       "      <td>0.709260</td>\n",
       "      <td>1</td>\n",
       "      <td>0.967821</td>\n",
       "      <td>6000000</td>\n",
       "    </tr>\n",
       "    <tr>\n",
       "      <td>2</td>\n",
       "      <td>1.858586</td>\n",
       "      <td>43</td>\n",
       "      <td>67</td>\n",
       "      <td>20</td>\n",
       "      <td>35</td>\n",
       "      <td>9.540544</td>\n",
       "      <td>6.963403</td>\n",
       "      <td>8</td>\n",
       "      <td>9.067885</td>\n",
       "      <td>8.054252</td>\n",
       "      <td>...</td>\n",
       "      <td>4.958214</td>\n",
       "      <td>11</td>\n",
       "      <td>5</td>\n",
       "      <td>0</td>\n",
       "      <td>10</td>\n",
       "      <td>7</td>\n",
       "      <td>3.156423</td>\n",
       "      <td>1</td>\n",
       "      <td>3.178751</td>\n",
       "      <td>5700000</td>\n",
       "    </tr>\n",
       "    <tr>\n",
       "      <td>3</td>\n",
       "      <td>2.132275</td>\n",
       "      <td>89</td>\n",
       "      <td>26</td>\n",
       "      <td>18</td>\n",
       "      <td>22</td>\n",
       "      <td>17.478380</td>\n",
       "      <td>17.457198</td>\n",
       "      <td>13</td>\n",
       "      <td>19.487005</td>\n",
       "      <td>18.309433</td>\n",
       "      <td>...</td>\n",
       "      <td>5.029696</td>\n",
       "      <td>4</td>\n",
       "      <td>3</td>\n",
       "      <td>11000</td>\n",
       "      <td>3</td>\n",
       "      <td>10</td>\n",
       "      <td>16.041521</td>\n",
       "      <td>1</td>\n",
       "      <td>1.031777</td>\n",
       "      <td>13100000</td>\n",
       "    </tr>\n",
       "    <tr>\n",
       "      <td>4</td>\n",
       "      <td>2.875000</td>\n",
       "      <td>77</td>\n",
       "      <td>195</td>\n",
       "      <td>77</td>\n",
       "      <td>114</td>\n",
       "      <td>1.595898</td>\n",
       "      <td>0.046810</td>\n",
       "      <td>21</td>\n",
       "      <td>2.578671</td>\n",
       "      <td>0.787593</td>\n",
       "      <td>...</td>\n",
       "      <td>1.339652</td>\n",
       "      <td>135</td>\n",
       "      <td>7</td>\n",
       "      <td>1195735</td>\n",
       "      <td>14</td>\n",
       "      <td>9</td>\n",
       "      <td>1.800125</td>\n",
       "      <td>4</td>\n",
       "      <td>0.378756</td>\n",
       "      <td>16331452</td>\n",
       "    </tr>\n",
       "  </tbody>\n",
       "</table>\n",
       "<p>5 rows × 51 columns</p>\n",
       "</div>"
      ],
      "text/plain": [
       "   num_room  full_sq  sport_count_5000  sport_count_3000  trc_count_5000  \\\n",
       "0  1.962264       43                52                21              52   \n",
       "1  1.925926       34                66                19              40   \n",
       "2  1.858586       43                67                20              35   \n",
       "3  2.132275       89                26                18              22   \n",
       "4  2.875000       77               195                77             114   \n",
       "\n",
       "   zd_vokzaly_avto_km  sadovoe_km  sport_count_2000  kremlin_km  \\\n",
       "0           14.231961   13.100618                10   15.156211   \n",
       "1            9.242586    6.444333                11    8.698054   \n",
       "2            9.540544    6.963403                 8    9.067885   \n",
       "3           17.478380   17.457198                13   19.487005   \n",
       "4            1.595898    0.046810                21    2.578671   \n",
       "\n",
       "   bulvar_ring_km  ...  exhibition_km  big_church_count_5000  \\\n",
       "0       13.675657  ...       7.023705                     13   \n",
       "1        8.132640  ...       2.358840                     15   \n",
       "2        8.054252  ...       4.958214                     11   \n",
       "3       18.309433  ...       5.029696                      4   \n",
       "4        0.787593  ...       1.339652                    135   \n",
       "\n",
       "   sport_count_1000  office_sqm_1500  market_count_5000  \\\n",
       "0                 6            39554                  4   \n",
       "1                 2           102910                 14   \n",
       "2                 5                0                 10   \n",
       "3                 3            11000                  3   \n",
       "4                 7          1195735                 14   \n",
       "\n",
       "   school_education_centers_raion  museum_km  healthcare_centers_raion  \\\n",
       "0                               5   7.389498                         1   \n",
       "1                               8   0.709260                         1   \n",
       "2                               7   3.156423                         1   \n",
       "3                              10  16.041521                         1   \n",
       "4                               9   1.800125                         4   \n",
       "\n",
       "   big_church_km  price_doc  \n",
       "0       0.625783    5850000  \n",
       "1       0.967821    6000000  \n",
       "2       3.178751    5700000  \n",
       "3       1.031777   13100000  \n",
       "4       0.378756   16331452  \n",
       "\n",
       "[5 rows x 51 columns]"
      ]
     },
     "execution_count": 132,
     "metadata": {},
     "output_type": "execute_result"
    }
   ],
   "source": [
    "house_df = pd.read_csv(\"../data/final.csv\",index_col=0)\n",
    "house_df.head()"
   ]
  },
  {
   "cell_type": "code",
   "execution_count": 133,
   "metadata": {},
   "outputs": [],
   "source": [
    "target = \"price_doc\"\n",
    "\n",
    "hundred_thousand = 100000\n",
    "\n",
    "X = house_df.drop([target], axis=1)\n",
    "X = (X-X.mean())/X.std()\n",
    "y = house_df[target]/hundred_thousand"
   ]
  },
  {
   "cell_type": "code",
   "execution_count": 156,
   "metadata": {},
   "outputs": [],
   "source": [
    "old_X_train, X_test, old_y_train, y_test = train_test_split(X,y, test_size=0.2)\n",
    "# Initial hyper parameters"
   ]
  },
  {
   "cell_type": "code",
   "execution_count": 157,
   "metadata": {},
   "outputs": [],
   "source": [
    "X_train, X_val, y_train, y_val = train_test_split(old_X_train, old_y_train, test_size=0.25)"
   ]
  },
  {
   "cell_type": "code",
   "execution_count": 158,
   "metadata": {},
   "outputs": [
    {
     "data": {
      "text/plain": [
       "(1.0, 1111.11112, 47.821700201078784, 71.47912918922447, 63.0)"
      ]
     },
     "execution_count": 158,
     "metadata": {},
     "output_type": "execute_result"
    }
   ],
   "source": [
    "y.min(), y.max(), y.std(),y.mean() ,y.median()"
   ]
  },
  {
   "cell_type": "code",
   "execution_count": 159,
   "metadata": {},
   "outputs": [
    {
     "data": {
      "text/plain": [
       "(1.0, 1111.11112, 48.99625873291613, 71.60908668042242, 62.773709999999994)"
      ]
     },
     "execution_count": 159,
     "metadata": {},
     "output_type": "execute_result"
    }
   ],
   "source": [
    "y_train.min(), y_train.max(), y_train.std(),y_train.mean(),y_train.median()"
   ]
  },
  {
   "cell_type": "code",
   "execution_count": 160,
   "metadata": {},
   "outputs": [
    {
     "data": {
      "text/plain": [
       "(3.31464, 712.0, 46.37173327037552, 72.00681180227771, 63.0)"
      ]
     },
     "execution_count": 160,
     "metadata": {},
     "output_type": "execute_result"
    }
   ],
   "source": [
    "y_val.min(), y_val.max(), y_val.std(),y_val.mean() ,y_val.median()"
   ]
  },
  {
   "cell_type": "code",
   "execution_count": 161,
   "metadata": {},
   "outputs": [
    {
     "data": {
      "text/plain": [
       "(1.9, 700.0, 45.62828051638949, 70.56163844858895, 62.9824)"
      ]
     },
     "execution_count": 161,
     "metadata": {},
     "output_type": "execute_result"
    }
   ],
   "source": [
    "y_test.min(), y_test.max(), y_test.std(),y_test.mean(),y_test.median()"
   ]
  },
  {
   "cell_type": "code",
   "execution_count": 167,
   "metadata": {},
   "outputs": [
    {
     "data": {
      "text/plain": [
       "2118     1111.11112\n",
       "28199     951.22496\n",
       "7453      910.66096\n",
       "19051     807.77440\n",
       "6315      788.02248\n",
       "3556      770.00000\n",
       "27345     712.49624\n",
       "11076     712.00000\n",
       "5725      710.33632\n",
       "29495     700.00000\n",
       "Name: price_doc, dtype: float64"
      ]
     },
     "execution_count": 167,
     "metadata": {},
     "output_type": "execute_result"
    }
   ],
   "source": [
    "y.nlargest(10)"
   ]
  },
  {
   "cell_type": "code",
   "execution_count": 168,
   "metadata": {},
   "outputs": [
    {
     "data": {
      "text/plain": [
       "145.34866599999995"
      ]
     },
     "execution_count": 168,
     "metadata": {},
     "output_type": "execute_result"
    }
   ],
   "source": [
    "y.quantile(0.95)"
   ]
  },
  {
   "cell_type": "markdown",
   "metadata": {},
   "source": [
    "### Initial Model"
   ]
  },
  {
   "cell_type": "code",
   "execution_count": 169,
   "metadata": {},
   "outputs": [],
   "source": [
    "# Constants Through all models\n",
    "max_epochs = 200 \n",
    "mse_diff = 0.00001 # cutoff to stop training\n",
    "activation = ReLU\n",
    "loss = L2_loss"
   ]
  },
  {
   "cell_type": "code",
   "execution_count": 172,
   "metadata": {},
   "outputs": [
    {
     "name": "stdout",
     "output_type": "stream",
     "text": [
      "7     141"
     ]
    }
   ],
   "source": [
    "layers = 1\n",
    "nodes = 4\n",
    "learning_rate = 0.00001\n",
    "batch_size = 128\n",
    "anneal = 0.5\n",
    "\n",
    "test_nn = NeuralNetwork(layers, nodes, activation, loss, learning_rate, batch_size, anneal = anneal)\n",
    "errs, mses  = test_nn.fit(X_train,y_train, X_val, y_val,  mse_diff = mse_diff, max_epochs = max_epochs, print_iter = True)"
   ]
  },
  {
   "cell_type": "code",
   "execution_count": 180,
   "metadata": {},
   "outputs": [
    {
     "data": {
      "text/plain": [
       "[<matplotlib.lines.Line2D at 0x1c36c27adc8>]"
      ]
     },
     "execution_count": 180,
     "metadata": {},
     "output_type": "execute_result"
    },
    {
     "data": {
      "image/png": "[encoded data removed]",
      "text/plain": [
       "<Figure size 432x288 with 1 Axes>"
      ]
     },
     "metadata": {
      "needs_background": "light"
     },
     "output_type": "display_data"
    }
   ],
   "source": [
    "fig = plt.figure()\n",
    "ax = plt.axes()\n",
    "x = np.linspace(0, 10, 1000)\n",
    "ax.plot([i for i in range(0,len(errs))], errs)"
   ]
  },
  {
   "cell_type": "code",
   "execution_count": 181,
   "metadata": {},
   "outputs": [
    {
     "data": {
      "text/plain": [
       "[<matplotlib.lines.Line2D at 0x1c36a50ae88>]"
      ]
     },
     "execution_count": 181,
     "metadata": {},
     "output_type": "execute_result"
    },
    {
     "data": {
      "image/png": "[encoded data removed]",
      "text/plain": [
       "<Figure size 432x288 with 1 Axes>"
      ]
     },
     "metadata": {
      "needs_background": "light"
     },
     "output_type": "display_data"
    }
   ],
   "source": [
    "fig = plt.figure()\n",
    "ax = plt.axes()\n",
    "x = np.linspace(0, 10, 1000)\n",
    "ax.plot([i for i in range(0,len(mses))], mses)"
   ]
  },
  {
   "cell_type": "code",
   "execution_count": 173,
   "metadata": {},
   "outputs": [
    {
     "data": {
      "text/plain": [
       "(1026.1881794228857, 32.034172057708716, 47.821700201078784)"
      ]
     },
     "execution_count": 173,
     "metadata": {},
     "output_type": "execute_result"
    }
   ],
   "source": [
    "preds = test_nn.predict(X_test)\n",
    "mse = np.mean((preds-y_test)**2)\n",
    "mse, np.sqrt(mse), y.std()"
   ]
  },
  {
   "cell_type": "code",
   "execution_count": 185,
   "metadata": {},
   "outputs": [
    {
     "name": "stdout",
     "output_type": "stream",
     "text": [
      "Iteration: 183 Complete"
     ]
    }
   ],
   "source": [
    "np.seterr(all='raise')\n",
    "\n",
    "hyperparameter_dict = {\n",
    "    \"layers\": [1,2,4,6],\n",
    "    \"nodes\": [4,6,8],\n",
    "    \"learning_rate\": [0.00001, 0.000001],\n",
    "    \"batch_size\":[128,256],\n",
    "    \"anneal\":[0.5,0.2]\n",
    "}\n",
    "\n",
    "iteration = 0\n",
    "model_dict = {\"Initial\": [errs,mses,test_nn]}\n",
    "for a in range(len(hyperparameter_dict[\"layers\"])):\n",
    "    for b in range(len(hyperparameter_dict[\"nodes\"])):\n",
    "        for c in range(len(hyperparameter_dict[\"learning_rate\"])):\n",
    "            for d in range(len(hyperparameter_dict[\"batch_size\"])):\n",
    "                for e in range(len(hyperparameter_dict[\"anneal\"])):\n",
    "                    \n",
    "                    key = str(a)+str(b)+str(c)+str(d)+str(e)\n",
    "                    try:\n",
    "                        layers = hyperparameter_dict[\"layers\"][a]\n",
    "                        nodes = hyperparameter_dict[\"nodes\"][b]\n",
    "                        learning_rate = hyperparameter_dict[\"learning_rate\"][c]\n",
    "                        batch_size = hyperparameter_dict[\"batch_size\"][d]\n",
    "                        anneal = hyperparameter_dict[\"anneal\"][e]\n",
    "                        key = str(a)+str(b)+str(c)+str(d)+str(e)\n",
    "                        test_nn = NeuralNetwork(layers, nodes, activation, loss, learning_rate, batch_size, anneal = anneal)\n",
    "                        model_dict[key] = test_nn.fit(X_train,y_train, X_val, y_val,  mse_diff = mse_diff, max_epochs = max_epochs, print_iter = True)\n",
    "                        model_dict[key] = list(model_dict[key])\n",
    "                        model_dict[key].append(test_nn)\n",
    "                        \n",
    "                        sys.stdout.write(\"\\r\" +\"Iteration: \"+  str(iteration) +\" Complete\")\n",
    "                        iteration+=1\n",
    "                        sys.stdout.flush() \n",
    "                    except:\n",
    "                        model_dict[key] =(np.nan,np.nan,np.nan)\n",
    "                    \n",
    "                    sys.stdout.write(\"\\r\" +\"Iteration: \"+  str(iteration) +\" Complete\")\n",
    "                    iteration+=1\n",
    "                    sys.stdout.flush() \n",
    "                    \n",
    "                    "
   ]
  },
  {
   "cell_type": "code",
   "execution_count": 188,
   "metadata": {},
   "outputs": [],
   "source": [
    "best_acc = []\n",
    "\n",
    "for key in model_dict:\n",
    "    test_nn = model_dict[key][2]\n",
    "    if test_nn:\n",
    "        try:\n",
    "            preds = test_nn.predict(X_test)\n",
    "            mse = np.mean((preds-y_test)**2)\n",
    "            best_acc.append((key,mse))\n",
    "    \n",
    "        except:\n",
    "            continue\n",
    "best_acc\n",
    "best_acc = sorted(best_acc,key=lambda x: x[1])"
   ]
  },
  {
   "cell_type": "code",
   "execution_count": 189,
   "metadata": {},
   "outputs": [
    {
     "data": {
      "text/plain": [
       "[('21100', 968.633459774198),\n",
       " ('01000', 969.3117726324676),\n",
       " ('32101', 969.9720860835199),\n",
       " ('21111', 1002.5397236744162),\n",
       " ('02000', 1051.007823096605)]"
      ]
     },
     "execution_count": 189,
     "metadata": {},
     "output_type": "execute_result"
    }
   ],
   "source": [
    "top_five_models = best_acc[0:5]\n",
    "top_five_models"
   ]
  },
  {
   "cell_type": "markdown",
   "metadata": {},
   "source": [
    "### Best Model\n",
    "\n",
    "- Layers:1\n",
    "- Nodes:3\n",
    "- Learning Rate:0.00001\n",
    "- Batch size: 128\n",
    "- Anneal = 0.5"
   ]
  },
  {
   "cell_type": "code",
   "execution_count": 204,
   "metadata": {},
   "outputs": [
    {
     "data": {
      "text/plain": [
       "(27.175131300010456,\n",
       " 523.3446963282564,\n",
       " 70.26841850322975,\n",
       " 62.017934296747356,\n",
       " 52.897723858463536,\n",
       " 73.85884838749075)"
      ]
     },
     "execution_count": 204,
     "metadata": {},
     "output_type": "execute_result"
    }
   ],
   "source": [
    "errs = model_dict[\"21100\"][0]\n",
    "mses = model_dict[\"21100\"][1]\n",
    "preds = pd.Series(model_dict[\"21100\"][2].predict(X_test))\n",
    "preds.min(),preds.max(), preds.mean(),preds.median(),preds.quantile(0.25), preds.quantile(0.75)"
   ]
  },
  {
   "cell_type": "code",
   "execution_count": 205,
   "metadata": {},
   "outputs": [
    {
     "data": {
      "text/plain": [
       "(1.9, 700.0, 70.56163844858895, 62.9824, 47.8556, 81.520875)"
      ]
     },
     "execution_count": 205,
     "metadata": {},
     "output_type": "execute_result"
    }
   ],
   "source": [
    "y_test.min(), y_test.max(),y_test.mean(),y_test.median(),y_test.quantile(0.25),y_test.quantile(0.75)"
   ]
  },
  {
   "cell_type": "code",
   "execution_count": 195,
   "metadata": {},
   "outputs": [
    {
     "data": {
      "text/plain": [
       "[<matplotlib.lines.Line2D at 0x1c30e87f548>]"
      ]
     },
     "execution_count": 195,
     "metadata": {},
     "output_type": "execute_result"
    },
    {
     "data": {
      "image/png": "[encoded data removed]",
      "text/plain": [
       "<Figure size 432x288 with 1 Axes>"
      ]
     },
     "metadata": {
      "needs_background": "light"
     },
     "output_type": "display_data"
    }
   ],
   "source": [
    "fig = plt.figure()\n",
    "ax = plt.axes()\n",
    "x = np.linspace(0, 10, 1000)\n",
    "ax.plot([i for i in range(0,len(errs))], errs)"
   ]
  },
  {
   "cell_type": "code",
   "execution_count": 196,
   "metadata": {},
   "outputs": [
    {
     "data": {
      "text/plain": [
       "[<matplotlib.lines.Line2D at 0x1c30e8e4d08>]"
      ]
     },
     "execution_count": 196,
     "metadata": {},
     "output_type": "execute_result"
    },
    {
     "data": {
      "image/png": "[encoded data removed]",
      "text/plain": [
       "<Figure size 432x288 with 1 Axes>"
      ]
     },
     "metadata": {
      "needs_background": "light"
     },
     "output_type": "display_data"
    }
   ],
   "source": [
    "fig = plt.figure()\n",
    "ax = plt.axes()\n",
    "x = np.linspace(0, 10, 1000)\n",
    "ax.plot([i for i in range(0,len(mses))], mses)"
   ]
  },
  {
   "cell_type": "code",
   "execution_count": 197,
   "metadata": {},
   "outputs": [
    {
     "name": "stdout",
     "output_type": "stream",
     "text": [
      "21100\n",
      "01000\n",
      "32101\n",
      "21111\n",
      "02000\n"
     ]
    },
    {
     "data": {
      "image/png": "[encoded data removed]",
      "text/plain": [
       "<Figure size 432x288 with 1 Axes>"
      ]
     },
     "metadata": {
      "needs_background": "light"
     },
     "output_type": "display_data"
    },
    {
     "data": {
      "image/png": "[encoded data removed]",
      "text/plain": [
       "<Figure size 432x288 with 1 Axes>"
      ]
     },
     "metadata": {
      "needs_background": "light"
     },
     "output_type": "display_data"
    },
    {
     "data": {
      "image/png": "[encoded data removed]",
      "text/plain": [
       "<Figure size 432x288 with 1 Axes>"
      ]
     },
     "metadata": {
      "needs_background": "light"
     },
     "output_type": "display_data"
    },
    {
     "data": {
      "image/png": "[encoded data removed]",
      "text/plain": [
       "<Figure size 432x288 with 1 Axes>"
      ]
     },
     "metadata": {
      "needs_background": "light"
     },
     "output_type": "display_data"
    },
    {
     "data": {
      "image/png": "[encoded data removed]",
      "text/plain": [
       "<Figure size 432x288 with 1 Axes>"
      ]
     },
     "metadata": {
      "needs_background": "light"
     },
     "output_type": "display_data"
    }
   ],
   "source": [
    "for model in top_five_models:\n",
    "    print(model[0])\n",
    "    errs = model_dict[model[0]][0]\n",
    "    fig = plt.figure()\n",
    "    ax = plt.axes()\n",
    "    x = np.linspace(0, 10, 1000)\n",
    "    ax.plot([i for i in range(0,len(errs))], errs)"
   ]
  },
  {
   "cell_type": "code",
   "execution_count": 198,
   "metadata": {},
   "outputs": [
    {
     "name": "stdout",
     "output_type": "stream",
     "text": [
      "21100\n",
      "01000\n",
      "32101\n",
      "21111\n",
      "02000\n"
     ]
    },
    {
     "data": {
      "image/png": "[encoded data removed]",
      "text/plain": [
       "<Figure size 432x288 with 1 Axes>"
      ]
     },
     "metadata": {
      "needs_background": "light"
     },
     "output_type": "display_data"
    },
    {
     "data": {
      "image/png": "[encoded data removed]",
      "text/plain": [
       "<Figure size 432x288 with 1 Axes>"
      ]
     },
     "metadata": {
      "needs_background": "light"
     },
     "output_type": "display_data"
    },
    {
     "data": {
      "image/png": "[encoded data removed]",
      "text/plain": [
       "<Figure size 432x288 with 1 Axes>"
      ]
     },
     "metadata": {
      "needs_background": "light"
     },
     "output_type": "display_data"
    },
    {
     "data": {
      "image/png": "[encoded data removed]",
      "text/plain": [
       "<Figure size 432x288 with 1 Axes>"
      ]
     },
     "metadata": {
      "needs_background": "light"
     },
     "output_type": "display_data"
    },
    {
     "data": {
      "image/png": "[encoded data removed]",
      "text/plain": [
       "<Figure size 432x288 with 1 Axes>"
      ]
     },
     "metadata": {
      "needs_background": "light"
     },
     "output_type": "display_data"
    }
   ],
   "source": [
    "for model in top_five_models:\n",
    "    print(model[0])\n",
    "    mses = model_dict[model[0]][1]\n",
    "    fig = plt.figure()\n",
    "    ax = plt.axes()\n",
    "    x = np.linspace(0, 10, 1000)\n",
    "    ax.plot([i for i in range(0,len(mses))], mses)"
   ]
  }
 ],
 "metadata": {
  "kernelspec": {
   "display_name": "Python 3",
   "language": "python",
   "name": "python3"
  },
  "language_info": {
   "codemirror_mode": {
    "name": "ipython",
    "version": 3
   },
   "file_extension": ".py",
   "mimetype": "text/x-python",
   "name": "python",
   "nbconvert_exporter": "python",
   "pygments_lexer": "ipython3",
   "version": "3.7.4"
  }
 },
 "nbformat": 4,
 "nbformat_minor": 2
}
