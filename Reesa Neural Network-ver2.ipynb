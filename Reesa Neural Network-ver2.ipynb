{
 "cells": [
  {
   "cell_type": "markdown",
   "metadata": {},
   "source": [
    "Neural netowrk funcs\n",
    "\n",
    "Layers: an Integer value representing the total number of hidden layers in the network\n",
    "(input and output layers are extra)\n",
    "\n",
    "● Nodes: an integer array of size [0,..,Layers+1] containing the dimensions of the neural\n",
    "network. Nodes[0] shall represent the input size (typically, 50), Nodes[Layers+1]\n",
    "\n",
    "shall represent the number of output nodes (typically, 1). All other values Nodes[i]\n",
    "represent the number of nodes in hidden layer i.\n",
    "● NNodes: a possible alternative to the Nodes parameter for situations where you want\n",
    "each hidden layer of the neural network to be of the same size. In this case, the size of\n",
    "the output layer is assumed to be 1, and the size of the input layer can be inferred from\n",
    "the dataset.\n",
    "● Activations: an array of size [0,..,Layers+1] (for the sake of compatibility) in which\n",
    "Activations[0] and Activations[Layers+1] are not used, while all other\n",
    "Activations[i] values are labels indicating the activation function used in layer i.\n",
    "This allows you to build neural networks with different activation functions in each layer.\n",
    "● ActivationFn: a possible alternative to Activations when all hidden layers of your neural\n",
    "network use the same activation function.\n",
    "\n",
    "params: layers: # of hidden layers, \n",
    "\tnodes: if int: number of nodes for each hidden layer (when creating hidden layer, add 1 extraa node for bias term)\n",
    "\t       if arr: number elems in arr should be same as layers, each num will be number of nodes for the hidden layer\n",
    "\tactivation: apply to all hidden layers\n",
    "\tlearning rate:\n",
    "\tbatch size:\n",
    "\n",
    "\n",
    "when initializing, need to generate random weights for all the layers"
   ]
  },
  {
   "cell_type": "markdown",
   "metadata": {},
   "source": [
    "x: num_obs x num_features\n",
    "\n",
    "w1+b: num_features(x) + 1 x width + 1 (of h1)\n",
    "\n",
    "h1 = num_obs x width+1(of h2)\n",
    "\n",
    "w2+b: width+1(of h1) x width+1 (of h2)\n",
    "*****\n",
    "\n",
    "h2 = num_obs x width+1(of h2) (of h2)\n",
    "\n",
    "w3+b = width+1(of h2) x 1(we only want it output a single value per observation)\n",
    "\n",
    "\n",
    "y = num_obs x 1"
   ]
  },
  {
   "cell_type": "code",
   "execution_count": 2,
   "metadata": {},
   "outputs": [],
   "source": [
    "import numpy as np\n",
    "import pandas as pd"
   ]
  },
  {
   "cell_type": "code",
   "execution_count": 48,
   "metadata": {},
   "outputs": [],
   "source": [
    "x = np.array([[1,2,3],\n",
    "              [3,1,5],\n",
    "             [3,2,5]])\n",
    "\n",
    "y = np.array([[8,10,11]]).T"
   ]
  },
  {
   "cell_type": "code",
   "execution_count": 49,
   "metadata": {},
   "outputs": [],
   "source": [
    "width = 4\n",
    "\n",
    "# adding the intercept column\n",
    "X = np.hstack([np.ones(len(x))[:, np.newaxis], x]) \n",
    "\n",
    "# num features x width+1 for bias\n",
    "w1 =  np.random.rand(X.shape[1],width + 1)\n",
    "\n",
    "w2 = np.random.rand(w1.shape[1],width + 1)\n",
    "\n",
    "\n",
    "w3 =  np.random.rand(w2.shape[1],1)\n",
    "\n"
   ]
  },
  {
   "cell_type": "code",
   "execution_count": 50,
   "metadata": {},
   "outputs": [
    {
     "data": {
      "text/plain": [
       "array([[1., 1., 2., 3.],\n",
       "       [1., 3., 1., 5.],\n",
       "       [1., 3., 2., 5.]])"
      ]
     },
     "execution_count": 50,
     "metadata": {},
     "output_type": "execute_result"
    }
   ],
   "source": [
    "X"
   ]
  },
  {
   "cell_type": "code",
   "execution_count": 51,
   "metadata": {},
   "outputs": [
    {
     "data": {
      "text/plain": [
       "array([[ 8],\n",
       "       [10],\n",
       "       [11]])"
      ]
     },
     "execution_count": 51,
     "metadata": {},
     "output_type": "execute_result"
    }
   ],
   "source": [
    "y"
   ]
  },
  {
   "cell_type": "code",
   "execution_count": 52,
   "metadata": {},
   "outputs": [
    {
     "data": {
      "text/plain": [
       "(array([[1., 3., 2., 5.],\n",
       "        [1., 3., 1., 5.]]), array([[11],\n",
       "        [10]]))"
      ]
     },
     "execution_count": 52,
     "metadata": {},
     "output_type": "execute_result"
    }
   ],
   "source": [
    "ind = np.random.choice(X.shape[0], size=2, replace=False)\n",
    "X[ind], y[ind]"
   ]
  },
  {
   "cell_type": "code",
   "execution_count": 8,
   "metadata": {},
   "outputs": [
    {
     "data": {
      "text/plain": [
       "(4, 5)"
      ]
     },
     "execution_count": 8,
     "metadata": {},
     "output_type": "execute_result"
    }
   ],
   "source": [
    "w1.shape"
   ]
  },
  {
   "cell_type": "code",
   "execution_count": 70,
   "metadata": {},
   "outputs": [
    {
     "data": {
      "text/plain": [
       "(5, 5)"
      ]
     },
     "execution_count": 70,
     "metadata": {},
     "output_type": "execute_result"
    }
   ],
   "source": [
    "w2.shape"
   ]
  },
  {
   "cell_type": "code",
   "execution_count": 71,
   "metadata": {},
   "outputs": [
    {
     "data": {
      "text/plain": [
       "(5, 1)"
      ]
     },
     "execution_count": 71,
     "metadata": {},
     "output_type": "execute_result"
    }
   ],
   "source": [
    "w3.shape"
   ]
  },
  {
   "cell_type": "code",
   "execution_count": 72,
   "metadata": {},
   "outputs": [],
   "source": [
    "layer1 = X @ w1"
   ]
  },
  {
   "cell_type": "code",
   "execution_count": 73,
   "metadata": {},
   "outputs": [
    {
     "data": {
      "text/plain": [
       "array([[ 7.72742855,  6.09062131, 13.24652654,  5.13333748,  7.57130852],\n",
       "       [11.24711127,  9.28111478, 19.39809361,  7.51865319, 11.09621333]])"
      ]
     },
     "execution_count": 73,
     "metadata": {},
     "output_type": "execute_result"
    }
   ],
   "source": [
    "layer2 = layer1 @ w2\n",
    "layer2"
   ]
  },
  {
   "cell_type": "code",
   "execution_count": 84,
   "metadata": {},
   "outputs": [
    {
     "data": {
      "text/plain": [
       "array([[17.04919687],\n",
       "       [25.20450137]])"
      ]
     },
     "execution_count": 84,
     "metadata": {},
     "output_type": "execute_result"
    }
   ],
   "source": [
    "layer3 = layer2 @ w3\n",
    "layer3"
   ]
  },
  {
   "cell_type": "code",
   "execution_count": 92,
   "metadata": {},
   "outputs": [
    {
     "data": {
      "text/plain": [
       "0     8\n",
       "1    10\n",
       "dtype: int32"
      ]
     },
     "execution_count": 92,
     "metadata": {},
     "output_type": "execute_result"
    }
   ],
   "source": [
    "y = pd.Series(y)"
   ]
  },
  {
   "cell_type": "code",
   "execution_count": 96,
   "metadata": {},
   "outputs": [
    {
     "data": {
      "text/plain": [
       "78.26620644625197"
      ]
     },
     "execution_count": 96,
     "metadata": {},
     "output_type": "execute_result"
    }
   ],
   "source": [
    "np.mean(0.5*((layer3 - np.array([y]).T))**2)"
   ]
  },
  {
   "cell_type": "code",
   "execution_count": 82,
   "metadata": {},
   "outputs": [
    {
     "data": {
      "text/plain": [
       "[1, 1, 1, 1]"
      ]
     },
     "execution_count": 82,
     "metadata": {},
     "output_type": "execute_result"
    }
   ],
   "source": [
    "[1]*4"
   ]
  },
  {
   "cell_type": "code",
   "execution_count": 110,
   "metadata": {},
   "outputs": [
    {
     "data": {
      "text/plain": [
       "array([[-1.12539841,  0.53680582, -0.20907713, ..., -1.14332502,\n",
       "        -1.41142912,  0.06681401],\n",
       "       [ 0.45976944,  1.34320504, -0.87295915, ...,  0.61572105,\n",
       "         0.12333779, -1.06966138],\n",
       "       [ 0.21569615, -0.32100982,  0.38303724, ...,  0.80465712,\n",
       "         2.07986533,  1.44494055],\n",
       "       ...,\n",
       "       [-2.06144605,  1.20164166,  1.67572709, ..., -1.81645773,\n",
       "         0.0304565 ,  0.10586797],\n",
       "       [ 0.20019799, -0.86703018, -1.19623608, ...,  0.65106383,\n",
       "        -0.45829318, -1.82245288],\n",
       "       [ 1.35220736, -0.23932862, -1.42889206, ...,  1.39066204,\n",
       "        -0.2417065 ,  0.29571272]])"
      ]
     },
     "execution_count": 110,
     "metadata": {},
     "output_type": "execute_result"
    }
   ],
   "source": [
    "temp = np.random.randn(1000,1000)\n",
    "temp"
   ]
  },
  {
   "cell_type": "code",
   "execution_count": null,
   "metadata": {},
   "outputs": [],
   "source": [
    "def loss(x,y, derivative):\n",
    "    # assumes y is nx1 vector (n rows, 1 col)\n",
    "    if derivative:\n",
    "        return x-y\n",
    "    else:\n",
    "        return 0.5*((x-y)**2)\n",
    "        \n",
    "def ReLU(X, derivative):\n",
    "    if derivative:\n",
    "        # faster than np.where\n",
    "        np.greater(temp, 0).astype(int)\n",
    "    return np.maximum(X,0)"
   ]
  },
  {
   "cell_type": "code",
   "execution_count": 102,
   "metadata": {},
   "outputs": [
    {
     "data": {
      "text/plain": [
       "array([[1, 2, 3],\n",
       "       [4, 5, 6],\n",
       "       [0, 2, 0]])"
      ]
     },
     "execution_count": 102,
     "metadata": {},
     "output_type": "execute_result"
    }
   ],
   "source": [
    "temp = np.array([\n",
    "    [1,2,3],\n",
    "    [4,5,6],\n",
    "    [-1,2,-3]\n",
    "])\n",
    "\n",
    "\n",
    "#temp.shape"
   ]
  },
  {
   "cell_type": "code",
   "execution_count": 15,
   "metadata": {},
   "outputs": [
    {
     "name": "stdout",
     "output_type": "stream",
     "text": [
      "9\n",
      "8\n",
      "7\n",
      "6\n",
      "5\n",
      "4\n",
      "3\n",
      "2\n",
      "1\n",
      "0\n"
     ]
    }
   ],
   "source": [
    "for i in range(10-1,-1,-1):\n",
    "    print(i)"
   ]
  },
  {
   "cell_type": "code",
   "execution_count": 1,
   "metadata": {},
   "outputs": [
    {
     "ename": "SyntaxError",
     "evalue": "invalid syntax (<ipython-input-1-778ba0061c9b>, line 65)",
     "output_type": "error",
     "traceback": [
      "\u001b[1;36m  File \u001b[1;32m\"<ipython-input-1-778ba0061c9b>\"\u001b[1;36m, line \u001b[1;32m65\u001b[0m\n\u001b[1;33m    for i in range(0,self.num_layers)\u001b[0m\n\u001b[1;37m                                     ^\u001b[0m\n\u001b[1;31mSyntaxError\u001b[0m\u001b[1;31m:\u001b[0m invalid syntax\n"
     ]
    }
   ],
   "source": [
    "class NeuralNetwork:\n",
    "    \n",
    "    def __init__(self, layers, nodes, activation, loss, learning_rate, batch_size):\n",
    "        \n",
    "        # number of hidden layers we are creating\n",
    "        self.num_layers = layers\n",
    "        \n",
    "        # number of nodes at each layer\n",
    "        self.nodes = _create_nodes(nodes,layers)\n",
    "        \n",
    "        # activation function\n",
    "        self.sigma = activation\n",
    "                \n",
    "        # loss function\n",
    "        self.loss = loss\n",
    "        \n",
    "        # learning rate for stochastic gradient descent\n",
    "        self.lr = learning_rate\n",
    "        \n",
    "        # batch size for stochastic gradient descent\n",
    "        self.batch_size = batch_size\n",
    "\n",
    "        # after fit, will contain a dictionary of weights for the layers\n",
    "        self.weights = None\n",
    "        \n",
    "        # store values for backwards propagation\n",
    "        self.stored = {}\n",
    "\n",
    "        \n",
    "    def _create_nodes(self, nodes, layers):\n",
    "        \n",
    "        if isinstance(nodes, int):\n",
    "            return [nodes]*(layers)\n",
    "        \n",
    "        else:\n",
    "            return nodes\n",
    "        \n",
    "    def _create_weights(num_features):\n",
    "        \n",
    "        # for 3 hidden layers\n",
    "        \n",
    "        #0 between input layer and hidden layer 1: \n",
    "        #1 hidden layer 1 to hidden layer 2: width x width\n",
    "        #2 hidden layer 2 to hidden layer 3: width x width\n",
    "        #3 hidden layer 3 to y :width x 1\n",
    "        \n",
    "        #so self.layers[0] will always be numfeatures x width(of first hidden layer)\n",
    "        # self.layers[num_layers] = widthx1\n",
    "        \n",
    "        self.weight_dict = {\n",
    "            0: np.random.rand(num_features, self.nodes[0])\n",
    "        }\n",
    "        \n",
    "        for i in range(1,self.num_layers):\n",
    "            self.weight_dict[i] = np.random.rand(self.nodes[i-1], self.nodes[i])\n",
    "            \n",
    "        self.weight_dict[self.num_layers] = np.random.rand(self.nodes[self.num_layers-1], 1)\n",
    "        \n",
    "        \n",
    "    def _forward_propagation(X,y):\n",
    "        # need to figure out what weights to save and how to backprop\n",
    "        \n",
    "        sigma_h_x = X\n",
    "        \n",
    "        for i in range(0,self.num_layers)\n",
    "            h_x = sigma_h_x @ self.weight_dict[i]\n",
    "            sigma_h_x = self.sigma(h_x) \n",
    "            self.stored[i] = [h_x, sigma_h_x]\n",
    "        \n",
    "        z_sigma_h_x = sigma_h_x @ self.weight_dict[num_layers]\n",
    "        self.stored[self.num_layers] = [z_sigma_h_x]\n",
    "        \n",
    "        return np.sum(self.loss(z_sigma_h_x, y))/self.b #summation of num_obs x 1 array divide by batchsize\n",
    "        \"\"\"\n",
    "        2 hidden layer example\n",
    "        weight 0: [h1(x), sigma(h1(x))] #X to h1\n",
    "        weight 1: [h2(sigma(h1(x))), sigma(h2(sigma(h1(x))))] #h1 to h2\n",
    "        weight 2: [z(sigma(h2(sigma(h1(x)))))] #h2 to y\n",
    "        \"\"\"\n",
    "    def _backward_propagation(X,y):\n",
    "        \n",
    "        # network: X -w0-sigma-> h1 -w1-sigma-> h2 -w2-> y\n",
    "        \n",
    "        expected = self.stored[self.num_layers][0] #z(sigma(h2(sigma(h1(x)))))\n",
    "        J = self.loss(expected, y, derivative = True) # dL/dz(z(sigma(h2(sigma(h1(x))))))\n",
    "        \n",
    "        for i in range(self.num_layers,0,-1):\n",
    "            \n",
    "            self.weight_dict[i] = self.weight_dict[i] -self.lr*(self.stored[i-1][1].T @ J)\n",
    "            J =  J @ self.sigma(self.stored[i-1][1], derivative = True)\n",
    "            J =  J @ self.stored[i-1][0].T\n",
    "\n",
    "        #final weight update\n",
    "        self.weight_dict[0] = X.T @ J #dh1/dw0(x)\n",
    "        \n",
    "        \n",
    "    \n",
    "    def _stochastic_gradient_descent(X, y, num_iterations, print_iter):\n",
    "        # how to integrate forward and back vias sgd\n",
    "        \n",
    "        avg_err_arr = [np.nan]*num_iterations\n",
    "        \n",
    "        indices = np.random.choice(X.shape[0], self.batch_size, replace=False)\n",
    "        x_batch = X[indices]\n",
    "        y_batch =y[indices]\n",
    "        \n",
    "        avg_err_arr[0] = self._forward_propagation(batch,y_batch)\n",
    "        \n",
    "        for i in range(1,num_iterations)\n",
    "\n",
    "            self._backward_propagation(x_batch,y_batch)\n",
    "            indices = np.random.choice(X.shape[0], self.batch_size, replace=False)\n",
    "            x_batch = X[indices]\n",
    "            y_batch =y[indices]\n",
    "        \n",
    "            avg_err_arr[i] = self._forward_propagation(batch,y_batch)\n",
    "            \n",
    "        \n",
    "        return avg_err_arr\n",
    "        \n",
    "    \n",
    "    def fit(X,y, num_iterations = 1000, print_iter = False):\n",
    "        \n",
    "        # add intercept to X\n",
    "        X = np.hstack([np.ones(len(x))[:, np.newaxis], x])  \n",
    "        y = np.array([y]).T # makes it easier to calculate loss\n",
    "        \n",
    "        # generate the random weights for every layer in neural network\n",
    "        self.weights = self._create_weights(X.shape[1])\n",
    "        \n",
    "        self._stochastic_gradient_descent(X,y,num_iterations, print_iter)\n",
    "        \n",
    "        #self._forward_propagation(X,y)\n",
    "        \n",
    "        pass\n",
    "    \n",
    "    # forward propagation without saved vals for speed\n",
    "    def predict(X):\n",
    "        sigma_h_x = X\n",
    "        \n",
    "        for i in range(0,self.num_layers)\n",
    "            h_x = sigma_h_x @ self.weight_dict[i]\n",
    "            sigma_h_x = self.sigma(h_x) \n",
    "        \n",
    "        z_sigma_h_x = sigma_h_x @ self.weight_dict[num_layers]\n",
    "        return z_sigma_h_x\n",
    "        "
   ]
  },
  {
   "cell_type": "code",
   "execution_count": 2,
   "metadata": {},
   "outputs": [
    {
     "data": {
      "text/plain": [
       "'\\n\\n#         Jw1 = self.stored[self.num_layers-2][1].T @ J #dh2/dw1(sigma(h1(x)))\\n#         J =  J @ self.sigma(self.stored[self.num_layers-2][1], derivative = True) #dh2/dsigma(sigma(h1(x)))\\n#         J =  J @ self.stored[self.num_layers-2][0].T  #dsigma/dh1(h1(x))\\n        \\n\\n'"
      ]
     },
     "execution_count": 2,
     "metadata": {},
     "output_type": "execute_result"
    }
   ],
   "source": [
    "\"\"\"\n",
    "\n",
    "#         Jw1 = self.stored[self.num_layers-2][1].T @ J #dh2/dw1(sigma(h1(x)))\n",
    "#         J =  J @ self.sigma(self.stored[self.num_layers-2][1], derivative = True) #dh2/dsigma(sigma(h1(x)))\n",
    "#         J =  J @ self.stored[self.num_layers-2][0].T  #dsigma/dh1(h1(x))\n",
    "        \n",
    "\n",
    "\"\"\""
   ]
  },
  {
   "cell_type": "code",
   "execution_count": null,
   "metadata": {},
   "outputs": [],
   "source": []
  }
 ],
 "metadata": {
  "kernelspec": {
   "display_name": "Python 3",
   "language": "python",
   "name": "python3"
  },
  "language_info": {
   "codemirror_mode": {
    "name": "ipython",
    "version": 3
   },
   "file_extension": ".py",
   "mimetype": "text/x-python",
   "name": "python",
   "nbconvert_exporter": "python",
   "pygments_lexer": "ipython3",
   "version": "3.7.4"
  }
 },
 "nbformat": 4,
 "nbformat_minor": 2
}
